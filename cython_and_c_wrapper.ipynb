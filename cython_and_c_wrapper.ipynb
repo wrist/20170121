{
 "cells": [
  {
   "cell_type": "markdown",
   "metadata": {
    "nbpresent": {
     "id": "e36a3822-0ae2-448a-bfea-c4deb58bd608"
    }
   },
   "source": [
    "# CythonによるC/C++とPythonの連携 #\n",
    "\n",
    "* 大橋 宏正\n",
    "* twitter: @wrist"
   ]
  },
  {
   "cell_type": "markdown",
   "metadata": {
    "nbpresent": {
     "id": "b8ad4a2d-9d4d-470f-ac19-9ecf6bcd9199"
    }
   },
   "source": [
    "## 自己紹介 ##\n",
    "\n",
    "* 音響信号処理が専門のエンジニア\n",
    "    * 某メーカー勤務\n",
    "    * 収音系処理(マイクロホン)がメイン\n",
    "* よく使うScipy\n",
    "    * fftpack\n",
    "    * signal"
   ]
  },
  {
   "cell_type": "markdown",
   "metadata": {
    "nbpresent": {
     "id": "18c45a4b-3e89-41cb-a2ce-096f782b1fd9"
    }
   },
   "source": [
    "## 宣伝 ##\n",
    "\n",
    "* 書籍「行列プログラマー」のオンライン読書会をやっています\n",
    "* https://osaka-prml-reading.connpass.com/event/48885/\n",
    "* 毎週土曜夜21:00-23:00に開催\n",
    "* トチ狂って本日21時からもやることになっています"
   ]
  },
  {
   "cell_type": "markdown",
   "metadata": {
    "nbpresent": {
     "id": "07d377bd-7e4b-4ae1-8fe9-6dea3a4ac5f3"
    }
   },
   "source": [
    "## 本日の資料 ##\n",
    "\n",
    "* https://github.com/wrist/pydata-osaka3"
   ]
  },
  {
   "cell_type": "markdown",
   "metadata": {
    "nbpresent": {
     "id": "8c214f33-1ec0-448b-99c3-d74aa91c3fad"
    }
   },
   "source": [
    "## 本日の内容 ##\n",
    "\n",
    "* Cythonの概要\n",
    "* Cythonの動作およびビルド方法\n",
    "* `%%cython`マジックコマンドによるJupyter notebook上での高速化\n",
    "    * アノテーションによるボトルネックの改善\n",
    "* Cコード(`libsndfile`)に対するラッパー作成\n",
    "* 時間がないためC++コードに対するラッパー作成方法の紹介については割愛"
   ]
  },
  {
   "cell_type": "markdown",
   "metadata": {
    "nbpresent": {
     "id": "e9727a53-4edd-40c8-8f76-c90f22d85502"
    }
   },
   "source": [
    "## 今回の発表の背景 ##\n",
    "\n",
    "* 業務上Pythonでアルゴリズム検討の上、C/C++でプロトタイプ実装を行うことが多い\n",
    "* 今回の発表の個人的な目的\n",
    "    * アルゴリズム検討の高速化\n",
    "        * 信号処理はサンプル/フレーム単位の積和処理ばかりだがPythonだとループが遅い\n",
    "    * 既存C/C++資産の活用"
   ]
  },
  {
   "cell_type": "markdown",
   "metadata": {
    "nbpresent": {
     "id": "f9ee206e-9e82-405b-b6eb-af7fff95ea8f"
    }
   },
   "source": [
    "## Cythonとは ##\n",
    "\n",
    "* PythonとCを混在可能な言語\n",
    "    * 静的型付けによる高速化の恩恵とPythonの書きやすさを両立\n",
    "    * コンパイルするとPython/C APIを使用するC/C++コードを生成\n",
    "    * 生成されたC/C++コードをビルドするとPythonから使用可能な拡張モジュールを生成\n",
    "* 使用目的\n",
    "    * 静的型付けによる最適化・高速化\n",
    "    * C/C++とのグルー言語"
   ]
  },
  {
   "cell_type": "markdown",
   "metadata": {
    "nbpresent": {
     "id": "0511791b-804e-4f3b-9142-2e2dbb65be62"
    }
   },
   "source": [
    "## cython.orgのトップページから引用・意訳 ##\n",
    "\n",
    "* http://cython.org/\n",
    "*  CythonではPythonとCの融合によって以下のようなことを可能とする\n",
    "    * C/C++で書かれたネイティブコードを呼ぶPythonコードを書く\n",
    "    * 簡単に静的な型定義を可読性の高いPythonコードに加えることによってCのパフォーマンスを得る\n",
    "    * 多次元Numpy配列のような大きなデータセットに対しても効率的なやり取りが可能\n",
    "    * CPythonに対する広く成熟したエコシステムを活用可能\n",
    "    * 既存のネイティブコードや、低レベル・ハイパフォ―マンスなライブラリやアプリを統合可能"
   ]
  },
  {
   "cell_type": "markdown",
   "metadata": {
    "nbpresent": {
     "id": "33fcd6fc-788e-481a-9724-5770ee85b571"
    }
   },
   "source": [
    "## どこで使われているか ##\n",
    "\n",
    "* オライリーのCython本P.71より引用\n",
    "    * 2014年のデータなので現在は異なる筈\n",
    "    * https://github.com/cython/cython/wiki/projects にも情報あり\n",
    "\n",
    "<img src=\"./img/where_uses_cython.png\" />"
   ]
  },
  {
   "cell_type": "markdown",
   "metadata": {
    "nbpresent": {
     "id": "95e0f85a-fbdf-422a-b87b-8e572b59377b"
    }
   },
   "source": [
    "## インストール ##\n",
    "\n",
    "* `pip install cython`\n",
    "* `conda install cython`\n",
    "    * anacondaなら最初から入っている筈"
   ]
  },
  {
   "cell_type": "markdown",
   "metadata": {
    "nbpresent": {
     "id": "e071e183-53ad-47b4-a4c1-84b85fc1be9c"
    }
   },
   "source": [
    "## Cythonの実際の例 ##\n",
    "\n",
    "* フィボナッチ数列を求めるPythonコードをCython化\n",
    "* `%%cython`マジックコマンドで手軽に試せる"
   ]
  },
  {
   "cell_type": "code",
   "execution_count": 1,
   "metadata": {
    "collapsed": true,
    "nbpresent": {
     "id": "1881afdb-0893-4c37-9b30-04526fc73bd5"
    }
   },
   "outputs": [],
   "source": [
    "# Pythonで書いたフィボナッチ数列\n",
    "def fib(n):\n",
    "    a, b = 0, 1\n",
    "    for i in range(n):\n",
    "        a, b = a + b,  a\n",
    "    return a"
   ]
  },
  {
   "cell_type": "code",
   "execution_count": 2,
   "metadata": {
    "collapsed": false,
    "nbpresent": {
     "id": "4d12d5e1-4c3c-41a5-adf3-7156779b0048"
    }
   },
   "outputs": [
    {
     "data": {
      "text/plain": [
       "12586269025"
      ]
     },
     "execution_count": 2,
     "metadata": {},
     "output_type": "execute_result"
    }
   ],
   "source": [
    "fib(50)"
   ]
  },
  {
   "cell_type": "code",
   "execution_count": 3,
   "metadata": {
    "collapsed": false,
    "nbpresent": {
     "id": "daa9c427-dccc-48af-aecf-e96a0bccebe0"
    }
   },
   "outputs": [
    {
     "name": "stdout",
     "output_type": "stream",
     "text": [
      "100000 loops, best of 3: 4.14 µs per loop\n"
     ]
    }
   ],
   "source": [
    "%timeit fib(50)"
   ]
  },
  {
   "cell_type": "code",
   "execution_count": 4,
   "metadata": {
    "collapsed": true,
    "nbpresent": {
     "id": "08599438-70fb-473f-9ccb-8bdd76877f91"
    }
   },
   "outputs": [],
   "source": [
    "%load_ext cython"
   ]
  },
  {
   "cell_type": "code",
   "execution_count": 5,
   "metadata": {
    "collapsed": false,
    "nbpresent": {
     "id": "a47175d8-36a5-4cfc-8cbf-bd494a7b6ada"
    }
   },
   "outputs": [],
   "source": [
    "%%cython\n",
    "# .pyxファイル(後述)の中身に相当\n",
    "# ローカル変数はcdefで型定義が可能\n",
    "# 引数は型を変数名の手前に書く\n",
    "def c_fib(long n):\n",
    "    cdef long i, a, b\n",
    "    a, b = 0, 1\n",
    "    for i in range(n):\n",
    "        a, b = a + b, a\n",
    "    return a"
   ]
  },
  {
   "cell_type": "code",
   "execution_count": 6,
   "metadata": {
    "collapsed": false,
    "nbpresent": {
     "id": "bafcd806-6967-4088-a105-d037460ac4d4"
    }
   },
   "outputs": [
    {
     "data": {
      "text/plain": [
       "12586269025"
      ]
     },
     "execution_count": 6,
     "metadata": {},
     "output_type": "execute_result"
    }
   ],
   "source": [
    "# python側から呼べる\n",
    "c_fib(50)"
   ]
  },
  {
   "cell_type": "code",
   "execution_count": 7,
   "metadata": {
    "collapsed": false,
    "nbpresent": {
     "id": "93ad00aa-28c6-4cca-a697-562c3824148f"
    }
   },
   "outputs": [
    {
     "name": "stdout",
     "output_type": "stream",
     "text": [
      "The slowest run took 20.43 times longer than the fastest. This could mean that an intermediate result is being cached.\n",
      "10000000 loops, best of 3: 108 ns per loop\n"
     ]
    }
   ],
   "source": [
    "%timeit c_fib(50)"
   ]
  },
  {
   "cell_type": "markdown",
   "metadata": {
    "nbpresent": {
     "id": "097847c0-89e5-4193-a062-1977b128921b"
    }
   },
   "source": [
    "## 動作イメージ ##\n",
    "\n",
    "<img src=\"./img/build_flow.png\" width=\"1200px\" height=\"800px\" />"
   ]
  },
  {
   "cell_type": "markdown",
   "metadata": {
    "nbpresent": {
     "id": "2c9d2cd5-be0c-4d06-9272-f2a1e41fc88f"
    }
   },
   "source": [
    "## 手動でのコンパイルおよびビルド ##\n",
    "\n",
    "* https://cython.readthedocs.io/en/latest/src/reference/compilation.html\n",
    "* `cython`コマンドで`.pyx`ファイルをコンパイル\n",
    "    * `cython -a yourmod.pyx`\n",
    "* `.pyx`ファイルをダイナミックライブラリとしてビルド\n",
    "    * `gcc -shared -pthread -fPIC -fwrapv -O2 -Wall -fno-strict-aliasing \\\n",
    "      -I/usr/include/python2.7 -o yourmod.so yourmod.c`"
   ]
  },
  {
   "cell_type": "code",
   "execution_count": 8,
   "metadata": {
    "collapsed": false,
    "nbpresent": {
     "id": "ff1005ea-5e57-4f62-a5e9-6c3a80e5fc10"
    }
   },
   "outputs": [
    {
     "name": "stdout",
     "output_type": "stream",
     "text": [
      "Overwriting c_fib.pyx\n"
     ]
    }
   ],
   "source": [
    "%%writefile c_fib.pyx\n",
    "def c_fib(long n):\n",
    "    cdef long i, a, b\n",
    "    a, b = 0, 1\n",
    "    for i in range(n):\n",
    "        a, b = a + b, a\n",
    "    return a"
   ]
  },
  {
   "cell_type": "code",
   "execution_count": 9,
   "metadata": {
    "collapsed": true,
    "nbpresent": {
     "id": "c7146503-f62e-475f-9b88-34769f85d295"
    }
   },
   "outputs": [],
   "source": [
    "# c_fib.pyxをcythonizeしてc_fib.cを生成\n",
    "!cython c_fib.pyx"
   ]
  },
  {
   "cell_type": "code",
   "execution_count": 10,
   "metadata": {
    "collapsed": false,
    "nbpresent": {
     "id": "3c8c34bd-b369-485c-b4c9-68338d4b1e4a"
    }
   },
   "outputs": [
    {
     "name": "stdout",
     "output_type": "stream",
     "text": [
      "\u001b[36mbuild\u001b[m\u001b[m                       \u001b[36mimg\u001b[m\u001b[m\r\n",
      "c_fib.c                     \u001b[36mpysndfile\u001b[m\u001b[m\r\n",
      "\u001b[31mc_fib.cpython-35m-darwin.so\u001b[m\u001b[m readme.md\r\n",
      "c_fib.pyx                   \u001b[36mrectangle\u001b[m\u001b[m\r\n",
      "cython_and_c_wrapper.ipynb  setup.py\r\n",
      "\u001b[36mdocker\u001b[m\u001b[m\r\n"
     ]
    }
   ],
   "source": [
    "# c_fib.cが生成\n",
    "# c_fib.cをダイナミックライブラリとして\n",
    "# gccなどでビルドすることで拡張モジュールを作成可能\n",
    "!ls"
   ]
  },
  {
   "cell_type": "markdown",
   "metadata": {
    "nbpresent": {
     "id": "721f3d8d-b41b-4f6c-a151-ce3c9beef84e"
    }
   },
   "source": [
    "## それ以外の代表的なビルド方法 ##\n",
    "\n",
    "* IPythonの`%%cython`マジックコマンド(前述)\n",
    "    * セルの内容をpyxファイルとみなしてその場でコンパイル\n",
    "* `import pyximport; pyximport.install()`\n",
    "    * 現在のディレクトリ配下にあるpyxファイルをコンパイル\n",
    "    * 次スライドで説明\n",
    "* ビルドスクリプト`setup.py`を記述\n",
    "    * `python setup.py build_ext --inplace`"
   ]
  },
  {
   "cell_type": "code",
   "execution_count": 11,
   "metadata": {
    "collapsed": true,
    "nbpresent": {
     "id": "f38f5c0a-ceb4-4aac-bc14-d7d59ac87da9"
    }
   },
   "outputs": [],
   "source": [
    "# %%cythonでの実行で作成されたc_fibを削除\n",
    "del c_fib"
   ]
  },
  {
   "cell_type": "code",
   "execution_count": 12,
   "metadata": {
    "collapsed": false,
    "nbpresent": {
     "id": "ecd593c8-06a4-4f87-b2e6-2bfcf44ae048"
    }
   },
   "outputs": [
    {
     "data": {
      "text/plain": [
       "(None, <pyximport.pyximport.PyxImporter at 0x1055ecb00>)"
      ]
     },
     "execution_count": 12,
     "metadata": {},
     "output_type": "execute_result"
    }
   ],
   "source": [
    "# pyximportを使ってc_fib.pyxをコンパイル \n",
    "import pyximport\n",
    "pyximport.install()  # => c_fib拡張モジュールが自動生成\n",
    "\n",
    "# reloadする可能性がある場合は\n",
    "# pyximport.install(reload_support=True)"
   ]
  },
  {
   "cell_type": "code",
   "execution_count": 13,
   "metadata": {
    "collapsed": false,
    "nbpresent": {
     "id": "7aa91dae-8df8-47ca-b148-b13f0db408e6"
    }
   },
   "outputs": [
    {
     "data": {
      "text/plain": [
       "12586269025"
      ]
     },
     "execution_count": 13,
     "metadata": {},
     "output_type": "execute_result"
    }
   ],
   "source": [
    "import c_fib\n",
    "c_fib.c_fib(50)"
   ]
  },
  {
   "cell_type": "markdown",
   "metadata": {
    "nbpresent": {
     "id": "9ee93c47-d72e-463a-baa8-06593c829800"
    }
   },
   "source": [
    "### `setup.py`を書く方法 ###\n",
    "\n",
    "* setup.py\n",
    "\n",
    "```python:setup.py\n",
    "from distutils.core import setup, Extension\n",
    "from Cython.Build import cythonize\n",
    "\n",
    "ext = Extension(name=\"c_fib\",\n",
    "                sources=[\"c_fib.pyx\"])\n",
    "\n",
    "setup(ext_modules=cythonize(ext))\n",
    "```\n",
    "\n",
    "* これをpythonで実行\n",
    "```sh\n",
    "python setup.py build_ext --inplace\n",
    "```"
   ]
  },
  {
   "cell_type": "code",
   "execution_count": 14,
   "metadata": {
    "collapsed": false,
    "nbpresent": {
     "id": "ccd5045e-ea36-4af3-93f1-00c7afd7254f"
    }
   },
   "outputs": [
    {
     "name": "stdout",
     "output_type": "stream",
     "text": [
      "Overwriting setup.py\n"
     ]
    }
   ],
   "source": [
    "%%writefile setup.py\n",
    "from distutils.core import setup, Extension\n",
    "from Cython.Build import cythonize\n",
    "\n",
    "ext = Extension(name=\"c_fib\",\n",
    "                sources=[\"c_fib.pyx\"])\n",
    "\n",
    "setup(ext_modules=cythonize(ext))"
   ]
  },
  {
   "cell_type": "code",
   "execution_count": 15,
   "metadata": {
    "collapsed": false,
    "nbpresent": {
     "id": "35d086cf-2f7f-4de5-abe4-a6b523b2c510"
    }
   },
   "outputs": [
    {
     "name": "stdout",
     "output_type": "stream",
     "text": [
      "running build_ext\n",
      "building 'c_fib' extension\n",
      "/usr/bin/clang -Wno-unused-result -Wsign-compare -Wunreachable-code -DNDEBUG -g -fwrapv -O3 -Wall -Wstrict-prototypes -I/Users/wrist/.pyenv/versions/miniconda3-latest/envs/scientific/include -arch x86_64 -I/Users/wrist/.pyenv/versions/miniconda3-latest/envs/scientific/include/python3.5m -c c_fib.c -o build/temp.macosx-10.6-x86_64-3.5/c_fib.o\n",
      "/usr/bin/clang -bundle -undefined dynamic_lookup -L/Users/wrist/.pyenv/versions/miniconda3-latest/envs/scientific/lib -arch x86_64 build/temp.macosx-10.6-x86_64-3.5/c_fib.o -L/Users/wrist/.pyenv/versions/miniconda3-latest/envs/scientific/lib -o /Users/wrist/work/pydata/20170121/c_fib.cpython-35m-darwin.so\n"
     ]
    }
   ],
   "source": [
    "!python setup.py build_ext --inplace"
   ]
  },
  {
   "cell_type": "code",
   "execution_count": 25,
   "metadata": {
    "collapsed": false,
    "nbpresent": {
     "id": "35e5510c-d45f-44ef-81e3-b45baf2fb1f9"
    }
   },
   "outputs": [
    {
     "name": "stdout",
     "output_type": "stream",
     "text": [
      "\u001b[36mbuild\u001b[m\u001b[m                       \u001b[36mimg\u001b[m\u001b[m\r\n",
      "c_fib.c                     \u001b[36mpysndfile\u001b[m\u001b[m\r\n",
      "\u001b[31mc_fib.cpython-35m-darwin.so\u001b[m\u001b[m readme.md\r\n",
      "c_fib.pyx                   \u001b[36mrectangle\u001b[m\u001b[m\r\n",
      "cython_and_c_wrapper.ipynb  setup.py\r\n",
      "\u001b[36mdocker\u001b[m\u001b[m\r\n"
     ]
    }
   ],
   "source": [
    "# setup.pyの実行に成功すると.soが生成される\n",
    "!ls"
   ]
  },
  {
   "cell_type": "markdown",
   "metadata": {
    "nbpresent": {
     "id": "b601409d-1e6a-45c5-8136-33fad90e7007"
    }
   },
   "source": [
    "# `%%cython`マジックコマンドによるJupyter上での高速化 #"
   ]
  },
  {
   "cell_type": "markdown",
   "metadata": {
    "nbpresent": {
     "id": "491ac09e-ca92-41cb-abf4-bc569eff3fc8"
    }
   },
   "source": [
    "## %%cython -a ##\n",
    "\n",
    "* `%%cython -a`でpyxコンパイルとともにアノテーションファイルを表示可能\n",
    "* Python/C APIの呼び出し回数が多い場所をハイライト\n",
    "    * Cythonは呼び出しが多い箇所が遅いと判断\n",
    "    * ハイライト箇所をクリックすると変換されたコードを見ることが可能\n",
    "* オライリーのCython本9章の内容を元に高速化の流れを紹介"
   ]
  },
  {
   "cell_type": "code",
   "execution_count": 26,
   "metadata": {
    "collapsed": false,
    "nbpresent": {
     "id": "5bfee562-beac-4805-8468-2da16ba15c01"
    }
   },
   "outputs": [
    {
     "data": {
      "text/html": [
       "<!DOCTYPE html>\n",
       "<!-- Generated by Cython 0.25.2 -->\n",
       "<html>\n",
       "<head>\n",
       "    <meta http-equiv=\"Content-Type\" content=\"text/html; charset=utf-8\" />\n",
       "    <title>Cython: _cython_magic_044d0ec314385ec9e98e2e0f11e77836.pyx</title>\n",
       "    <style type=\"text/css\">\n",
       "    \n",
       "body.cython { font-family: courier; font-size: 12; }\n",
       "\n",
       ".cython.tag  {  }\n",
       ".cython.line { margin: 0em }\n",
       ".cython.code { font-size: 9; color: #444444; display: none; margin: 0px 0px 0px 8px; border-left: 8px none; }\n",
       "\n",
       ".cython.line .run { background-color: #B0FFB0; }\n",
       ".cython.line .mis { background-color: #FFB0B0; }\n",
       ".cython.code.run  { border-left: 8px solid #B0FFB0; }\n",
       ".cython.code.mis  { border-left: 8px solid #FFB0B0; }\n",
       "\n",
       ".cython.code .py_c_api  { color: red; }\n",
       ".cython.code .py_macro_api  { color: #FF7000; }\n",
       ".cython.code .pyx_c_api  { color: #FF3000; }\n",
       ".cython.code .pyx_macro_api  { color: #FF7000; }\n",
       ".cython.code .refnanny  { color: #FFA000; }\n",
       ".cython.code .trace  { color: #FFA000; }\n",
       ".cython.code .error_goto  { color: #FFA000; }\n",
       "\n",
       ".cython.code .coerce  { color: #008000; border: 1px dotted #008000 }\n",
       ".cython.code .py_attr { color: #FF0000; font-weight: bold; }\n",
       ".cython.code .c_attr  { color: #0000FF; }\n",
       ".cython.code .py_call { color: #FF0000; font-weight: bold; }\n",
       ".cython.code .c_call  { color: #0000FF; }\n",
       "\n",
       ".cython.score-0 {background-color: #FFFFff;}\n",
       ".cython.score-1 {background-color: #FFFFe7;}\n",
       ".cython.score-2 {background-color: #FFFFd4;}\n",
       ".cython.score-3 {background-color: #FFFFc4;}\n",
       ".cython.score-4 {background-color: #FFFFb6;}\n",
       ".cython.score-5 {background-color: #FFFFaa;}\n",
       ".cython.score-6 {background-color: #FFFF9f;}\n",
       ".cython.score-7 {background-color: #FFFF96;}\n",
       ".cython.score-8 {background-color: #FFFF8d;}\n",
       ".cython.score-9 {background-color: #FFFF86;}\n",
       ".cython.score-10 {background-color: #FFFF7f;}\n",
       ".cython.score-11 {background-color: #FFFF79;}\n",
       ".cython.score-12 {background-color: #FFFF73;}\n",
       ".cython.score-13 {background-color: #FFFF6e;}\n",
       ".cython.score-14 {background-color: #FFFF6a;}\n",
       ".cython.score-15 {background-color: #FFFF66;}\n",
       ".cython.score-16 {background-color: #FFFF62;}\n",
       ".cython.score-17 {background-color: #FFFF5e;}\n",
       ".cython.score-18 {background-color: #FFFF5b;}\n",
       ".cython.score-19 {background-color: #FFFF57;}\n",
       ".cython.score-20 {background-color: #FFFF55;}\n",
       ".cython.score-21 {background-color: #FFFF52;}\n",
       ".cython.score-22 {background-color: #FFFF4f;}\n",
       ".cython.score-23 {background-color: #FFFF4d;}\n",
       ".cython.score-24 {background-color: #FFFF4b;}\n",
       ".cython.score-25 {background-color: #FFFF48;}\n",
       ".cython.score-26 {background-color: #FFFF46;}\n",
       ".cython.score-27 {background-color: #FFFF44;}\n",
       ".cython.score-28 {background-color: #FFFF43;}\n",
       ".cython.score-29 {background-color: #FFFF41;}\n",
       ".cython.score-30 {background-color: #FFFF3f;}\n",
       ".cython.score-31 {background-color: #FFFF3e;}\n",
       ".cython.score-32 {background-color: #FFFF3c;}\n",
       ".cython.score-33 {background-color: #FFFF3b;}\n",
       ".cython.score-34 {background-color: #FFFF39;}\n",
       ".cython.score-35 {background-color: #FFFF38;}\n",
       ".cython.score-36 {background-color: #FFFF37;}\n",
       ".cython.score-37 {background-color: #FFFF36;}\n",
       ".cython.score-38 {background-color: #FFFF35;}\n",
       ".cython.score-39 {background-color: #FFFF34;}\n",
       ".cython.score-40 {background-color: #FFFF33;}\n",
       ".cython.score-41 {background-color: #FFFF32;}\n",
       ".cython.score-42 {background-color: #FFFF31;}\n",
       ".cython.score-43 {background-color: #FFFF30;}\n",
       ".cython.score-44 {background-color: #FFFF2f;}\n",
       ".cython.score-45 {background-color: #FFFF2e;}\n",
       ".cython.score-46 {background-color: #FFFF2d;}\n",
       ".cython.score-47 {background-color: #FFFF2c;}\n",
       ".cython.score-48 {background-color: #FFFF2b;}\n",
       ".cython.score-49 {background-color: #FFFF2b;}\n",
       ".cython.score-50 {background-color: #FFFF2a;}\n",
       ".cython.score-51 {background-color: #FFFF29;}\n",
       ".cython.score-52 {background-color: #FFFF29;}\n",
       ".cython.score-53 {background-color: #FFFF28;}\n",
       ".cython.score-54 {background-color: #FFFF27;}\n",
       ".cython.score-55 {background-color: #FFFF27;}\n",
       ".cython.score-56 {background-color: #FFFF26;}\n",
       ".cython.score-57 {background-color: #FFFF26;}\n",
       ".cython.score-58 {background-color: #FFFF25;}\n",
       ".cython.score-59 {background-color: #FFFF24;}\n",
       ".cython.score-60 {background-color: #FFFF24;}\n",
       ".cython.score-61 {background-color: #FFFF23;}\n",
       ".cython.score-62 {background-color: #FFFF23;}\n",
       ".cython.score-63 {background-color: #FFFF22;}\n",
       ".cython.score-64 {background-color: #FFFF22;}\n",
       ".cython.score-65 {background-color: #FFFF22;}\n",
       ".cython.score-66 {background-color: #FFFF21;}\n",
       ".cython.score-67 {background-color: #FFFF21;}\n",
       ".cython.score-68 {background-color: #FFFF20;}\n",
       ".cython.score-69 {background-color: #FFFF20;}\n",
       ".cython.score-70 {background-color: #FFFF1f;}\n",
       ".cython.score-71 {background-color: #FFFF1f;}\n",
       ".cython.score-72 {background-color: #FFFF1f;}\n",
       ".cython.score-73 {background-color: #FFFF1e;}\n",
       ".cython.score-74 {background-color: #FFFF1e;}\n",
       ".cython.score-75 {background-color: #FFFF1e;}\n",
       ".cython.score-76 {background-color: #FFFF1d;}\n",
       ".cython.score-77 {background-color: #FFFF1d;}\n",
       ".cython.score-78 {background-color: #FFFF1c;}\n",
       ".cython.score-79 {background-color: #FFFF1c;}\n",
       ".cython.score-80 {background-color: #FFFF1c;}\n",
       ".cython.score-81 {background-color: #FFFF1c;}\n",
       ".cython.score-82 {background-color: #FFFF1b;}\n",
       ".cython.score-83 {background-color: #FFFF1b;}\n",
       ".cython.score-84 {background-color: #FFFF1b;}\n",
       ".cython.score-85 {background-color: #FFFF1a;}\n",
       ".cython.score-86 {background-color: #FFFF1a;}\n",
       ".cython.score-87 {background-color: #FFFF1a;}\n",
       ".cython.score-88 {background-color: #FFFF1a;}\n",
       ".cython.score-89 {background-color: #FFFF19;}\n",
       ".cython.score-90 {background-color: #FFFF19;}\n",
       ".cython.score-91 {background-color: #FFFF19;}\n",
       ".cython.score-92 {background-color: #FFFF19;}\n",
       ".cython.score-93 {background-color: #FFFF18;}\n",
       ".cython.score-94 {background-color: #FFFF18;}\n",
       ".cython.score-95 {background-color: #FFFF18;}\n",
       ".cython.score-96 {background-color: #FFFF18;}\n",
       ".cython.score-97 {background-color: #FFFF17;}\n",
       ".cython.score-98 {background-color: #FFFF17;}\n",
       ".cython.score-99 {background-color: #FFFF17;}\n",
       ".cython.score-100 {background-color: #FFFF17;}\n",
       ".cython.score-101 {background-color: #FFFF16;}\n",
       ".cython.score-102 {background-color: #FFFF16;}\n",
       ".cython.score-103 {background-color: #FFFF16;}\n",
       ".cython.score-104 {background-color: #FFFF16;}\n",
       ".cython.score-105 {background-color: #FFFF16;}\n",
       ".cython.score-106 {background-color: #FFFF15;}\n",
       ".cython.score-107 {background-color: #FFFF15;}\n",
       ".cython.score-108 {background-color: #FFFF15;}\n",
       ".cython.score-109 {background-color: #FFFF15;}\n",
       ".cython.score-110 {background-color: #FFFF15;}\n",
       ".cython.score-111 {background-color: #FFFF15;}\n",
       ".cython.score-112 {background-color: #FFFF14;}\n",
       ".cython.score-113 {background-color: #FFFF14;}\n",
       ".cython.score-114 {background-color: #FFFF14;}\n",
       ".cython.score-115 {background-color: #FFFF14;}\n",
       ".cython.score-116 {background-color: #FFFF14;}\n",
       ".cython.score-117 {background-color: #FFFF14;}\n",
       ".cython.score-118 {background-color: #FFFF13;}\n",
       ".cython.score-119 {background-color: #FFFF13;}\n",
       ".cython.score-120 {background-color: #FFFF13;}\n",
       ".cython.score-121 {background-color: #FFFF13;}\n",
       ".cython.score-122 {background-color: #FFFF13;}\n",
       ".cython.score-123 {background-color: #FFFF13;}\n",
       ".cython.score-124 {background-color: #FFFF13;}\n",
       ".cython.score-125 {background-color: #FFFF12;}\n",
       ".cython.score-126 {background-color: #FFFF12;}\n",
       ".cython.score-127 {background-color: #FFFF12;}\n",
       ".cython.score-128 {background-color: #FFFF12;}\n",
       ".cython.score-129 {background-color: #FFFF12;}\n",
       ".cython.score-130 {background-color: #FFFF12;}\n",
       ".cython.score-131 {background-color: #FFFF12;}\n",
       ".cython.score-132 {background-color: #FFFF11;}\n",
       ".cython.score-133 {background-color: #FFFF11;}\n",
       ".cython.score-134 {background-color: #FFFF11;}\n",
       ".cython.score-135 {background-color: #FFFF11;}\n",
       ".cython.score-136 {background-color: #FFFF11;}\n",
       ".cython.score-137 {background-color: #FFFF11;}\n",
       ".cython.score-138 {background-color: #FFFF11;}\n",
       ".cython.score-139 {background-color: #FFFF11;}\n",
       ".cython.score-140 {background-color: #FFFF11;}\n",
       ".cython.score-141 {background-color: #FFFF10;}\n",
       ".cython.score-142 {background-color: #FFFF10;}\n",
       ".cython.score-143 {background-color: #FFFF10;}\n",
       ".cython.score-144 {background-color: #FFFF10;}\n",
       ".cython.score-145 {background-color: #FFFF10;}\n",
       ".cython.score-146 {background-color: #FFFF10;}\n",
       ".cython.score-147 {background-color: #FFFF10;}\n",
       ".cython.score-148 {background-color: #FFFF10;}\n",
       ".cython.score-149 {background-color: #FFFF10;}\n",
       ".cython.score-150 {background-color: #FFFF0f;}\n",
       ".cython.score-151 {background-color: #FFFF0f;}\n",
       ".cython.score-152 {background-color: #FFFF0f;}\n",
       ".cython.score-153 {background-color: #FFFF0f;}\n",
       ".cython.score-154 {background-color: #FFFF0f;}\n",
       ".cython.score-155 {background-color: #FFFF0f;}\n",
       ".cython.score-156 {background-color: #FFFF0f;}\n",
       ".cython.score-157 {background-color: #FFFF0f;}\n",
       ".cython.score-158 {background-color: #FFFF0f;}\n",
       ".cython.score-159 {background-color: #FFFF0f;}\n",
       ".cython.score-160 {background-color: #FFFF0f;}\n",
       ".cython.score-161 {background-color: #FFFF0e;}\n",
       ".cython.score-162 {background-color: #FFFF0e;}\n",
       ".cython.score-163 {background-color: #FFFF0e;}\n",
       ".cython.score-164 {background-color: #FFFF0e;}\n",
       ".cython.score-165 {background-color: #FFFF0e;}\n",
       ".cython.score-166 {background-color: #FFFF0e;}\n",
       ".cython.score-167 {background-color: #FFFF0e;}\n",
       ".cython.score-168 {background-color: #FFFF0e;}\n",
       ".cython.score-169 {background-color: #FFFF0e;}\n",
       ".cython.score-170 {background-color: #FFFF0e;}\n",
       ".cython.score-171 {background-color: #FFFF0e;}\n",
       ".cython.score-172 {background-color: #FFFF0e;}\n",
       ".cython.score-173 {background-color: #FFFF0d;}\n",
       ".cython.score-174 {background-color: #FFFF0d;}\n",
       ".cython.score-175 {background-color: #FFFF0d;}\n",
       ".cython.score-176 {background-color: #FFFF0d;}\n",
       ".cython.score-177 {background-color: #FFFF0d;}\n",
       ".cython.score-178 {background-color: #FFFF0d;}\n",
       ".cython.score-179 {background-color: #FFFF0d;}\n",
       ".cython.score-180 {background-color: #FFFF0d;}\n",
       ".cython.score-181 {background-color: #FFFF0d;}\n",
       ".cython.score-182 {background-color: #FFFF0d;}\n",
       ".cython.score-183 {background-color: #FFFF0d;}\n",
       ".cython.score-184 {background-color: #FFFF0d;}\n",
       ".cython.score-185 {background-color: #FFFF0d;}\n",
       ".cython.score-186 {background-color: #FFFF0d;}\n",
       ".cython.score-187 {background-color: #FFFF0c;}\n",
       ".cython.score-188 {background-color: #FFFF0c;}\n",
       ".cython.score-189 {background-color: #FFFF0c;}\n",
       ".cython.score-190 {background-color: #FFFF0c;}\n",
       ".cython.score-191 {background-color: #FFFF0c;}\n",
       ".cython.score-192 {background-color: #FFFF0c;}\n",
       ".cython.score-193 {background-color: #FFFF0c;}\n",
       ".cython.score-194 {background-color: #FFFF0c;}\n",
       ".cython.score-195 {background-color: #FFFF0c;}\n",
       ".cython.score-196 {background-color: #FFFF0c;}\n",
       ".cython.score-197 {background-color: #FFFF0c;}\n",
       ".cython.score-198 {background-color: #FFFF0c;}\n",
       ".cython.score-199 {background-color: #FFFF0c;}\n",
       ".cython.score-200 {background-color: #FFFF0c;}\n",
       ".cython.score-201 {background-color: #FFFF0c;}\n",
       ".cython.score-202 {background-color: #FFFF0c;}\n",
       ".cython.score-203 {background-color: #FFFF0b;}\n",
       ".cython.score-204 {background-color: #FFFF0b;}\n",
       ".cython.score-205 {background-color: #FFFF0b;}\n",
       ".cython.score-206 {background-color: #FFFF0b;}\n",
       ".cython.score-207 {background-color: #FFFF0b;}\n",
       ".cython.score-208 {background-color: #FFFF0b;}\n",
       ".cython.score-209 {background-color: #FFFF0b;}\n",
       ".cython.score-210 {background-color: #FFFF0b;}\n",
       ".cython.score-211 {background-color: #FFFF0b;}\n",
       ".cython.score-212 {background-color: #FFFF0b;}\n",
       ".cython.score-213 {background-color: #FFFF0b;}\n",
       ".cython.score-214 {background-color: #FFFF0b;}\n",
       ".cython.score-215 {background-color: #FFFF0b;}\n",
       ".cython.score-216 {background-color: #FFFF0b;}\n",
       ".cython.score-217 {background-color: #FFFF0b;}\n",
       ".cython.score-218 {background-color: #FFFF0b;}\n",
       ".cython.score-219 {background-color: #FFFF0b;}\n",
       ".cython.score-220 {background-color: #FFFF0b;}\n",
       ".cython.score-221 {background-color: #FFFF0b;}\n",
       ".cython.score-222 {background-color: #FFFF0a;}\n",
       ".cython.score-223 {background-color: #FFFF0a;}\n",
       ".cython.score-224 {background-color: #FFFF0a;}\n",
       ".cython.score-225 {background-color: #FFFF0a;}\n",
       ".cython.score-226 {background-color: #FFFF0a;}\n",
       ".cython.score-227 {background-color: #FFFF0a;}\n",
       ".cython.score-228 {background-color: #FFFF0a;}\n",
       ".cython.score-229 {background-color: #FFFF0a;}\n",
       ".cython.score-230 {background-color: #FFFF0a;}\n",
       ".cython.score-231 {background-color: #FFFF0a;}\n",
       ".cython.score-232 {background-color: #FFFF0a;}\n",
       ".cython.score-233 {background-color: #FFFF0a;}\n",
       ".cython.score-234 {background-color: #FFFF0a;}\n",
       ".cython.score-235 {background-color: #FFFF0a;}\n",
       ".cython.score-236 {background-color: #FFFF0a;}\n",
       ".cython.score-237 {background-color: #FFFF0a;}\n",
       ".cython.score-238 {background-color: #FFFF0a;}\n",
       ".cython.score-239 {background-color: #FFFF0a;}\n",
       ".cython.score-240 {background-color: #FFFF0a;}\n",
       ".cython.score-241 {background-color: #FFFF0a;}\n",
       ".cython.score-242 {background-color: #FFFF0a;}\n",
       ".cython.score-243 {background-color: #FFFF0a;}\n",
       ".cython.score-244 {background-color: #FFFF0a;}\n",
       ".cython.score-245 {background-color: #FFFF0a;}\n",
       ".cython.score-246 {background-color: #FFFF09;}\n",
       ".cython.score-247 {background-color: #FFFF09;}\n",
       ".cython.score-248 {background-color: #FFFF09;}\n",
       ".cython.score-249 {background-color: #FFFF09;}\n",
       ".cython.score-250 {background-color: #FFFF09;}\n",
       ".cython.score-251 {background-color: #FFFF09;}\n",
       ".cython.score-252 {background-color: #FFFF09;}\n",
       ".cython.score-253 {background-color: #FFFF09;}\n",
       ".cython.score-254 {background-color: #FFFF09;}\n",
       ".cython .hll { background-color: #ffffcc }\n",
       ".cython  { background: #f8f8f8; }\n",
       ".cython .c { color: #408080; font-style: italic } /* Comment */\n",
       ".cython .err { border: 1px solid #FF0000 } /* Error */\n",
       ".cython .k { color: #008000; font-weight: bold } /* Keyword */\n",
       ".cython .o { color: #666666 } /* Operator */\n",
       ".cython .ch { color: #408080; font-style: italic } /* Comment.Hashbang */\n",
       ".cython .cm { color: #408080; font-style: italic } /* Comment.Multiline */\n",
       ".cython .cp { color: #BC7A00 } /* Comment.Preproc */\n",
       ".cython .cpf { color: #408080; font-style: italic } /* Comment.PreprocFile */\n",
       ".cython .c1 { color: #408080; font-style: italic } /* Comment.Single */\n",
       ".cython .cs { color: #408080; font-style: italic } /* Comment.Special */\n",
       ".cython .gd { color: #A00000 } /* Generic.Deleted */\n",
       ".cython .ge { font-style: italic } /* Generic.Emph */\n",
       ".cython .gr { color: #FF0000 } /* Generic.Error */\n",
       ".cython .gh { color: #000080; font-weight: bold } /* Generic.Heading */\n",
       ".cython .gi { color: #00A000 } /* Generic.Inserted */\n",
       ".cython .go { color: #888888 } /* Generic.Output */\n",
       ".cython .gp { color: #000080; font-weight: bold } /* Generic.Prompt */\n",
       ".cython .gs { font-weight: bold } /* Generic.Strong */\n",
       ".cython .gu { color: #800080; font-weight: bold } /* Generic.Subheading */\n",
       ".cython .gt { color: #0044DD } /* Generic.Traceback */\n",
       ".cython .kc { color: #008000; font-weight: bold } /* Keyword.Constant */\n",
       ".cython .kd { color: #008000; font-weight: bold } /* Keyword.Declaration */\n",
       ".cython .kn { color: #008000; font-weight: bold } /* Keyword.Namespace */\n",
       ".cython .kp { color: #008000 } /* Keyword.Pseudo */\n",
       ".cython .kr { color: #008000; font-weight: bold } /* Keyword.Reserved */\n",
       ".cython .kt { color: #B00040 } /* Keyword.Type */\n",
       ".cython .m { color: #666666 } /* Literal.Number */\n",
       ".cython .s { color: #BA2121 } /* Literal.String */\n",
       ".cython .na { color: #7D9029 } /* Name.Attribute */\n",
       ".cython .nb { color: #008000 } /* Name.Builtin */\n",
       ".cython .nc { color: #0000FF; font-weight: bold } /* Name.Class */\n",
       ".cython .no { color: #880000 } /* Name.Constant */\n",
       ".cython .nd { color: #AA22FF } /* Name.Decorator */\n",
       ".cython .ni { color: #999999; font-weight: bold } /* Name.Entity */\n",
       ".cython .ne { color: #D2413A; font-weight: bold } /* Name.Exception */\n",
       ".cython .nf { color: #0000FF } /* Name.Function */\n",
       ".cython .nl { color: #A0A000 } /* Name.Label */\n",
       ".cython .nn { color: #0000FF; font-weight: bold } /* Name.Namespace */\n",
       ".cython .nt { color: #008000; font-weight: bold } /* Name.Tag */\n",
       ".cython .nv { color: #19177C } /* Name.Variable */\n",
       ".cython .ow { color: #AA22FF; font-weight: bold } /* Operator.Word */\n",
       ".cython .w { color: #bbbbbb } /* Text.Whitespace */\n",
       ".cython .mb { color: #666666 } /* Literal.Number.Bin */\n",
       ".cython .mf { color: #666666 } /* Literal.Number.Float */\n",
       ".cython .mh { color: #666666 } /* Literal.Number.Hex */\n",
       ".cython .mi { color: #666666 } /* Literal.Number.Integer */\n",
       ".cython .mo { color: #666666 } /* Literal.Number.Oct */\n",
       ".cython .sb { color: #BA2121 } /* Literal.String.Backtick */\n",
       ".cython .sc { color: #BA2121 } /* Literal.String.Char */\n",
       ".cython .sd { color: #BA2121; font-style: italic } /* Literal.String.Doc */\n",
       ".cython .s2 { color: #BA2121 } /* Literal.String.Double */\n",
       ".cython .se { color: #BB6622; font-weight: bold } /* Literal.String.Escape */\n",
       ".cython .sh { color: #BA2121 } /* Literal.String.Heredoc */\n",
       ".cython .si { color: #BB6688; font-weight: bold } /* Literal.String.Interpol */\n",
       ".cython .sx { color: #008000 } /* Literal.String.Other */\n",
       ".cython .sr { color: #BB6688 } /* Literal.String.Regex */\n",
       ".cython .s1 { color: #BA2121 } /* Literal.String.Single */\n",
       ".cython .ss { color: #19177C } /* Literal.String.Symbol */\n",
       ".cython .bp { color: #008000 } /* Name.Builtin.Pseudo */\n",
       ".cython .vc { color: #19177C } /* Name.Variable.Class */\n",
       ".cython .vg { color: #19177C } /* Name.Variable.Global */\n",
       ".cython .vi { color: #19177C } /* Name.Variable.Instance */\n",
       ".cython .il { color: #666666 } /* Literal.Number.Integer.Long */\n",
       "    </style>\n",
       "    <script>\n",
       "    function toggleDiv(id) {\n",
       "        theDiv = id.nextElementSibling\n",
       "        if (theDiv.style.display != 'block') theDiv.style.display = 'block';\n",
       "        else theDiv.style.display = 'none';\n",
       "    }\n",
       "    </script>\n",
       "</head>\n",
       "<body class=\"cython\">\n",
       "<p><span style=\"border-bottom: solid 1px grey;\">Generated by Cython 0.25.2</span></p>\n",
       "<p>\n",
       "    <span style=\"background-color: #FFFF00\">Yellow lines</span> hint at Python interaction.<br />\n",
       "    Click on a line that starts with a \"<code>+</code>\" to see the C code that Cython generated for it.\n",
       "</p>\n",
       "<div class=\"cython\"><pre class=\"cython line score-0\">&#xA0;<span class=\"\">1</span>: <span class=\"c\"># 高速化の対象となる関数(引数fをaからbまで積分)</span></pre>\n",
       "<pre class=\"cython line score-68\" onclick='toggleDiv(this)'>+<span class=\"\">2</span>: <span class=\"k\">def</span> <span class=\"nf\">integrate</span><span class=\"p\">(</span><span class=\"n\">a</span><span class=\"p\">,</span> <span class=\"n\">b</span><span class=\"p\">,</span> <span class=\"n\">f</span><span class=\"p\">,</span> <span class=\"n\">N</span><span class=\"o\">=</span><span class=\"mf\">2000</span><span class=\"p\">):</span></pre>\n",
       "<pre class='cython code score-68 '>/* Python wrapper */\n",
       "static PyObject *__pyx_pw_46_cython_magic_044d0ec314385ec9e98e2e0f11e77836_1integrate(PyObject *__pyx_self, PyObject *__pyx_args, PyObject *__pyx_kwds); /*proto*/\n",
       "static PyMethodDef __pyx_mdef_46_cython_magic_044d0ec314385ec9e98e2e0f11e77836_1integrate = {\"integrate\", (PyCFunction)__pyx_pw_46_cython_magic_044d0ec314385ec9e98e2e0f11e77836_1integrate, METH_VARARGS|METH_KEYWORDS, 0};\n",
       "static PyObject *__pyx_pw_46_cython_magic_044d0ec314385ec9e98e2e0f11e77836_1integrate(PyObject *__pyx_self, PyObject *__pyx_args, PyObject *__pyx_kwds) {\n",
       "  PyObject *__pyx_v_a = 0;\n",
       "  PyObject *__pyx_v_b = 0;\n",
       "  PyObject *__pyx_v_f = 0;\n",
       "  PyObject *__pyx_v_N = 0;\n",
       "  PyObject *__pyx_r = 0;\n",
       "  <span class='refnanny'>__Pyx_RefNannyDeclarations</span>\n",
       "  <span class='refnanny'>__Pyx_RefNannySetupContext</span>(\"integrate (wrapper)\", 0);\n",
       "  {\n",
       "    static PyObject **__pyx_pyargnames[] = {&amp;__pyx_n_s_a,&amp;__pyx_n_s_b,&amp;__pyx_n_s_f,&amp;__pyx_n_s_N,0};\n",
       "    PyObject* values[4] = {0,0,0,0};\n",
       "    values[3] = ((PyObject *)__pyx_int_2000);\n",
       "    if (unlikely(__pyx_kwds)) {\n",
       "      Py_ssize_t kw_args;\n",
       "      const Py_ssize_t pos_args = <span class='py_macro_api'>PyTuple_GET_SIZE</span>(__pyx_args);\n",
       "      switch (pos_args) {\n",
       "        case  4: values[3] = <span class='py_macro_api'>PyTuple_GET_ITEM</span>(__pyx_args, 3);\n",
       "        case  3: values[2] = <span class='py_macro_api'>PyTuple_GET_ITEM</span>(__pyx_args, 2);\n",
       "        case  2: values[1] = <span class='py_macro_api'>PyTuple_GET_ITEM</span>(__pyx_args, 1);\n",
       "        case  1: values[0] = <span class='py_macro_api'>PyTuple_GET_ITEM</span>(__pyx_args, 0);\n",
       "        case  0: break;\n",
       "        default: goto __pyx_L5_argtuple_error;\n",
       "      }\n",
       "      kw_args = <span class='py_c_api'>PyDict_Size</span>(__pyx_kwds);\n",
       "      switch (pos_args) {\n",
       "        case  0:\n",
       "        if (likely((values[0] = <span class='py_c_api'>PyDict_GetItem</span>(__pyx_kwds, __pyx_n_s_a)) != 0)) kw_args--;\n",
       "        else goto __pyx_L5_argtuple_error;\n",
       "        case  1:\n",
       "        if (likely((values[1] = <span class='py_c_api'>PyDict_GetItem</span>(__pyx_kwds, __pyx_n_s_b)) != 0)) kw_args--;\n",
       "        else {\n",
       "          <span class='pyx_c_api'>__Pyx_RaiseArgtupleInvalid</span>(\"integrate\", 0, 3, 4, 1); __PYX_ERR(0, 2, __pyx_L3_error)\n",
       "        }\n",
       "        case  2:\n",
       "        if (likely((values[2] = <span class='py_c_api'>PyDict_GetItem</span>(__pyx_kwds, __pyx_n_s_f)) != 0)) kw_args--;\n",
       "        else {\n",
       "          <span class='pyx_c_api'>__Pyx_RaiseArgtupleInvalid</span>(\"integrate\", 0, 3, 4, 2); __PYX_ERR(0, 2, __pyx_L3_error)\n",
       "        }\n",
       "        case  3:\n",
       "        if (kw_args &gt; 0) {\n",
       "          PyObject* value = <span class='py_c_api'>PyDict_GetItem</span>(__pyx_kwds, __pyx_n_s_N);\n",
       "          if (value) { values[3] = value; kw_args--; }\n",
       "        }\n",
       "      }\n",
       "      if (unlikely(kw_args &gt; 0)) {\n",
       "        if (unlikely(<span class='pyx_c_api'>__Pyx_ParseOptionalKeywords</span>(__pyx_kwds, __pyx_pyargnames, 0, values, pos_args, \"integrate\") &lt; 0)) __PYX_ERR(0, 2, __pyx_L3_error)\n",
       "      }\n",
       "    } else {\n",
       "      switch (<span class='py_macro_api'>PyTuple_GET_SIZE</span>(__pyx_args)) {\n",
       "        case  4: values[3] = <span class='py_macro_api'>PyTuple_GET_ITEM</span>(__pyx_args, 3);\n",
       "        case  3: values[2] = <span class='py_macro_api'>PyTuple_GET_ITEM</span>(__pyx_args, 2);\n",
       "        values[1] = <span class='py_macro_api'>PyTuple_GET_ITEM</span>(__pyx_args, 1);\n",
       "        values[0] = <span class='py_macro_api'>PyTuple_GET_ITEM</span>(__pyx_args, 0);\n",
       "        break;\n",
       "        default: goto __pyx_L5_argtuple_error;\n",
       "      }\n",
       "    }\n",
       "    __pyx_v_a = values[0];\n",
       "    __pyx_v_b = values[1];\n",
       "    __pyx_v_f = values[2];\n",
       "    __pyx_v_N = values[3];\n",
       "  }\n",
       "  goto __pyx_L4_argument_unpacking_done;\n",
       "  __pyx_L5_argtuple_error:;\n",
       "  <span class='pyx_c_api'>__Pyx_RaiseArgtupleInvalid</span>(\"integrate\", 0, 3, 4, <span class='py_macro_api'>PyTuple_GET_SIZE</span>(__pyx_args)); __PYX_ERR(0, 2, __pyx_L3_error)\n",
       "  __pyx_L3_error:;\n",
       "  <span class='pyx_c_api'>__Pyx_AddTraceback</span>(\"_cython_magic_044d0ec314385ec9e98e2e0f11e77836.integrate\", __pyx_clineno, __pyx_lineno, __pyx_filename);\n",
       "  <span class='refnanny'>__Pyx_RefNannyFinishContext</span>();\n",
       "  return NULL;\n",
       "  __pyx_L4_argument_unpacking_done:;\n",
       "  __pyx_r = __pyx_pf_46_cython_magic_044d0ec314385ec9e98e2e0f11e77836_integrate(__pyx_self, __pyx_v_a, __pyx_v_b, __pyx_v_f, __pyx_v_N);\n",
       "\n",
       "  /* function exit code */\n",
       "  <span class='refnanny'>__Pyx_RefNannyFinishContext</span>();\n",
       "  return __pyx_r;\n",
       "}\n",
       "\n",
       "static PyObject *__pyx_pf_46_cython_magic_044d0ec314385ec9e98e2e0f11e77836_integrate(CYTHON_UNUSED PyObject *__pyx_self, PyObject *__pyx_v_a, PyObject *__pyx_v_b, PyObject *__pyx_v_f, PyObject *__pyx_v_N) {\n",
       "  PyObject *__pyx_v_dx = NULL;\n",
       "  PyObject *__pyx_v_s = NULL;\n",
       "  PyObject *__pyx_v_i = NULL;\n",
       "  PyObject *__pyx_r = NULL;\n",
       "  <span class='refnanny'>__Pyx_RefNannyDeclarations</span>\n",
       "  <span class='refnanny'>__Pyx_RefNannySetupContext</span>(\"integrate\", 0);\n",
       "/* … */\n",
       "  /* function exit code */\n",
       "  __pyx_L1_error:;\n",
       "  <span class='pyx_macro_api'>__Pyx_XDECREF</span>(__pyx_t_1);\n",
       "  <span class='pyx_macro_api'>__Pyx_XDECREF</span>(__pyx_t_2);\n",
       "  <span class='pyx_macro_api'>__Pyx_XDECREF</span>(__pyx_t_5);\n",
       "  <span class='pyx_macro_api'>__Pyx_XDECREF</span>(__pyx_t_6);\n",
       "  <span class='pyx_macro_api'>__Pyx_XDECREF</span>(__pyx_t_7);\n",
       "  <span class='pyx_macro_api'>__Pyx_XDECREF</span>(__pyx_t_8);\n",
       "  <span class='pyx_c_api'>__Pyx_AddTraceback</span>(\"_cython_magic_044d0ec314385ec9e98e2e0f11e77836.integrate\", __pyx_clineno, __pyx_lineno, __pyx_filename);\n",
       "  __pyx_r = NULL;\n",
       "  __pyx_L0:;\n",
       "  <span class='pyx_macro_api'>__Pyx_XDECREF</span>(__pyx_v_dx);\n",
       "  <span class='pyx_macro_api'>__Pyx_XDECREF</span>(__pyx_v_s);\n",
       "  <span class='pyx_macro_api'>__Pyx_XDECREF</span>(__pyx_v_i);\n",
       "  <span class='refnanny'>__Pyx_XGIVEREF</span>(__pyx_r);\n",
       "  <span class='refnanny'>__Pyx_RefNannyFinishContext</span>();\n",
       "  return __pyx_r;\n",
       "}\n",
       "/* … */\n",
       "  __pyx_tuple_ = <span class='py_c_api'>PyTuple_Pack</span>(7, __pyx_n_s_a, __pyx_n_s_b, __pyx_n_s_f, __pyx_n_s_N, __pyx_n_s_dx, __pyx_n_s_s, __pyx_n_s_i); if (unlikely(!__pyx_tuple_)) __PYX_ERR(0, 2, __pyx_L1_error)\n",
       "  <span class='refnanny'>__Pyx_GOTREF</span>(__pyx_tuple_);\n",
       "  <span class='refnanny'>__Pyx_GIVEREF</span>(__pyx_tuple_);\n",
       "/* … */\n",
       "  __pyx_t_1 = PyCFunction_NewEx(&amp;__pyx_mdef_46_cython_magic_044d0ec314385ec9e98e2e0f11e77836_1integrate, NULL, __pyx_n_s_cython_magic_044d0ec314385ec9e9); if (unlikely(!__pyx_t_1)) __PYX_ERR(0, 2, __pyx_L1_error)\n",
       "  <span class='refnanny'>__Pyx_GOTREF</span>(__pyx_t_1);\n",
       "  if (<span class='py_c_api'>PyDict_SetItem</span>(__pyx_d, __pyx_n_s_integrate, __pyx_t_1) &lt; 0) __PYX_ERR(0, 2, __pyx_L1_error)\n",
       "  <span class='pyx_macro_api'>__Pyx_DECREF</span>(__pyx_t_1); __pyx_t_1 = 0;\n",
       "</pre><pre class=\"cython line score-8\" onclick='toggleDiv(this)'>+<span class=\"\">3</span>:     <span class=\"n\">dx</span> <span class=\"o\">=</span> <span class=\"p\">(</span><span class=\"n\">a</span> <span class=\"o\">-</span> <span class=\"n\">b</span><span class=\"p\">)</span> <span class=\"o\">/</span> <span class=\"n\">N</span></pre>\n",
       "<pre class='cython code score-8 '>  __pyx_t_1 = <span class='py_c_api'>PyNumber_Subtract</span>(__pyx_v_a, __pyx_v_b); if (unlikely(!__pyx_t_1)) __PYX_ERR(0, 3, __pyx_L1_error)\n",
       "  <span class='refnanny'>__Pyx_GOTREF</span>(__pyx_t_1);\n",
       "  __pyx_t_2 = <span class='pyx_c_api'>__Pyx_PyNumber_Divide</span>(__pyx_t_1, __pyx_v_N); if (unlikely(!__pyx_t_2)) __PYX_ERR(0, 3, __pyx_L1_error)\n",
       "  <span class='refnanny'>__Pyx_GOTREF</span>(__pyx_t_2);\n",
       "  <span class='pyx_macro_api'>__Pyx_DECREF</span>(__pyx_t_1); __pyx_t_1 = 0;\n",
       "  __pyx_v_dx = __pyx_t_2;\n",
       "  __pyx_t_2 = 0;\n",
       "</pre><pre class=\"cython line score-1\" onclick='toggleDiv(this)'>+<span class=\"\">4</span>:     <span class=\"n\">s</span> <span class=\"o\">=</span> <span class=\"mf\">0.0</span></pre>\n",
       "<pre class='cython code score-1 '>  <span class='pyx_macro_api'>__Pyx_INCREF</span>(__pyx_float_0_0);\n",
       "  __pyx_v_s = __pyx_float_0_0;\n",
       "</pre><pre class=\"cython line score-57\" onclick='toggleDiv(this)'>+<span class=\"\">5</span>:     <span class=\"k\">for</span> <span class=\"n\">i</span> <span class=\"ow\">in</span> <span class=\"nb\">range</span><span class=\"p\">(</span><span class=\"n\">N</span><span class=\"p\">):</span></pre>\n",
       "<pre class='cython code score-57 '>  __pyx_t_2 = <span class='py_c_api'>PyTuple_New</span>(1); if (unlikely(!__pyx_t_2)) __PYX_ERR(0, 5, __pyx_L1_error)\n",
       "  <span class='refnanny'>__Pyx_GOTREF</span>(__pyx_t_2);\n",
       "  <span class='pyx_macro_api'>__Pyx_INCREF</span>(__pyx_v_N);\n",
       "  <span class='refnanny'>__Pyx_GIVEREF</span>(__pyx_v_N);\n",
       "  <span class='py_macro_api'>PyTuple_SET_ITEM</span>(__pyx_t_2, 0, __pyx_v_N);\n",
       "  __pyx_t_1 = <span class='pyx_c_api'>__Pyx_PyObject_Call</span>(__pyx_builtin_range, __pyx_t_2, NULL); if (unlikely(!__pyx_t_1)) __PYX_ERR(0, 5, __pyx_L1_error)\n",
       "  <span class='refnanny'>__Pyx_GOTREF</span>(__pyx_t_1);\n",
       "  <span class='pyx_macro_api'>__Pyx_DECREF</span>(__pyx_t_2); __pyx_t_2 = 0;\n",
       "  if (likely(<span class='py_c_api'>PyList_CheckExact</span>(__pyx_t_1)) || <span class='py_c_api'>PyTuple_CheckExact</span>(__pyx_t_1)) {\n",
       "    __pyx_t_2 = __pyx_t_1; <span class='pyx_macro_api'>__Pyx_INCREF</span>(__pyx_t_2); __pyx_t_3 = 0;\n",
       "    __pyx_t_4 = NULL;\n",
       "  } else {\n",
       "    __pyx_t_3 = -1; __pyx_t_2 = <span class='py_c_api'>PyObject_GetIter</span>(__pyx_t_1); if (unlikely(!__pyx_t_2)) __PYX_ERR(0, 5, __pyx_L1_error)\n",
       "    <span class='refnanny'>__Pyx_GOTREF</span>(__pyx_t_2);\n",
       "    __pyx_t_4 = Py_TYPE(__pyx_t_2)-&gt;tp_iternext; if (unlikely(!__pyx_t_4)) __PYX_ERR(0, 5, __pyx_L1_error)\n",
       "  }\n",
       "  <span class='pyx_macro_api'>__Pyx_DECREF</span>(__pyx_t_1); __pyx_t_1 = 0;\n",
       "  for (;;) {\n",
       "    if (likely(!__pyx_t_4)) {\n",
       "      if (likely(<span class='py_c_api'>PyList_CheckExact</span>(__pyx_t_2))) {\n",
       "        if (__pyx_t_3 &gt;= <span class='py_macro_api'>PyList_GET_SIZE</span>(__pyx_t_2)) break;\n",
       "        #if CYTHON_ASSUME_SAFE_MACROS &amp;&amp; !CYTHON_AVOID_BORROWED_REFS\n",
       "        __pyx_t_1 = <span class='py_macro_api'>PyList_GET_ITEM</span>(__pyx_t_2, __pyx_t_3); <span class='pyx_macro_api'>__Pyx_INCREF</span>(__pyx_t_1); __pyx_t_3++; if (unlikely(0 &lt; 0)) __PYX_ERR(0, 5, __pyx_L1_error)\n",
       "        #else\n",
       "        __pyx_t_1 = <span class='py_macro_api'>PySequence_ITEM</span>(__pyx_t_2, __pyx_t_3); __pyx_t_3++; if (unlikely(!__pyx_t_1)) __PYX_ERR(0, 5, __pyx_L1_error)\n",
       "        <span class='refnanny'>__Pyx_GOTREF</span>(__pyx_t_1);\n",
       "        #endif\n",
       "      } else {\n",
       "        if (__pyx_t_3 &gt;= <span class='py_macro_api'>PyTuple_GET_SIZE</span>(__pyx_t_2)) break;\n",
       "        #if CYTHON_ASSUME_SAFE_MACROS &amp;&amp; !CYTHON_AVOID_BORROWED_REFS\n",
       "        __pyx_t_1 = <span class='py_macro_api'>PyTuple_GET_ITEM</span>(__pyx_t_2, __pyx_t_3); <span class='pyx_macro_api'>__Pyx_INCREF</span>(__pyx_t_1); __pyx_t_3++; if (unlikely(0 &lt; 0)) __PYX_ERR(0, 5, __pyx_L1_error)\n",
       "        #else\n",
       "        __pyx_t_1 = <span class='py_macro_api'>PySequence_ITEM</span>(__pyx_t_2, __pyx_t_3); __pyx_t_3++; if (unlikely(!__pyx_t_1)) __PYX_ERR(0, 5, __pyx_L1_error)\n",
       "        <span class='refnanny'>__Pyx_GOTREF</span>(__pyx_t_1);\n",
       "        #endif\n",
       "      }\n",
       "    } else {\n",
       "      __pyx_t_1 = __pyx_t_4(__pyx_t_2);\n",
       "      if (unlikely(!__pyx_t_1)) {\n",
       "        PyObject* exc_type = <span class='py_c_api'>PyErr_Occurred</span>();\n",
       "        if (exc_type) {\n",
       "          if (likely(exc_type == PyExc_StopIteration || <span class='py_c_api'>PyErr_GivenExceptionMatches</span>(exc_type, PyExc_StopIteration))) <span class='py_c_api'>PyErr_Clear</span>();\n",
       "          else __PYX_ERR(0, 5, __pyx_L1_error)\n",
       "        }\n",
       "        break;\n",
       "      }\n",
       "      <span class='refnanny'>__Pyx_GOTREF</span>(__pyx_t_1);\n",
       "    }\n",
       "    <span class='pyx_macro_api'>__Pyx_XDECREF_SET</span>(__pyx_v_i, __pyx_t_1);\n",
       "    __pyx_t_1 = 0;\n",
       "/* … */\n",
       "  }\n",
       "  <span class='pyx_macro_api'>__Pyx_DECREF</span>(__pyx_t_2); __pyx_t_2 = 0;\n",
       "</pre><pre class=\"cython line score-58\" onclick='toggleDiv(this)'>+<span class=\"\">6</span>:         <span class=\"n\">s</span> <span class=\"o\">+=</span> <span class=\"n\">f</span><span class=\"p\">(</span><span class=\"n\">a</span> <span class=\"o\">+</span> <span class=\"n\">i</span> <span class=\"o\">*</span> <span class=\"n\">dx</span><span class=\"p\">)</span></pre>\n",
       "<pre class='cython code score-58 '>    __pyx_t_5 = <span class='py_c_api'>PyNumber_Multiply</span>(__pyx_v_i, __pyx_v_dx); if (unlikely(!__pyx_t_5)) __PYX_ERR(0, 6, __pyx_L1_error)\n",
       "    <span class='refnanny'>__Pyx_GOTREF</span>(__pyx_t_5);\n",
       "    __pyx_t_6 = <span class='py_c_api'>PyNumber_Add</span>(__pyx_v_a, __pyx_t_5); if (unlikely(!__pyx_t_6)) __PYX_ERR(0, 6, __pyx_L1_error)\n",
       "    <span class='refnanny'>__Pyx_GOTREF</span>(__pyx_t_6);\n",
       "    <span class='pyx_macro_api'>__Pyx_DECREF</span>(__pyx_t_5); __pyx_t_5 = 0;\n",
       "    <span class='pyx_macro_api'>__Pyx_INCREF</span>(__pyx_v_f);\n",
       "    __pyx_t_5 = __pyx_v_f; __pyx_t_7 = NULL;\n",
       "    if (CYTHON_UNPACK_METHODS &amp;&amp; unlikely(<span class='py_c_api'>PyMethod_Check</span>(__pyx_t_5))) {\n",
       "      __pyx_t_7 = <span class='py_macro_api'>PyMethod_GET_SELF</span>(__pyx_t_5);\n",
       "      if (likely(__pyx_t_7)) {\n",
       "        PyObject* function = <span class='py_macro_api'>PyMethod_GET_FUNCTION</span>(__pyx_t_5);\n",
       "        <span class='pyx_macro_api'>__Pyx_INCREF</span>(__pyx_t_7);\n",
       "        <span class='pyx_macro_api'>__Pyx_INCREF</span>(function);\n",
       "        <span class='pyx_macro_api'>__Pyx_DECREF_SET</span>(__pyx_t_5, function);\n",
       "      }\n",
       "    }\n",
       "    if (!__pyx_t_7) {\n",
       "      __pyx_t_1 = <span class='pyx_c_api'>__Pyx_PyObject_CallOneArg</span>(__pyx_t_5, __pyx_t_6); if (unlikely(!__pyx_t_1)) __PYX_ERR(0, 6, __pyx_L1_error)\n",
       "      <span class='pyx_macro_api'>__Pyx_DECREF</span>(__pyx_t_6); __pyx_t_6 = 0;\n",
       "      <span class='refnanny'>__Pyx_GOTREF</span>(__pyx_t_1);\n",
       "    } else {\n",
       "      #if CYTHON_FAST_PYCALL\n",
       "      if (<span class='py_c_api'>PyFunction_Check</span>(__pyx_t_5)) {\n",
       "        PyObject *__pyx_temp[2] = {__pyx_t_7, __pyx_t_6};\n",
       "        __pyx_t_1 = <span class='pyx_c_api'>__Pyx_PyFunction_FastCall</span>(__pyx_t_5, __pyx_temp+1-1, 1+1); if (unlikely(!__pyx_t_1)) __PYX_ERR(0, 6, __pyx_L1_error)\n",
       "        <span class='pyx_macro_api'>__Pyx_XDECREF</span>(__pyx_t_7); __pyx_t_7 = 0;\n",
       "        <span class='refnanny'>__Pyx_GOTREF</span>(__pyx_t_1);\n",
       "        <span class='pyx_macro_api'>__Pyx_DECREF</span>(__pyx_t_6); __pyx_t_6 = 0;\n",
       "      } else\n",
       "      #endif\n",
       "      #if CYTHON_FAST_PYCCALL\n",
       "      if (<span class='pyx_c_api'>__Pyx_PyFastCFunction_Check</span>(__pyx_t_5)) {\n",
       "        PyObject *__pyx_temp[2] = {__pyx_t_7, __pyx_t_6};\n",
       "        __pyx_t_1 = <span class='pyx_c_api'>__Pyx_PyCFunction_FastCall</span>(__pyx_t_5, __pyx_temp+1-1, 1+1); if (unlikely(!__pyx_t_1)) __PYX_ERR(0, 6, __pyx_L1_error)\n",
       "        <span class='pyx_macro_api'>__Pyx_XDECREF</span>(__pyx_t_7); __pyx_t_7 = 0;\n",
       "        <span class='refnanny'>__Pyx_GOTREF</span>(__pyx_t_1);\n",
       "        <span class='pyx_macro_api'>__Pyx_DECREF</span>(__pyx_t_6); __pyx_t_6 = 0;\n",
       "      } else\n",
       "      #endif\n",
       "      {\n",
       "        __pyx_t_8 = <span class='py_c_api'>PyTuple_New</span>(1+1); if (unlikely(!__pyx_t_8)) __PYX_ERR(0, 6, __pyx_L1_error)\n",
       "        <span class='refnanny'>__Pyx_GOTREF</span>(__pyx_t_8);\n",
       "        <span class='refnanny'>__Pyx_GIVEREF</span>(__pyx_t_7); <span class='py_macro_api'>PyTuple_SET_ITEM</span>(__pyx_t_8, 0, __pyx_t_7); __pyx_t_7 = NULL;\n",
       "        <span class='refnanny'>__Pyx_GIVEREF</span>(__pyx_t_6);\n",
       "        <span class='py_macro_api'>PyTuple_SET_ITEM</span>(__pyx_t_8, 0+1, __pyx_t_6);\n",
       "        __pyx_t_6 = 0;\n",
       "        __pyx_t_1 = <span class='pyx_c_api'>__Pyx_PyObject_Call</span>(__pyx_t_5, __pyx_t_8, NULL); if (unlikely(!__pyx_t_1)) __PYX_ERR(0, 6, __pyx_L1_error)\n",
       "        <span class='refnanny'>__Pyx_GOTREF</span>(__pyx_t_1);\n",
       "        <span class='pyx_macro_api'>__Pyx_DECREF</span>(__pyx_t_8); __pyx_t_8 = 0;\n",
       "      }\n",
       "    }\n",
       "    <span class='pyx_macro_api'>__Pyx_DECREF</span>(__pyx_t_5); __pyx_t_5 = 0;\n",
       "    __pyx_t_5 = <span class='py_c_api'>PyNumber_InPlaceAdd</span>(__pyx_v_s, __pyx_t_1); if (unlikely(!__pyx_t_5)) __PYX_ERR(0, 6, __pyx_L1_error)\n",
       "    <span class='refnanny'>__Pyx_GOTREF</span>(__pyx_t_5);\n",
       "    <span class='pyx_macro_api'>__Pyx_DECREF</span>(__pyx_t_1); __pyx_t_1 = 0;\n",
       "    <span class='pyx_macro_api'>__Pyx_DECREF_SET</span>(__pyx_v_s, __pyx_t_5);\n",
       "    __pyx_t_5 = 0;\n",
       "</pre><pre class=\"cython line score-6\" onclick='toggleDiv(this)'>+<span class=\"\">7</span>:     <span class=\"k\">return</span> <span class=\"n\">s</span> <span class=\"o\">*</span> <span class=\"n\">dx</span></pre>\n",
       "<pre class='cython code score-6 '>  <span class='pyx_macro_api'>__Pyx_XDECREF</span>(__pyx_r);\n",
       "  __pyx_t_2 = <span class='py_c_api'>PyNumber_Multiply</span>(__pyx_v_s, __pyx_v_dx); if (unlikely(!__pyx_t_2)) __PYX_ERR(0, 7, __pyx_L1_error)\n",
       "  <span class='refnanny'>__Pyx_GOTREF</span>(__pyx_t_2);\n",
       "  __pyx_r = __pyx_t_2;\n",
       "  __pyx_t_2 = 0;\n",
       "  goto __pyx_L0;\n",
       "</pre></div></body></html>"
      ],
      "text/plain": [
       "<IPython.core.display.HTML object>"
      ]
     },
     "execution_count": 26,
     "metadata": {},
     "output_type": "execute_result"
    }
   ],
   "source": [
    "%%cython -a\n",
    "# 高速化の対象となる関数(引数fをaからbまで積分)\n",
    "def integrate(a, b, f, N=2000):\n",
    "    dx = (a - b) / N\n",
    "    s = 0.0\n",
    "    for i in range(N):\n",
    "        s += f(a + i * dx)\n",
    "    return s * dx"
   ]
  },
  {
   "cell_type": "markdown",
   "metadata": {
    "nbpresent": {
     "id": "830e0866-b7f9-47b7-a0c1-7f9969b87f63"
    }
   },
   "source": [
    "### 前スライドのコード ###\n",
    "\n",
    "* 全ての行が濃い\n",
    "* 3行目が遅い理由\n",
    "    * `PyNumber_Subtract`, `__Pyx_PyNumber_Divide`\n",
    "    * エラー処理や参照カウント\n",
    "* 5行目のforループ\n",
    "    * 40行近くある"
   ]
  },
  {
   "cell_type": "markdown",
   "metadata": {
    "nbpresent": {
     "id": "d0d2bdd5-04cf-4642-b612-55f96e167d8a"
    }
   },
   "source": [
    "## 型宣言を追加 ##\n",
    "\n",
    "* 引数にdoubleを付ける\n",
    "* `cdef`でローカル変数に型付\n",
    "* `cdef`の使用方法\n",
    "    * `cdef unsigned int a`\n",
    "    * `cdef:`ブロック\n",
    "    * ここでは出てこないがポインタなども宣言可能"
   ]
  },
  {
   "cell_type": "code",
   "execution_count": 18,
   "metadata": {
    "collapsed": false,
    "nbpresent": {
     "id": "1a8db1af-5486-48b6-ab62-c81c045331b5"
    }
   },
   "outputs": [
    {
     "data": {
      "text/html": [
       "<!DOCTYPE html>\n",
       "<!-- Generated by Cython 0.25.2 -->\n",
       "<html>\n",
       "<head>\n",
       "    <meta http-equiv=\"Content-Type\" content=\"text/html; charset=utf-8\" />\n",
       "    <title>Cython: _cython_magic_51fd313c6f65cacceac595ce4cbd44ac.pyx</title>\n",
       "    <style type=\"text/css\">\n",
       "    \n",
       "body.cython { font-family: courier; font-size: 12; }\n",
       "\n",
       ".cython.tag  {  }\n",
       ".cython.line { margin: 0em }\n",
       ".cython.code { font-size: 9; color: #444444; display: none; margin: 0px 0px 0px 8px; border-left: 8px none; }\n",
       "\n",
       ".cython.line .run { background-color: #B0FFB0; }\n",
       ".cython.line .mis { background-color: #FFB0B0; }\n",
       ".cython.code.run  { border-left: 8px solid #B0FFB0; }\n",
       ".cython.code.mis  { border-left: 8px solid #FFB0B0; }\n",
       "\n",
       ".cython.code .py_c_api  { color: red; }\n",
       ".cython.code .py_macro_api  { color: #FF7000; }\n",
       ".cython.code .pyx_c_api  { color: #FF3000; }\n",
       ".cython.code .pyx_macro_api  { color: #FF7000; }\n",
       ".cython.code .refnanny  { color: #FFA000; }\n",
       ".cython.code .trace  { color: #FFA000; }\n",
       ".cython.code .error_goto  { color: #FFA000; }\n",
       "\n",
       ".cython.code .coerce  { color: #008000; border: 1px dotted #008000 }\n",
       ".cython.code .py_attr { color: #FF0000; font-weight: bold; }\n",
       ".cython.code .c_attr  { color: #0000FF; }\n",
       ".cython.code .py_call { color: #FF0000; font-weight: bold; }\n",
       ".cython.code .c_call  { color: #0000FF; }\n",
       "\n",
       ".cython.score-0 {background-color: #FFFFff;}\n",
       ".cython.score-1 {background-color: #FFFFe7;}\n",
       ".cython.score-2 {background-color: #FFFFd4;}\n",
       ".cython.score-3 {background-color: #FFFFc4;}\n",
       ".cython.score-4 {background-color: #FFFFb6;}\n",
       ".cython.score-5 {background-color: #FFFFaa;}\n",
       ".cython.score-6 {background-color: #FFFF9f;}\n",
       ".cython.score-7 {background-color: #FFFF96;}\n",
       ".cython.score-8 {background-color: #FFFF8d;}\n",
       ".cython.score-9 {background-color: #FFFF86;}\n",
       ".cython.score-10 {background-color: #FFFF7f;}\n",
       ".cython.score-11 {background-color: #FFFF79;}\n",
       ".cython.score-12 {background-color: #FFFF73;}\n",
       ".cython.score-13 {background-color: #FFFF6e;}\n",
       ".cython.score-14 {background-color: #FFFF6a;}\n",
       ".cython.score-15 {background-color: #FFFF66;}\n",
       ".cython.score-16 {background-color: #FFFF62;}\n",
       ".cython.score-17 {background-color: #FFFF5e;}\n",
       ".cython.score-18 {background-color: #FFFF5b;}\n",
       ".cython.score-19 {background-color: #FFFF57;}\n",
       ".cython.score-20 {background-color: #FFFF55;}\n",
       ".cython.score-21 {background-color: #FFFF52;}\n",
       ".cython.score-22 {background-color: #FFFF4f;}\n",
       ".cython.score-23 {background-color: #FFFF4d;}\n",
       ".cython.score-24 {background-color: #FFFF4b;}\n",
       ".cython.score-25 {background-color: #FFFF48;}\n",
       ".cython.score-26 {background-color: #FFFF46;}\n",
       ".cython.score-27 {background-color: #FFFF44;}\n",
       ".cython.score-28 {background-color: #FFFF43;}\n",
       ".cython.score-29 {background-color: #FFFF41;}\n",
       ".cython.score-30 {background-color: #FFFF3f;}\n",
       ".cython.score-31 {background-color: #FFFF3e;}\n",
       ".cython.score-32 {background-color: #FFFF3c;}\n",
       ".cython.score-33 {background-color: #FFFF3b;}\n",
       ".cython.score-34 {background-color: #FFFF39;}\n",
       ".cython.score-35 {background-color: #FFFF38;}\n",
       ".cython.score-36 {background-color: #FFFF37;}\n",
       ".cython.score-37 {background-color: #FFFF36;}\n",
       ".cython.score-38 {background-color: #FFFF35;}\n",
       ".cython.score-39 {background-color: #FFFF34;}\n",
       ".cython.score-40 {background-color: #FFFF33;}\n",
       ".cython.score-41 {background-color: #FFFF32;}\n",
       ".cython.score-42 {background-color: #FFFF31;}\n",
       ".cython.score-43 {background-color: #FFFF30;}\n",
       ".cython.score-44 {background-color: #FFFF2f;}\n",
       ".cython.score-45 {background-color: #FFFF2e;}\n",
       ".cython.score-46 {background-color: #FFFF2d;}\n",
       ".cython.score-47 {background-color: #FFFF2c;}\n",
       ".cython.score-48 {background-color: #FFFF2b;}\n",
       ".cython.score-49 {background-color: #FFFF2b;}\n",
       ".cython.score-50 {background-color: #FFFF2a;}\n",
       ".cython.score-51 {background-color: #FFFF29;}\n",
       ".cython.score-52 {background-color: #FFFF29;}\n",
       ".cython.score-53 {background-color: #FFFF28;}\n",
       ".cython.score-54 {background-color: #FFFF27;}\n",
       ".cython.score-55 {background-color: #FFFF27;}\n",
       ".cython.score-56 {background-color: #FFFF26;}\n",
       ".cython.score-57 {background-color: #FFFF26;}\n",
       ".cython.score-58 {background-color: #FFFF25;}\n",
       ".cython.score-59 {background-color: #FFFF24;}\n",
       ".cython.score-60 {background-color: #FFFF24;}\n",
       ".cython.score-61 {background-color: #FFFF23;}\n",
       ".cython.score-62 {background-color: #FFFF23;}\n",
       ".cython.score-63 {background-color: #FFFF22;}\n",
       ".cython.score-64 {background-color: #FFFF22;}\n",
       ".cython.score-65 {background-color: #FFFF22;}\n",
       ".cython.score-66 {background-color: #FFFF21;}\n",
       ".cython.score-67 {background-color: #FFFF21;}\n",
       ".cython.score-68 {background-color: #FFFF20;}\n",
       ".cython.score-69 {background-color: #FFFF20;}\n",
       ".cython.score-70 {background-color: #FFFF1f;}\n",
       ".cython.score-71 {background-color: #FFFF1f;}\n",
       ".cython.score-72 {background-color: #FFFF1f;}\n",
       ".cython.score-73 {background-color: #FFFF1e;}\n",
       ".cython.score-74 {background-color: #FFFF1e;}\n",
       ".cython.score-75 {background-color: #FFFF1e;}\n",
       ".cython.score-76 {background-color: #FFFF1d;}\n",
       ".cython.score-77 {background-color: #FFFF1d;}\n",
       ".cython.score-78 {background-color: #FFFF1c;}\n",
       ".cython.score-79 {background-color: #FFFF1c;}\n",
       ".cython.score-80 {background-color: #FFFF1c;}\n",
       ".cython.score-81 {background-color: #FFFF1c;}\n",
       ".cython.score-82 {background-color: #FFFF1b;}\n",
       ".cython.score-83 {background-color: #FFFF1b;}\n",
       ".cython.score-84 {background-color: #FFFF1b;}\n",
       ".cython.score-85 {background-color: #FFFF1a;}\n",
       ".cython.score-86 {background-color: #FFFF1a;}\n",
       ".cython.score-87 {background-color: #FFFF1a;}\n",
       ".cython.score-88 {background-color: #FFFF1a;}\n",
       ".cython.score-89 {background-color: #FFFF19;}\n",
       ".cython.score-90 {background-color: #FFFF19;}\n",
       ".cython.score-91 {background-color: #FFFF19;}\n",
       ".cython.score-92 {background-color: #FFFF19;}\n",
       ".cython.score-93 {background-color: #FFFF18;}\n",
       ".cython.score-94 {background-color: #FFFF18;}\n",
       ".cython.score-95 {background-color: #FFFF18;}\n",
       ".cython.score-96 {background-color: #FFFF18;}\n",
       ".cython.score-97 {background-color: #FFFF17;}\n",
       ".cython.score-98 {background-color: #FFFF17;}\n",
       ".cython.score-99 {background-color: #FFFF17;}\n",
       ".cython.score-100 {background-color: #FFFF17;}\n",
       ".cython.score-101 {background-color: #FFFF16;}\n",
       ".cython.score-102 {background-color: #FFFF16;}\n",
       ".cython.score-103 {background-color: #FFFF16;}\n",
       ".cython.score-104 {background-color: #FFFF16;}\n",
       ".cython.score-105 {background-color: #FFFF16;}\n",
       ".cython.score-106 {background-color: #FFFF15;}\n",
       ".cython.score-107 {background-color: #FFFF15;}\n",
       ".cython.score-108 {background-color: #FFFF15;}\n",
       ".cython.score-109 {background-color: #FFFF15;}\n",
       ".cython.score-110 {background-color: #FFFF15;}\n",
       ".cython.score-111 {background-color: #FFFF15;}\n",
       ".cython.score-112 {background-color: #FFFF14;}\n",
       ".cython.score-113 {background-color: #FFFF14;}\n",
       ".cython.score-114 {background-color: #FFFF14;}\n",
       ".cython.score-115 {background-color: #FFFF14;}\n",
       ".cython.score-116 {background-color: #FFFF14;}\n",
       ".cython.score-117 {background-color: #FFFF14;}\n",
       ".cython.score-118 {background-color: #FFFF13;}\n",
       ".cython.score-119 {background-color: #FFFF13;}\n",
       ".cython.score-120 {background-color: #FFFF13;}\n",
       ".cython.score-121 {background-color: #FFFF13;}\n",
       ".cython.score-122 {background-color: #FFFF13;}\n",
       ".cython.score-123 {background-color: #FFFF13;}\n",
       ".cython.score-124 {background-color: #FFFF13;}\n",
       ".cython.score-125 {background-color: #FFFF12;}\n",
       ".cython.score-126 {background-color: #FFFF12;}\n",
       ".cython.score-127 {background-color: #FFFF12;}\n",
       ".cython.score-128 {background-color: #FFFF12;}\n",
       ".cython.score-129 {background-color: #FFFF12;}\n",
       ".cython.score-130 {background-color: #FFFF12;}\n",
       ".cython.score-131 {background-color: #FFFF12;}\n",
       ".cython.score-132 {background-color: #FFFF11;}\n",
       ".cython.score-133 {background-color: #FFFF11;}\n",
       ".cython.score-134 {background-color: #FFFF11;}\n",
       ".cython.score-135 {background-color: #FFFF11;}\n",
       ".cython.score-136 {background-color: #FFFF11;}\n",
       ".cython.score-137 {background-color: #FFFF11;}\n",
       ".cython.score-138 {background-color: #FFFF11;}\n",
       ".cython.score-139 {background-color: #FFFF11;}\n",
       ".cython.score-140 {background-color: #FFFF11;}\n",
       ".cython.score-141 {background-color: #FFFF10;}\n",
       ".cython.score-142 {background-color: #FFFF10;}\n",
       ".cython.score-143 {background-color: #FFFF10;}\n",
       ".cython.score-144 {background-color: #FFFF10;}\n",
       ".cython.score-145 {background-color: #FFFF10;}\n",
       ".cython.score-146 {background-color: #FFFF10;}\n",
       ".cython.score-147 {background-color: #FFFF10;}\n",
       ".cython.score-148 {background-color: #FFFF10;}\n",
       ".cython.score-149 {background-color: #FFFF10;}\n",
       ".cython.score-150 {background-color: #FFFF0f;}\n",
       ".cython.score-151 {background-color: #FFFF0f;}\n",
       ".cython.score-152 {background-color: #FFFF0f;}\n",
       ".cython.score-153 {background-color: #FFFF0f;}\n",
       ".cython.score-154 {background-color: #FFFF0f;}\n",
       ".cython.score-155 {background-color: #FFFF0f;}\n",
       ".cython.score-156 {background-color: #FFFF0f;}\n",
       ".cython.score-157 {background-color: #FFFF0f;}\n",
       ".cython.score-158 {background-color: #FFFF0f;}\n",
       ".cython.score-159 {background-color: #FFFF0f;}\n",
       ".cython.score-160 {background-color: #FFFF0f;}\n",
       ".cython.score-161 {background-color: #FFFF0e;}\n",
       ".cython.score-162 {background-color: #FFFF0e;}\n",
       ".cython.score-163 {background-color: #FFFF0e;}\n",
       ".cython.score-164 {background-color: #FFFF0e;}\n",
       ".cython.score-165 {background-color: #FFFF0e;}\n",
       ".cython.score-166 {background-color: #FFFF0e;}\n",
       ".cython.score-167 {background-color: #FFFF0e;}\n",
       ".cython.score-168 {background-color: #FFFF0e;}\n",
       ".cython.score-169 {background-color: #FFFF0e;}\n",
       ".cython.score-170 {background-color: #FFFF0e;}\n",
       ".cython.score-171 {background-color: #FFFF0e;}\n",
       ".cython.score-172 {background-color: #FFFF0e;}\n",
       ".cython.score-173 {background-color: #FFFF0d;}\n",
       ".cython.score-174 {background-color: #FFFF0d;}\n",
       ".cython.score-175 {background-color: #FFFF0d;}\n",
       ".cython.score-176 {background-color: #FFFF0d;}\n",
       ".cython.score-177 {background-color: #FFFF0d;}\n",
       ".cython.score-178 {background-color: #FFFF0d;}\n",
       ".cython.score-179 {background-color: #FFFF0d;}\n",
       ".cython.score-180 {background-color: #FFFF0d;}\n",
       ".cython.score-181 {background-color: #FFFF0d;}\n",
       ".cython.score-182 {background-color: #FFFF0d;}\n",
       ".cython.score-183 {background-color: #FFFF0d;}\n",
       ".cython.score-184 {background-color: #FFFF0d;}\n",
       ".cython.score-185 {background-color: #FFFF0d;}\n",
       ".cython.score-186 {background-color: #FFFF0d;}\n",
       ".cython.score-187 {background-color: #FFFF0c;}\n",
       ".cython.score-188 {background-color: #FFFF0c;}\n",
       ".cython.score-189 {background-color: #FFFF0c;}\n",
       ".cython.score-190 {background-color: #FFFF0c;}\n",
       ".cython.score-191 {background-color: #FFFF0c;}\n",
       ".cython.score-192 {background-color: #FFFF0c;}\n",
       ".cython.score-193 {background-color: #FFFF0c;}\n",
       ".cython.score-194 {background-color: #FFFF0c;}\n",
       ".cython.score-195 {background-color: #FFFF0c;}\n",
       ".cython.score-196 {background-color: #FFFF0c;}\n",
       ".cython.score-197 {background-color: #FFFF0c;}\n",
       ".cython.score-198 {background-color: #FFFF0c;}\n",
       ".cython.score-199 {background-color: #FFFF0c;}\n",
       ".cython.score-200 {background-color: #FFFF0c;}\n",
       ".cython.score-201 {background-color: #FFFF0c;}\n",
       ".cython.score-202 {background-color: #FFFF0c;}\n",
       ".cython.score-203 {background-color: #FFFF0b;}\n",
       ".cython.score-204 {background-color: #FFFF0b;}\n",
       ".cython.score-205 {background-color: #FFFF0b;}\n",
       ".cython.score-206 {background-color: #FFFF0b;}\n",
       ".cython.score-207 {background-color: #FFFF0b;}\n",
       ".cython.score-208 {background-color: #FFFF0b;}\n",
       ".cython.score-209 {background-color: #FFFF0b;}\n",
       ".cython.score-210 {background-color: #FFFF0b;}\n",
       ".cython.score-211 {background-color: #FFFF0b;}\n",
       ".cython.score-212 {background-color: #FFFF0b;}\n",
       ".cython.score-213 {background-color: #FFFF0b;}\n",
       ".cython.score-214 {background-color: #FFFF0b;}\n",
       ".cython.score-215 {background-color: #FFFF0b;}\n",
       ".cython.score-216 {background-color: #FFFF0b;}\n",
       ".cython.score-217 {background-color: #FFFF0b;}\n",
       ".cython.score-218 {background-color: #FFFF0b;}\n",
       ".cython.score-219 {background-color: #FFFF0b;}\n",
       ".cython.score-220 {background-color: #FFFF0b;}\n",
       ".cython.score-221 {background-color: #FFFF0b;}\n",
       ".cython.score-222 {background-color: #FFFF0a;}\n",
       ".cython.score-223 {background-color: #FFFF0a;}\n",
       ".cython.score-224 {background-color: #FFFF0a;}\n",
       ".cython.score-225 {background-color: #FFFF0a;}\n",
       ".cython.score-226 {background-color: #FFFF0a;}\n",
       ".cython.score-227 {background-color: #FFFF0a;}\n",
       ".cython.score-228 {background-color: #FFFF0a;}\n",
       ".cython.score-229 {background-color: #FFFF0a;}\n",
       ".cython.score-230 {background-color: #FFFF0a;}\n",
       ".cython.score-231 {background-color: #FFFF0a;}\n",
       ".cython.score-232 {background-color: #FFFF0a;}\n",
       ".cython.score-233 {background-color: #FFFF0a;}\n",
       ".cython.score-234 {background-color: #FFFF0a;}\n",
       ".cython.score-235 {background-color: #FFFF0a;}\n",
       ".cython.score-236 {background-color: #FFFF0a;}\n",
       ".cython.score-237 {background-color: #FFFF0a;}\n",
       ".cython.score-238 {background-color: #FFFF0a;}\n",
       ".cython.score-239 {background-color: #FFFF0a;}\n",
       ".cython.score-240 {background-color: #FFFF0a;}\n",
       ".cython.score-241 {background-color: #FFFF0a;}\n",
       ".cython.score-242 {background-color: #FFFF0a;}\n",
       ".cython.score-243 {background-color: #FFFF0a;}\n",
       ".cython.score-244 {background-color: #FFFF0a;}\n",
       ".cython.score-245 {background-color: #FFFF0a;}\n",
       ".cython.score-246 {background-color: #FFFF09;}\n",
       ".cython.score-247 {background-color: #FFFF09;}\n",
       ".cython.score-248 {background-color: #FFFF09;}\n",
       ".cython.score-249 {background-color: #FFFF09;}\n",
       ".cython.score-250 {background-color: #FFFF09;}\n",
       ".cython.score-251 {background-color: #FFFF09;}\n",
       ".cython.score-252 {background-color: #FFFF09;}\n",
       ".cython.score-253 {background-color: #FFFF09;}\n",
       ".cython.score-254 {background-color: #FFFF09;}\n",
       ".cython .hll { background-color: #ffffcc }\n",
       ".cython  { background: #f8f8f8; }\n",
       ".cython .c { color: #408080; font-style: italic } /* Comment */\n",
       ".cython .err { border: 1px solid #FF0000 } /* Error */\n",
       ".cython .k { color: #008000; font-weight: bold } /* Keyword */\n",
       ".cython .o { color: #666666 } /* Operator */\n",
       ".cython .ch { color: #408080; font-style: italic } /* Comment.Hashbang */\n",
       ".cython .cm { color: #408080; font-style: italic } /* Comment.Multiline */\n",
       ".cython .cp { color: #BC7A00 } /* Comment.Preproc */\n",
       ".cython .cpf { color: #408080; font-style: italic } /* Comment.PreprocFile */\n",
       ".cython .c1 { color: #408080; font-style: italic } /* Comment.Single */\n",
       ".cython .cs { color: #408080; font-style: italic } /* Comment.Special */\n",
       ".cython .gd { color: #A00000 } /* Generic.Deleted */\n",
       ".cython .ge { font-style: italic } /* Generic.Emph */\n",
       ".cython .gr { color: #FF0000 } /* Generic.Error */\n",
       ".cython .gh { color: #000080; font-weight: bold } /* Generic.Heading */\n",
       ".cython .gi { color: #00A000 } /* Generic.Inserted */\n",
       ".cython .go { color: #888888 } /* Generic.Output */\n",
       ".cython .gp { color: #000080; font-weight: bold } /* Generic.Prompt */\n",
       ".cython .gs { font-weight: bold } /* Generic.Strong */\n",
       ".cython .gu { color: #800080; font-weight: bold } /* Generic.Subheading */\n",
       ".cython .gt { color: #0044DD } /* Generic.Traceback */\n",
       ".cython .kc { color: #008000; font-weight: bold } /* Keyword.Constant */\n",
       ".cython .kd { color: #008000; font-weight: bold } /* Keyword.Declaration */\n",
       ".cython .kn { color: #008000; font-weight: bold } /* Keyword.Namespace */\n",
       ".cython .kp { color: #008000 } /* Keyword.Pseudo */\n",
       ".cython .kr { color: #008000; font-weight: bold } /* Keyword.Reserved */\n",
       ".cython .kt { color: #B00040 } /* Keyword.Type */\n",
       ".cython .m { color: #666666 } /* Literal.Number */\n",
       ".cython .s { color: #BA2121 } /* Literal.String */\n",
       ".cython .na { color: #7D9029 } /* Name.Attribute */\n",
       ".cython .nb { color: #008000 } /* Name.Builtin */\n",
       ".cython .nc { color: #0000FF; font-weight: bold } /* Name.Class */\n",
       ".cython .no { color: #880000 } /* Name.Constant */\n",
       ".cython .nd { color: #AA22FF } /* Name.Decorator */\n",
       ".cython .ni { color: #999999; font-weight: bold } /* Name.Entity */\n",
       ".cython .ne { color: #D2413A; font-weight: bold } /* Name.Exception */\n",
       ".cython .nf { color: #0000FF } /* Name.Function */\n",
       ".cython .nl { color: #A0A000 } /* Name.Label */\n",
       ".cython .nn { color: #0000FF; font-weight: bold } /* Name.Namespace */\n",
       ".cython .nt { color: #008000; font-weight: bold } /* Name.Tag */\n",
       ".cython .nv { color: #19177C } /* Name.Variable */\n",
       ".cython .ow { color: #AA22FF; font-weight: bold } /* Operator.Word */\n",
       ".cython .w { color: #bbbbbb } /* Text.Whitespace */\n",
       ".cython .mb { color: #666666 } /* Literal.Number.Bin */\n",
       ".cython .mf { color: #666666 } /* Literal.Number.Float */\n",
       ".cython .mh { color: #666666 } /* Literal.Number.Hex */\n",
       ".cython .mi { color: #666666 } /* Literal.Number.Integer */\n",
       ".cython .mo { color: #666666 } /* Literal.Number.Oct */\n",
       ".cython .sb { color: #BA2121 } /* Literal.String.Backtick */\n",
       ".cython .sc { color: #BA2121 } /* Literal.String.Char */\n",
       ".cython .sd { color: #BA2121; font-style: italic } /* Literal.String.Doc */\n",
       ".cython .s2 { color: #BA2121 } /* Literal.String.Double */\n",
       ".cython .se { color: #BB6622; font-weight: bold } /* Literal.String.Escape */\n",
       ".cython .sh { color: #BA2121 } /* Literal.String.Heredoc */\n",
       ".cython .si { color: #BB6688; font-weight: bold } /* Literal.String.Interpol */\n",
       ".cython .sx { color: #008000 } /* Literal.String.Other */\n",
       ".cython .sr { color: #BB6688 } /* Literal.String.Regex */\n",
       ".cython .s1 { color: #BA2121 } /* Literal.String.Single */\n",
       ".cython .ss { color: #19177C } /* Literal.String.Symbol */\n",
       ".cython .bp { color: #008000 } /* Name.Builtin.Pseudo */\n",
       ".cython .vc { color: #19177C } /* Name.Variable.Class */\n",
       ".cython .vg { color: #19177C } /* Name.Variable.Global */\n",
       ".cython .vi { color: #19177C } /* Name.Variable.Instance */\n",
       ".cython .il { color: #666666 } /* Literal.Number.Integer.Long */\n",
       "    </style>\n",
       "    <script>\n",
       "    function toggleDiv(id) {\n",
       "        theDiv = id.nextElementSibling\n",
       "        if (theDiv.style.display != 'block') theDiv.style.display = 'block';\n",
       "        else theDiv.style.display = 'none';\n",
       "    }\n",
       "    </script>\n",
       "</head>\n",
       "<body class=\"cython\">\n",
       "<p><span style=\"border-bottom: solid 1px grey;\">Generated by Cython 0.25.2</span></p>\n",
       "<p>\n",
       "    <span style=\"background-color: #FFFF00\">Yellow lines</span> hint at Python interaction.<br />\n",
       "    Click on a line that starts with a \"<code>+</code>\" to see the C code that Cython generated for it.\n",
       "</p>\n",
       "<div class=\"cython\"><pre class=\"cython line score-92\" onclick='toggleDiv(this)'>+<span class=\"\">1</span>: <span class=\"k\">def</span> <span class=\"nf\">typed_integrate</span><span class=\"p\">(</span><span class=\"n\">double</span> <span class=\"n\">a</span><span class=\"p\">,</span> <span class=\"n\">double</span> <span class=\"n\">b</span><span class=\"p\">,</span> <span class=\"n\">f</span><span class=\"p\">,</span> <span class=\"nb\">int</span> <span class=\"n\">N</span><span class=\"o\">=</span><span class=\"mf\">2000</span><span class=\"p\">):</span></pre>\n",
       "<pre class='cython code score-92 '>/* Python wrapper */\n",
       "static PyObject *__pyx_pw_46_cython_magic_51fd313c6f65cacceac595ce4cbd44ac_1typed_integrate(PyObject *__pyx_self, PyObject *__pyx_args, PyObject *__pyx_kwds); /*proto*/\n",
       "static PyMethodDef __pyx_mdef_46_cython_magic_51fd313c6f65cacceac595ce4cbd44ac_1typed_integrate = {\"typed_integrate\", (PyCFunction)__pyx_pw_46_cython_magic_51fd313c6f65cacceac595ce4cbd44ac_1typed_integrate, METH_VARARGS|METH_KEYWORDS, 0};\n",
       "static PyObject *__pyx_pw_46_cython_magic_51fd313c6f65cacceac595ce4cbd44ac_1typed_integrate(PyObject *__pyx_self, PyObject *__pyx_args, PyObject *__pyx_kwds) {\n",
       "  double __pyx_v_a;\n",
       "  double __pyx_v_b;\n",
       "  PyObject *__pyx_v_f = 0;\n",
       "  int __pyx_v_N;\n",
       "  PyObject *__pyx_r = 0;\n",
       "  <span class='refnanny'>__Pyx_RefNannyDeclarations</span>\n",
       "  <span class='refnanny'>__Pyx_RefNannySetupContext</span>(\"typed_integrate (wrapper)\", 0);\n",
       "  {\n",
       "    static PyObject **__pyx_pyargnames[] = {&amp;__pyx_n_s_a,&amp;__pyx_n_s_b,&amp;__pyx_n_s_f,&amp;__pyx_n_s_N,0};\n",
       "    PyObject* values[4] = {0,0,0,0};\n",
       "    if (unlikely(__pyx_kwds)) {\n",
       "      Py_ssize_t kw_args;\n",
       "      const Py_ssize_t pos_args = <span class='py_macro_api'>PyTuple_GET_SIZE</span>(__pyx_args);\n",
       "      switch (pos_args) {\n",
       "        case  4: values[3] = <span class='py_macro_api'>PyTuple_GET_ITEM</span>(__pyx_args, 3);\n",
       "        case  3: values[2] = <span class='py_macro_api'>PyTuple_GET_ITEM</span>(__pyx_args, 2);\n",
       "        case  2: values[1] = <span class='py_macro_api'>PyTuple_GET_ITEM</span>(__pyx_args, 1);\n",
       "        case  1: values[0] = <span class='py_macro_api'>PyTuple_GET_ITEM</span>(__pyx_args, 0);\n",
       "        case  0: break;\n",
       "        default: goto __pyx_L5_argtuple_error;\n",
       "      }\n",
       "      kw_args = <span class='py_c_api'>PyDict_Size</span>(__pyx_kwds);\n",
       "      switch (pos_args) {\n",
       "        case  0:\n",
       "        if (likely((values[0] = <span class='py_c_api'>PyDict_GetItem</span>(__pyx_kwds, __pyx_n_s_a)) != 0)) kw_args--;\n",
       "        else goto __pyx_L5_argtuple_error;\n",
       "        case  1:\n",
       "        if (likely((values[1] = <span class='py_c_api'>PyDict_GetItem</span>(__pyx_kwds, __pyx_n_s_b)) != 0)) kw_args--;\n",
       "        else {\n",
       "          <span class='pyx_c_api'>__Pyx_RaiseArgtupleInvalid</span>(\"typed_integrate\", 0, 3, 4, 1); __PYX_ERR(0, 1, __pyx_L3_error)\n",
       "        }\n",
       "        case  2:\n",
       "        if (likely((values[2] = <span class='py_c_api'>PyDict_GetItem</span>(__pyx_kwds, __pyx_n_s_f)) != 0)) kw_args--;\n",
       "        else {\n",
       "          <span class='pyx_c_api'>__Pyx_RaiseArgtupleInvalid</span>(\"typed_integrate\", 0, 3, 4, 2); __PYX_ERR(0, 1, __pyx_L3_error)\n",
       "        }\n",
       "        case  3:\n",
       "        if (kw_args &gt; 0) {\n",
       "          PyObject* value = <span class='py_c_api'>PyDict_GetItem</span>(__pyx_kwds, __pyx_n_s_N);\n",
       "          if (value) { values[3] = value; kw_args--; }\n",
       "        }\n",
       "      }\n",
       "      if (unlikely(kw_args &gt; 0)) {\n",
       "        if (unlikely(<span class='pyx_c_api'>__Pyx_ParseOptionalKeywords</span>(__pyx_kwds, __pyx_pyargnames, 0, values, pos_args, \"typed_integrate\") &lt; 0)) __PYX_ERR(0, 1, __pyx_L3_error)\n",
       "      }\n",
       "    } else {\n",
       "      switch (<span class='py_macro_api'>PyTuple_GET_SIZE</span>(__pyx_args)) {\n",
       "        case  4: values[3] = <span class='py_macro_api'>PyTuple_GET_ITEM</span>(__pyx_args, 3);\n",
       "        case  3: values[2] = <span class='py_macro_api'>PyTuple_GET_ITEM</span>(__pyx_args, 2);\n",
       "        values[1] = <span class='py_macro_api'>PyTuple_GET_ITEM</span>(__pyx_args, 1);\n",
       "        values[0] = <span class='py_macro_api'>PyTuple_GET_ITEM</span>(__pyx_args, 0);\n",
       "        break;\n",
       "        default: goto __pyx_L5_argtuple_error;\n",
       "      }\n",
       "    }\n",
       "    __pyx_v_a = __pyx_<span class='py_c_api'>PyFloat_AsDouble</span>(values[0]); if (unlikely((__pyx_v_a == (double)-1) &amp;&amp; <span class='py_c_api'>PyErr_Occurred</span>())) __PYX_ERR(0, 1, __pyx_L3_error)\n",
       "    __pyx_v_b = __pyx_<span class='py_c_api'>PyFloat_AsDouble</span>(values[1]); if (unlikely((__pyx_v_b == (double)-1) &amp;&amp; <span class='py_c_api'>PyErr_Occurred</span>())) __PYX_ERR(0, 1, __pyx_L3_error)\n",
       "    __pyx_v_f = values[2];\n",
       "    if (values[3]) {\n",
       "      __pyx_v_N = <span class='pyx_c_api'>__Pyx_PyInt_As_int</span>(values[3]); if (unlikely((__pyx_v_N == (int)-1) &amp;&amp; <span class='py_c_api'>PyErr_Occurred</span>())) __PYX_ERR(0, 1, __pyx_L3_error)\n",
       "    } else {\n",
       "      __pyx_v_N = ((int)0x7D0);\n",
       "    }\n",
       "  }\n",
       "  goto __pyx_L4_argument_unpacking_done;\n",
       "  __pyx_L5_argtuple_error:;\n",
       "  <span class='pyx_c_api'>__Pyx_RaiseArgtupleInvalid</span>(\"typed_integrate\", 0, 3, 4, <span class='py_macro_api'>PyTuple_GET_SIZE</span>(__pyx_args)); __PYX_ERR(0, 1, __pyx_L3_error)\n",
       "  __pyx_L3_error:;\n",
       "  <span class='pyx_c_api'>__Pyx_AddTraceback</span>(\"_cython_magic_51fd313c6f65cacceac595ce4cbd44ac.typed_integrate\", __pyx_clineno, __pyx_lineno, __pyx_filename);\n",
       "  <span class='refnanny'>__Pyx_RefNannyFinishContext</span>();\n",
       "  return NULL;\n",
       "  __pyx_L4_argument_unpacking_done:;\n",
       "  __pyx_r = __pyx_pf_46_cython_magic_51fd313c6f65cacceac595ce4cbd44ac_typed_integrate(__pyx_self, __pyx_v_a, __pyx_v_b, __pyx_v_f, __pyx_v_N);\n",
       "\n",
       "  /* function exit code */\n",
       "  <span class='refnanny'>__Pyx_RefNannyFinishContext</span>();\n",
       "  return __pyx_r;\n",
       "}\n",
       "\n",
       "static PyObject *__pyx_pf_46_cython_magic_51fd313c6f65cacceac595ce4cbd44ac_typed_integrate(CYTHON_UNUSED PyObject *__pyx_self, double __pyx_v_a, double __pyx_v_b, PyObject *__pyx_v_f, int __pyx_v_N) {\n",
       "  int __pyx_v_i;\n",
       "  double __pyx_v_dx;\n",
       "  double __pyx_v_s;\n",
       "  PyObject *__pyx_r = NULL;\n",
       "  <span class='refnanny'>__Pyx_RefNannyDeclarations</span>\n",
       "  <span class='refnanny'>__Pyx_RefNannySetupContext</span>(\"typed_integrate\", 0);\n",
       "/* … */\n",
       "  /* function exit code */\n",
       "  __pyx_L1_error:;\n",
       "  <span class='pyx_macro_api'>__Pyx_XDECREF</span>(__pyx_t_4);\n",
       "  <span class='pyx_macro_api'>__Pyx_XDECREF</span>(__pyx_t_5);\n",
       "  <span class='pyx_macro_api'>__Pyx_XDECREF</span>(__pyx_t_6);\n",
       "  <span class='pyx_macro_api'>__Pyx_XDECREF</span>(__pyx_t_7);\n",
       "  <span class='pyx_macro_api'>__Pyx_XDECREF</span>(__pyx_t_8);\n",
       "  <span class='pyx_macro_api'>__Pyx_XDECREF</span>(__pyx_t_9);\n",
       "  <span class='pyx_c_api'>__Pyx_AddTraceback</span>(\"_cython_magic_51fd313c6f65cacceac595ce4cbd44ac.typed_integrate\", __pyx_clineno, __pyx_lineno, __pyx_filename);\n",
       "  __pyx_r = NULL;\n",
       "  __pyx_L0:;\n",
       "  <span class='refnanny'>__Pyx_XGIVEREF</span>(__pyx_r);\n",
       "  <span class='refnanny'>__Pyx_RefNannyFinishContext</span>();\n",
       "  return __pyx_r;\n",
       "}\n",
       "/* … */\n",
       "  __pyx_tuple_ = <span class='py_c_api'>PyTuple_Pack</span>(7, __pyx_n_s_a, __pyx_n_s_b, __pyx_n_s_f, __pyx_n_s_N, __pyx_n_s_i, __pyx_n_s_dx, __pyx_n_s_s); if (unlikely(!__pyx_tuple_)) __PYX_ERR(0, 1, __pyx_L1_error)\n",
       "  <span class='refnanny'>__Pyx_GOTREF</span>(__pyx_tuple_);\n",
       "  <span class='refnanny'>__Pyx_GIVEREF</span>(__pyx_tuple_);\n",
       "/* … */\n",
       "  __pyx_t_1 = PyCFunction_NewEx(&amp;__pyx_mdef_46_cython_magic_51fd313c6f65cacceac595ce4cbd44ac_1typed_integrate, NULL, __pyx_n_s_cython_magic_51fd313c6f65caccea); if (unlikely(!__pyx_t_1)) __PYX_ERR(0, 1, __pyx_L1_error)\n",
       "  <span class='refnanny'>__Pyx_GOTREF</span>(__pyx_t_1);\n",
       "  if (<span class='py_c_api'>PyDict_SetItem</span>(__pyx_d, __pyx_n_s_typed_integrate, __pyx_t_1) &lt; 0) __PYX_ERR(0, 1, __pyx_L1_error)\n",
       "  <span class='pyx_macro_api'>__Pyx_DECREF</span>(__pyx_t_1); __pyx_t_1 = 0;\n",
       "</pre><pre class=\"cython line score-0\">&#xA0;<span class=\"\">2</span>:     <span class=\"k\">cdef</span><span class=\"p\">:</span></pre>\n",
       "<pre class=\"cython line score-0\">&#xA0;<span class=\"\">3</span>:         <span class=\"nb\">int</span> <span class=\"n\">i</span></pre>\n",
       "<pre class=\"cython line score-5\" onclick='toggleDiv(this)'>+<span class=\"\">4</span>:         <span class=\"n\">double</span> <span class=\"n\">dx</span> <span class=\"o\">=</span> <span class=\"p\">(</span><span class=\"n\">b</span> <span class=\"o\">-</span> <span class=\"n\">a</span><span class=\"p\">)</span> <span class=\"o\">/</span> <span class=\"n\">N</span></pre>\n",
       "<pre class='cython code score-5 '>  __pyx_t_1 = (__pyx_v_b - __pyx_v_a);\n",
       "  if (unlikely(__pyx_v_N == 0)) {\n",
       "    <span class='py_c_api'>PyErr_SetString</span>(PyExc_ZeroDivisionError, \"float division\");\n",
       "    __PYX_ERR(0, 4, __pyx_L1_error)\n",
       "  }\n",
       "  __pyx_v_dx = (__pyx_t_1 / ((double)__pyx_v_N));\n",
       "</pre><pre class=\"cython line score-0\" onclick='toggleDiv(this)'>+<span class=\"\">5</span>:         <span class=\"n\">double</span> <span class=\"n\">s</span> <span class=\"o\">=</span> <span class=\"mf\">0.0</span></pre>\n",
       "<pre class='cython code score-0 '>  __pyx_v_s = 0.0;\n",
       "</pre><pre class=\"cython line score-0\">&#xA0;<span class=\"\">6</span>: </pre>\n",
       "<pre class=\"cython line score-0\" onclick='toggleDiv(this)'>+<span class=\"\">7</span>:     <span class=\"k\">for</span> <span class=\"n\">i</span> <span class=\"ow\">in</span> <span class=\"nb\">range</span><span class=\"p\">(</span><span class=\"n\">N</span><span class=\"p\">):</span></pre>\n",
       "<pre class='cython code score-0 '>  __pyx_t_2 = __pyx_v_N;\n",
       "  for (__pyx_t_3 = 0; __pyx_t_3 &lt; __pyx_t_2; __pyx_t_3+=1) {\n",
       "    __pyx_v_i = __pyx_t_3;\n",
       "</pre><pre class=\"cython line score-68\" onclick='toggleDiv(this)'>+<span class=\"\">8</span>:         <span class=\"n\">s</span> <span class=\"o\">+=</span> <span class=\"n\">f</span><span class=\"p\">(</span><span class=\"n\">a</span> <span class=\"o\">+</span> <span class=\"n\">i</span> <span class=\"o\">*</span> <span class=\"n\">dx</span><span class=\"p\">)</span></pre>\n",
       "<pre class='cython code score-68 '>    __pyx_t_4 = <span class='py_c_api'>PyFloat_FromDouble</span>(__pyx_v_s); if (unlikely(!__pyx_t_4)) __PYX_ERR(0, 8, __pyx_L1_error)\n",
       "    <span class='refnanny'>__Pyx_GOTREF</span>(__pyx_t_4);\n",
       "    __pyx_t_6 = <span class='py_c_api'>PyFloat_FromDouble</span>((__pyx_v_a + (__pyx_v_i * __pyx_v_dx))); if (unlikely(!__pyx_t_6)) __PYX_ERR(0, 8, __pyx_L1_error)\n",
       "    <span class='refnanny'>__Pyx_GOTREF</span>(__pyx_t_6);\n",
       "    <span class='pyx_macro_api'>__Pyx_INCREF</span>(__pyx_v_f);\n",
       "    __pyx_t_7 = __pyx_v_f; __pyx_t_8 = NULL;\n",
       "    if (CYTHON_UNPACK_METHODS &amp;&amp; unlikely(<span class='py_c_api'>PyMethod_Check</span>(__pyx_t_7))) {\n",
       "      __pyx_t_8 = <span class='py_macro_api'>PyMethod_GET_SELF</span>(__pyx_t_7);\n",
       "      if (likely(__pyx_t_8)) {\n",
       "        PyObject* function = <span class='py_macro_api'>PyMethod_GET_FUNCTION</span>(__pyx_t_7);\n",
       "        <span class='pyx_macro_api'>__Pyx_INCREF</span>(__pyx_t_8);\n",
       "        <span class='pyx_macro_api'>__Pyx_INCREF</span>(function);\n",
       "        <span class='pyx_macro_api'>__Pyx_DECREF_SET</span>(__pyx_t_7, function);\n",
       "      }\n",
       "    }\n",
       "    if (!__pyx_t_8) {\n",
       "      __pyx_t_5 = <span class='pyx_c_api'>__Pyx_PyObject_CallOneArg</span>(__pyx_t_7, __pyx_t_6); if (unlikely(!__pyx_t_5)) __PYX_ERR(0, 8, __pyx_L1_error)\n",
       "      <span class='pyx_macro_api'>__Pyx_DECREF</span>(__pyx_t_6); __pyx_t_6 = 0;\n",
       "      <span class='refnanny'>__Pyx_GOTREF</span>(__pyx_t_5);\n",
       "    } else {\n",
       "      #if CYTHON_FAST_PYCALL\n",
       "      if (<span class='py_c_api'>PyFunction_Check</span>(__pyx_t_7)) {\n",
       "        PyObject *__pyx_temp[2] = {__pyx_t_8, __pyx_t_6};\n",
       "        __pyx_t_5 = <span class='pyx_c_api'>__Pyx_PyFunction_FastCall</span>(__pyx_t_7, __pyx_temp+1-1, 1+1); if (unlikely(!__pyx_t_5)) __PYX_ERR(0, 8, __pyx_L1_error)\n",
       "        <span class='pyx_macro_api'>__Pyx_XDECREF</span>(__pyx_t_8); __pyx_t_8 = 0;\n",
       "        <span class='refnanny'>__Pyx_GOTREF</span>(__pyx_t_5);\n",
       "        <span class='pyx_macro_api'>__Pyx_DECREF</span>(__pyx_t_6); __pyx_t_6 = 0;\n",
       "      } else\n",
       "      #endif\n",
       "      #if CYTHON_FAST_PYCCALL\n",
       "      if (<span class='pyx_c_api'>__Pyx_PyFastCFunction_Check</span>(__pyx_t_7)) {\n",
       "        PyObject *__pyx_temp[2] = {__pyx_t_8, __pyx_t_6};\n",
       "        __pyx_t_5 = <span class='pyx_c_api'>__Pyx_PyCFunction_FastCall</span>(__pyx_t_7, __pyx_temp+1-1, 1+1); if (unlikely(!__pyx_t_5)) __PYX_ERR(0, 8, __pyx_L1_error)\n",
       "        <span class='pyx_macro_api'>__Pyx_XDECREF</span>(__pyx_t_8); __pyx_t_8 = 0;\n",
       "        <span class='refnanny'>__Pyx_GOTREF</span>(__pyx_t_5);\n",
       "        <span class='pyx_macro_api'>__Pyx_DECREF</span>(__pyx_t_6); __pyx_t_6 = 0;\n",
       "      } else\n",
       "      #endif\n",
       "      {\n",
       "        __pyx_t_9 = <span class='py_c_api'>PyTuple_New</span>(1+1); if (unlikely(!__pyx_t_9)) __PYX_ERR(0, 8, __pyx_L1_error)\n",
       "        <span class='refnanny'>__Pyx_GOTREF</span>(__pyx_t_9);\n",
       "        <span class='refnanny'>__Pyx_GIVEREF</span>(__pyx_t_8); <span class='py_macro_api'>PyTuple_SET_ITEM</span>(__pyx_t_9, 0, __pyx_t_8); __pyx_t_8 = NULL;\n",
       "        <span class='refnanny'>__Pyx_GIVEREF</span>(__pyx_t_6);\n",
       "        <span class='py_macro_api'>PyTuple_SET_ITEM</span>(__pyx_t_9, 0+1, __pyx_t_6);\n",
       "        __pyx_t_6 = 0;\n",
       "        __pyx_t_5 = <span class='pyx_c_api'>__Pyx_PyObject_Call</span>(__pyx_t_7, __pyx_t_9, NULL); if (unlikely(!__pyx_t_5)) __PYX_ERR(0, 8, __pyx_L1_error)\n",
       "        <span class='refnanny'>__Pyx_GOTREF</span>(__pyx_t_5);\n",
       "        <span class='pyx_macro_api'>__Pyx_DECREF</span>(__pyx_t_9); __pyx_t_9 = 0;\n",
       "      }\n",
       "    }\n",
       "    <span class='pyx_macro_api'>__Pyx_DECREF</span>(__pyx_t_7); __pyx_t_7 = 0;\n",
       "    __pyx_t_7 = <span class='py_c_api'>PyNumber_InPlaceAdd</span>(__pyx_t_4, __pyx_t_5); if (unlikely(!__pyx_t_7)) __PYX_ERR(0, 8, __pyx_L1_error)\n",
       "    <span class='refnanny'>__Pyx_GOTREF</span>(__pyx_t_7);\n",
       "    <span class='pyx_macro_api'>__Pyx_DECREF</span>(__pyx_t_4); __pyx_t_4 = 0;\n",
       "    <span class='pyx_macro_api'>__Pyx_DECREF</span>(__pyx_t_5); __pyx_t_5 = 0;\n",
       "    __pyx_t_1 = __pyx_<span class='py_c_api'>PyFloat_AsDouble</span>(__pyx_t_7); if (unlikely((__pyx_t_1 == (double)-1) &amp;&amp; <span class='py_c_api'>PyErr_Occurred</span>())) __PYX_ERR(0, 8, __pyx_L1_error)\n",
       "    <span class='pyx_macro_api'>__Pyx_DECREF</span>(__pyx_t_7); __pyx_t_7 = 0;\n",
       "    __pyx_v_s = __pyx_t_1;\n",
       "  }\n",
       "</pre><pre class=\"cython line score-6\" onclick='toggleDiv(this)'>+<span class=\"\">9</span>:     <span class=\"k\">return</span> <span class=\"n\">s</span> <span class=\"o\">*</span> <span class=\"n\">dx</span></pre>\n",
       "<pre class='cython code score-6 '>  <span class='pyx_macro_api'>__Pyx_XDECREF</span>(__pyx_r);\n",
       "  __pyx_t_7 = <span class='py_c_api'>PyFloat_FromDouble</span>((__pyx_v_s * __pyx_v_dx)); if (unlikely(!__pyx_t_7)) __PYX_ERR(0, 9, __pyx_L1_error)\n",
       "  <span class='refnanny'>__Pyx_GOTREF</span>(__pyx_t_7);\n",
       "  __pyx_r = __pyx_t_7;\n",
       "  __pyx_t_7 = 0;\n",
       "  goto __pyx_L0;\n",
       "</pre></div></body></html>"
      ],
      "text/plain": [
       "<IPython.core.display.HTML object>"
      ]
     },
     "execution_count": 18,
     "metadata": {},
     "output_type": "execute_result"
    }
   ],
   "source": [
    "%%cython -a\n",
    "def typed_integrate(double a, double b, f, int N=2000):\n",
    "    cdef:\n",
    "        int i\n",
    "        double dx = (b - a) / N\n",
    "        double s = 0.0\n",
    "    \n",
    "    for i in range(N):\n",
    "        s += f(a + i * dx)\n",
    "    return s * dx   "
   ]
  },
  {
   "cell_type": "markdown",
   "metadata": {
    "nbpresent": {
     "id": "8cdd2f26-65e8-4065-9c50-9d16800be05c"
    }
   },
   "source": [
    "* forループがハイライトされなくなる(展開後40行->3行)\n",
    "* 4行目のdxは割り算のゼロ割チェックが影響\n",
    "* 8行目のループ本体は依然としてハイライトされている\n",
    "    * fが動的なPythonオブジェクト\n",
    "* 関数呼び出しの前後がハイライト\n",
    "    * Python関数呼び出しのオーバーヘッド"
   ]
  },
  {
   "cell_type": "markdown",
   "metadata": {
    "nbpresent": {
     "id": "b01a9284-8ec4-40f3-9d60-a117a5f8a43a"
    }
   },
   "source": [
    "### 解決のためには ###\n",
    "\n",
    "* Pythonにおける関数(`def`)ではなくCレベルでの関数を`cdef`で定義する\n",
    "    * `cdef`で定義された関数はPython側から呼べなくなる\n",
    "        * `cpdef`というCレベルでもPythonレベルでも呼べる定義も存在\n",
    "* ゼロ割チェックを停止する\n",
    "* `cdef`で定義した関数の引数fは関数ポインタにする"
   ]
  },
  {
   "cell_type": "code",
   "execution_count": 19,
   "metadata": {
    "collapsed": false,
    "nbpresent": {
     "id": "40075d4f-b842-4b7c-b8cf-957c15d67cd8"
    }
   },
   "outputs": [
    {
     "data": {
      "text/html": [
       "<!DOCTYPE html>\n",
       "<!-- Generated by Cython 0.25.2 -->\n",
       "<html>\n",
       "<head>\n",
       "    <meta http-equiv=\"Content-Type\" content=\"text/html; charset=utf-8\" />\n",
       "    <title>Cython: _cython_magic_cbf134e2037220c40242ec8c0dcf8606.pyx</title>\n",
       "    <style type=\"text/css\">\n",
       "    \n",
       "body.cython { font-family: courier; font-size: 12; }\n",
       "\n",
       ".cython.tag  {  }\n",
       ".cython.line { margin: 0em }\n",
       ".cython.code { font-size: 9; color: #444444; display: none; margin: 0px 0px 0px 8px; border-left: 8px none; }\n",
       "\n",
       ".cython.line .run { background-color: #B0FFB0; }\n",
       ".cython.line .mis { background-color: #FFB0B0; }\n",
       ".cython.code.run  { border-left: 8px solid #B0FFB0; }\n",
       ".cython.code.mis  { border-left: 8px solid #FFB0B0; }\n",
       "\n",
       ".cython.code .py_c_api  { color: red; }\n",
       ".cython.code .py_macro_api  { color: #FF7000; }\n",
       ".cython.code .pyx_c_api  { color: #FF3000; }\n",
       ".cython.code .pyx_macro_api  { color: #FF7000; }\n",
       ".cython.code .refnanny  { color: #FFA000; }\n",
       ".cython.code .trace  { color: #FFA000; }\n",
       ".cython.code .error_goto  { color: #FFA000; }\n",
       "\n",
       ".cython.code .coerce  { color: #008000; border: 1px dotted #008000 }\n",
       ".cython.code .py_attr { color: #FF0000; font-weight: bold; }\n",
       ".cython.code .c_attr  { color: #0000FF; }\n",
       ".cython.code .py_call { color: #FF0000; font-weight: bold; }\n",
       ".cython.code .c_call  { color: #0000FF; }\n",
       "\n",
       ".cython.score-0 {background-color: #FFFFff;}\n",
       ".cython.score-1 {background-color: #FFFFe7;}\n",
       ".cython.score-2 {background-color: #FFFFd4;}\n",
       ".cython.score-3 {background-color: #FFFFc4;}\n",
       ".cython.score-4 {background-color: #FFFFb6;}\n",
       ".cython.score-5 {background-color: #FFFFaa;}\n",
       ".cython.score-6 {background-color: #FFFF9f;}\n",
       ".cython.score-7 {background-color: #FFFF96;}\n",
       ".cython.score-8 {background-color: #FFFF8d;}\n",
       ".cython.score-9 {background-color: #FFFF86;}\n",
       ".cython.score-10 {background-color: #FFFF7f;}\n",
       ".cython.score-11 {background-color: #FFFF79;}\n",
       ".cython.score-12 {background-color: #FFFF73;}\n",
       ".cython.score-13 {background-color: #FFFF6e;}\n",
       ".cython.score-14 {background-color: #FFFF6a;}\n",
       ".cython.score-15 {background-color: #FFFF66;}\n",
       ".cython.score-16 {background-color: #FFFF62;}\n",
       ".cython.score-17 {background-color: #FFFF5e;}\n",
       ".cython.score-18 {background-color: #FFFF5b;}\n",
       ".cython.score-19 {background-color: #FFFF57;}\n",
       ".cython.score-20 {background-color: #FFFF55;}\n",
       ".cython.score-21 {background-color: #FFFF52;}\n",
       ".cython.score-22 {background-color: #FFFF4f;}\n",
       ".cython.score-23 {background-color: #FFFF4d;}\n",
       ".cython.score-24 {background-color: #FFFF4b;}\n",
       ".cython.score-25 {background-color: #FFFF48;}\n",
       ".cython.score-26 {background-color: #FFFF46;}\n",
       ".cython.score-27 {background-color: #FFFF44;}\n",
       ".cython.score-28 {background-color: #FFFF43;}\n",
       ".cython.score-29 {background-color: #FFFF41;}\n",
       ".cython.score-30 {background-color: #FFFF3f;}\n",
       ".cython.score-31 {background-color: #FFFF3e;}\n",
       ".cython.score-32 {background-color: #FFFF3c;}\n",
       ".cython.score-33 {background-color: #FFFF3b;}\n",
       ".cython.score-34 {background-color: #FFFF39;}\n",
       ".cython.score-35 {background-color: #FFFF38;}\n",
       ".cython.score-36 {background-color: #FFFF37;}\n",
       ".cython.score-37 {background-color: #FFFF36;}\n",
       ".cython.score-38 {background-color: #FFFF35;}\n",
       ".cython.score-39 {background-color: #FFFF34;}\n",
       ".cython.score-40 {background-color: #FFFF33;}\n",
       ".cython.score-41 {background-color: #FFFF32;}\n",
       ".cython.score-42 {background-color: #FFFF31;}\n",
       ".cython.score-43 {background-color: #FFFF30;}\n",
       ".cython.score-44 {background-color: #FFFF2f;}\n",
       ".cython.score-45 {background-color: #FFFF2e;}\n",
       ".cython.score-46 {background-color: #FFFF2d;}\n",
       ".cython.score-47 {background-color: #FFFF2c;}\n",
       ".cython.score-48 {background-color: #FFFF2b;}\n",
       ".cython.score-49 {background-color: #FFFF2b;}\n",
       ".cython.score-50 {background-color: #FFFF2a;}\n",
       ".cython.score-51 {background-color: #FFFF29;}\n",
       ".cython.score-52 {background-color: #FFFF29;}\n",
       ".cython.score-53 {background-color: #FFFF28;}\n",
       ".cython.score-54 {background-color: #FFFF27;}\n",
       ".cython.score-55 {background-color: #FFFF27;}\n",
       ".cython.score-56 {background-color: #FFFF26;}\n",
       ".cython.score-57 {background-color: #FFFF26;}\n",
       ".cython.score-58 {background-color: #FFFF25;}\n",
       ".cython.score-59 {background-color: #FFFF24;}\n",
       ".cython.score-60 {background-color: #FFFF24;}\n",
       ".cython.score-61 {background-color: #FFFF23;}\n",
       ".cython.score-62 {background-color: #FFFF23;}\n",
       ".cython.score-63 {background-color: #FFFF22;}\n",
       ".cython.score-64 {background-color: #FFFF22;}\n",
       ".cython.score-65 {background-color: #FFFF22;}\n",
       ".cython.score-66 {background-color: #FFFF21;}\n",
       ".cython.score-67 {background-color: #FFFF21;}\n",
       ".cython.score-68 {background-color: #FFFF20;}\n",
       ".cython.score-69 {background-color: #FFFF20;}\n",
       ".cython.score-70 {background-color: #FFFF1f;}\n",
       ".cython.score-71 {background-color: #FFFF1f;}\n",
       ".cython.score-72 {background-color: #FFFF1f;}\n",
       ".cython.score-73 {background-color: #FFFF1e;}\n",
       ".cython.score-74 {background-color: #FFFF1e;}\n",
       ".cython.score-75 {background-color: #FFFF1e;}\n",
       ".cython.score-76 {background-color: #FFFF1d;}\n",
       ".cython.score-77 {background-color: #FFFF1d;}\n",
       ".cython.score-78 {background-color: #FFFF1c;}\n",
       ".cython.score-79 {background-color: #FFFF1c;}\n",
       ".cython.score-80 {background-color: #FFFF1c;}\n",
       ".cython.score-81 {background-color: #FFFF1c;}\n",
       ".cython.score-82 {background-color: #FFFF1b;}\n",
       ".cython.score-83 {background-color: #FFFF1b;}\n",
       ".cython.score-84 {background-color: #FFFF1b;}\n",
       ".cython.score-85 {background-color: #FFFF1a;}\n",
       ".cython.score-86 {background-color: #FFFF1a;}\n",
       ".cython.score-87 {background-color: #FFFF1a;}\n",
       ".cython.score-88 {background-color: #FFFF1a;}\n",
       ".cython.score-89 {background-color: #FFFF19;}\n",
       ".cython.score-90 {background-color: #FFFF19;}\n",
       ".cython.score-91 {background-color: #FFFF19;}\n",
       ".cython.score-92 {background-color: #FFFF19;}\n",
       ".cython.score-93 {background-color: #FFFF18;}\n",
       ".cython.score-94 {background-color: #FFFF18;}\n",
       ".cython.score-95 {background-color: #FFFF18;}\n",
       ".cython.score-96 {background-color: #FFFF18;}\n",
       ".cython.score-97 {background-color: #FFFF17;}\n",
       ".cython.score-98 {background-color: #FFFF17;}\n",
       ".cython.score-99 {background-color: #FFFF17;}\n",
       ".cython.score-100 {background-color: #FFFF17;}\n",
       ".cython.score-101 {background-color: #FFFF16;}\n",
       ".cython.score-102 {background-color: #FFFF16;}\n",
       ".cython.score-103 {background-color: #FFFF16;}\n",
       ".cython.score-104 {background-color: #FFFF16;}\n",
       ".cython.score-105 {background-color: #FFFF16;}\n",
       ".cython.score-106 {background-color: #FFFF15;}\n",
       ".cython.score-107 {background-color: #FFFF15;}\n",
       ".cython.score-108 {background-color: #FFFF15;}\n",
       ".cython.score-109 {background-color: #FFFF15;}\n",
       ".cython.score-110 {background-color: #FFFF15;}\n",
       ".cython.score-111 {background-color: #FFFF15;}\n",
       ".cython.score-112 {background-color: #FFFF14;}\n",
       ".cython.score-113 {background-color: #FFFF14;}\n",
       ".cython.score-114 {background-color: #FFFF14;}\n",
       ".cython.score-115 {background-color: #FFFF14;}\n",
       ".cython.score-116 {background-color: #FFFF14;}\n",
       ".cython.score-117 {background-color: #FFFF14;}\n",
       ".cython.score-118 {background-color: #FFFF13;}\n",
       ".cython.score-119 {background-color: #FFFF13;}\n",
       ".cython.score-120 {background-color: #FFFF13;}\n",
       ".cython.score-121 {background-color: #FFFF13;}\n",
       ".cython.score-122 {background-color: #FFFF13;}\n",
       ".cython.score-123 {background-color: #FFFF13;}\n",
       ".cython.score-124 {background-color: #FFFF13;}\n",
       ".cython.score-125 {background-color: #FFFF12;}\n",
       ".cython.score-126 {background-color: #FFFF12;}\n",
       ".cython.score-127 {background-color: #FFFF12;}\n",
       ".cython.score-128 {background-color: #FFFF12;}\n",
       ".cython.score-129 {background-color: #FFFF12;}\n",
       ".cython.score-130 {background-color: #FFFF12;}\n",
       ".cython.score-131 {background-color: #FFFF12;}\n",
       ".cython.score-132 {background-color: #FFFF11;}\n",
       ".cython.score-133 {background-color: #FFFF11;}\n",
       ".cython.score-134 {background-color: #FFFF11;}\n",
       ".cython.score-135 {background-color: #FFFF11;}\n",
       ".cython.score-136 {background-color: #FFFF11;}\n",
       ".cython.score-137 {background-color: #FFFF11;}\n",
       ".cython.score-138 {background-color: #FFFF11;}\n",
       ".cython.score-139 {background-color: #FFFF11;}\n",
       ".cython.score-140 {background-color: #FFFF11;}\n",
       ".cython.score-141 {background-color: #FFFF10;}\n",
       ".cython.score-142 {background-color: #FFFF10;}\n",
       ".cython.score-143 {background-color: #FFFF10;}\n",
       ".cython.score-144 {background-color: #FFFF10;}\n",
       ".cython.score-145 {background-color: #FFFF10;}\n",
       ".cython.score-146 {background-color: #FFFF10;}\n",
       ".cython.score-147 {background-color: #FFFF10;}\n",
       ".cython.score-148 {background-color: #FFFF10;}\n",
       ".cython.score-149 {background-color: #FFFF10;}\n",
       ".cython.score-150 {background-color: #FFFF0f;}\n",
       ".cython.score-151 {background-color: #FFFF0f;}\n",
       ".cython.score-152 {background-color: #FFFF0f;}\n",
       ".cython.score-153 {background-color: #FFFF0f;}\n",
       ".cython.score-154 {background-color: #FFFF0f;}\n",
       ".cython.score-155 {background-color: #FFFF0f;}\n",
       ".cython.score-156 {background-color: #FFFF0f;}\n",
       ".cython.score-157 {background-color: #FFFF0f;}\n",
       ".cython.score-158 {background-color: #FFFF0f;}\n",
       ".cython.score-159 {background-color: #FFFF0f;}\n",
       ".cython.score-160 {background-color: #FFFF0f;}\n",
       ".cython.score-161 {background-color: #FFFF0e;}\n",
       ".cython.score-162 {background-color: #FFFF0e;}\n",
       ".cython.score-163 {background-color: #FFFF0e;}\n",
       ".cython.score-164 {background-color: #FFFF0e;}\n",
       ".cython.score-165 {background-color: #FFFF0e;}\n",
       ".cython.score-166 {background-color: #FFFF0e;}\n",
       ".cython.score-167 {background-color: #FFFF0e;}\n",
       ".cython.score-168 {background-color: #FFFF0e;}\n",
       ".cython.score-169 {background-color: #FFFF0e;}\n",
       ".cython.score-170 {background-color: #FFFF0e;}\n",
       ".cython.score-171 {background-color: #FFFF0e;}\n",
       ".cython.score-172 {background-color: #FFFF0e;}\n",
       ".cython.score-173 {background-color: #FFFF0d;}\n",
       ".cython.score-174 {background-color: #FFFF0d;}\n",
       ".cython.score-175 {background-color: #FFFF0d;}\n",
       ".cython.score-176 {background-color: #FFFF0d;}\n",
       ".cython.score-177 {background-color: #FFFF0d;}\n",
       ".cython.score-178 {background-color: #FFFF0d;}\n",
       ".cython.score-179 {background-color: #FFFF0d;}\n",
       ".cython.score-180 {background-color: #FFFF0d;}\n",
       ".cython.score-181 {background-color: #FFFF0d;}\n",
       ".cython.score-182 {background-color: #FFFF0d;}\n",
       ".cython.score-183 {background-color: #FFFF0d;}\n",
       ".cython.score-184 {background-color: #FFFF0d;}\n",
       ".cython.score-185 {background-color: #FFFF0d;}\n",
       ".cython.score-186 {background-color: #FFFF0d;}\n",
       ".cython.score-187 {background-color: #FFFF0c;}\n",
       ".cython.score-188 {background-color: #FFFF0c;}\n",
       ".cython.score-189 {background-color: #FFFF0c;}\n",
       ".cython.score-190 {background-color: #FFFF0c;}\n",
       ".cython.score-191 {background-color: #FFFF0c;}\n",
       ".cython.score-192 {background-color: #FFFF0c;}\n",
       ".cython.score-193 {background-color: #FFFF0c;}\n",
       ".cython.score-194 {background-color: #FFFF0c;}\n",
       ".cython.score-195 {background-color: #FFFF0c;}\n",
       ".cython.score-196 {background-color: #FFFF0c;}\n",
       ".cython.score-197 {background-color: #FFFF0c;}\n",
       ".cython.score-198 {background-color: #FFFF0c;}\n",
       ".cython.score-199 {background-color: #FFFF0c;}\n",
       ".cython.score-200 {background-color: #FFFF0c;}\n",
       ".cython.score-201 {background-color: #FFFF0c;}\n",
       ".cython.score-202 {background-color: #FFFF0c;}\n",
       ".cython.score-203 {background-color: #FFFF0b;}\n",
       ".cython.score-204 {background-color: #FFFF0b;}\n",
       ".cython.score-205 {background-color: #FFFF0b;}\n",
       ".cython.score-206 {background-color: #FFFF0b;}\n",
       ".cython.score-207 {background-color: #FFFF0b;}\n",
       ".cython.score-208 {background-color: #FFFF0b;}\n",
       ".cython.score-209 {background-color: #FFFF0b;}\n",
       ".cython.score-210 {background-color: #FFFF0b;}\n",
       ".cython.score-211 {background-color: #FFFF0b;}\n",
       ".cython.score-212 {background-color: #FFFF0b;}\n",
       ".cython.score-213 {background-color: #FFFF0b;}\n",
       ".cython.score-214 {background-color: #FFFF0b;}\n",
       ".cython.score-215 {background-color: #FFFF0b;}\n",
       ".cython.score-216 {background-color: #FFFF0b;}\n",
       ".cython.score-217 {background-color: #FFFF0b;}\n",
       ".cython.score-218 {background-color: #FFFF0b;}\n",
       ".cython.score-219 {background-color: #FFFF0b;}\n",
       ".cython.score-220 {background-color: #FFFF0b;}\n",
       ".cython.score-221 {background-color: #FFFF0b;}\n",
       ".cython.score-222 {background-color: #FFFF0a;}\n",
       ".cython.score-223 {background-color: #FFFF0a;}\n",
       ".cython.score-224 {background-color: #FFFF0a;}\n",
       ".cython.score-225 {background-color: #FFFF0a;}\n",
       ".cython.score-226 {background-color: #FFFF0a;}\n",
       ".cython.score-227 {background-color: #FFFF0a;}\n",
       ".cython.score-228 {background-color: #FFFF0a;}\n",
       ".cython.score-229 {background-color: #FFFF0a;}\n",
       ".cython.score-230 {background-color: #FFFF0a;}\n",
       ".cython.score-231 {background-color: #FFFF0a;}\n",
       ".cython.score-232 {background-color: #FFFF0a;}\n",
       ".cython.score-233 {background-color: #FFFF0a;}\n",
       ".cython.score-234 {background-color: #FFFF0a;}\n",
       ".cython.score-235 {background-color: #FFFF0a;}\n",
       ".cython.score-236 {background-color: #FFFF0a;}\n",
       ".cython.score-237 {background-color: #FFFF0a;}\n",
       ".cython.score-238 {background-color: #FFFF0a;}\n",
       ".cython.score-239 {background-color: #FFFF0a;}\n",
       ".cython.score-240 {background-color: #FFFF0a;}\n",
       ".cython.score-241 {background-color: #FFFF0a;}\n",
       ".cython.score-242 {background-color: #FFFF0a;}\n",
       ".cython.score-243 {background-color: #FFFF0a;}\n",
       ".cython.score-244 {background-color: #FFFF0a;}\n",
       ".cython.score-245 {background-color: #FFFF0a;}\n",
       ".cython.score-246 {background-color: #FFFF09;}\n",
       ".cython.score-247 {background-color: #FFFF09;}\n",
       ".cython.score-248 {background-color: #FFFF09;}\n",
       ".cython.score-249 {background-color: #FFFF09;}\n",
       ".cython.score-250 {background-color: #FFFF09;}\n",
       ".cython.score-251 {background-color: #FFFF09;}\n",
       ".cython.score-252 {background-color: #FFFF09;}\n",
       ".cython.score-253 {background-color: #FFFF09;}\n",
       ".cython.score-254 {background-color: #FFFF09;}\n",
       ".cython .hll { background-color: #ffffcc }\n",
       ".cython  { background: #f8f8f8; }\n",
       ".cython .c { color: #408080; font-style: italic } /* Comment */\n",
       ".cython .err { border: 1px solid #FF0000 } /* Error */\n",
       ".cython .k { color: #008000; font-weight: bold } /* Keyword */\n",
       ".cython .o { color: #666666 } /* Operator */\n",
       ".cython .ch { color: #408080; font-style: italic } /* Comment.Hashbang */\n",
       ".cython .cm { color: #408080; font-style: italic } /* Comment.Multiline */\n",
       ".cython .cp { color: #BC7A00 } /* Comment.Preproc */\n",
       ".cython .cpf { color: #408080; font-style: italic } /* Comment.PreprocFile */\n",
       ".cython .c1 { color: #408080; font-style: italic } /* Comment.Single */\n",
       ".cython .cs { color: #408080; font-style: italic } /* Comment.Special */\n",
       ".cython .gd { color: #A00000 } /* Generic.Deleted */\n",
       ".cython .ge { font-style: italic } /* Generic.Emph */\n",
       ".cython .gr { color: #FF0000 } /* Generic.Error */\n",
       ".cython .gh { color: #000080; font-weight: bold } /* Generic.Heading */\n",
       ".cython .gi { color: #00A000 } /* Generic.Inserted */\n",
       ".cython .go { color: #888888 } /* Generic.Output */\n",
       ".cython .gp { color: #000080; font-weight: bold } /* Generic.Prompt */\n",
       ".cython .gs { font-weight: bold } /* Generic.Strong */\n",
       ".cython .gu { color: #800080; font-weight: bold } /* Generic.Subheading */\n",
       ".cython .gt { color: #0044DD } /* Generic.Traceback */\n",
       ".cython .kc { color: #008000; font-weight: bold } /* Keyword.Constant */\n",
       ".cython .kd { color: #008000; font-weight: bold } /* Keyword.Declaration */\n",
       ".cython .kn { color: #008000; font-weight: bold } /* Keyword.Namespace */\n",
       ".cython .kp { color: #008000 } /* Keyword.Pseudo */\n",
       ".cython .kr { color: #008000; font-weight: bold } /* Keyword.Reserved */\n",
       ".cython .kt { color: #B00040 } /* Keyword.Type */\n",
       ".cython .m { color: #666666 } /* Literal.Number */\n",
       ".cython .s { color: #BA2121 } /* Literal.String */\n",
       ".cython .na { color: #7D9029 } /* Name.Attribute */\n",
       ".cython .nb { color: #008000 } /* Name.Builtin */\n",
       ".cython .nc { color: #0000FF; font-weight: bold } /* Name.Class */\n",
       ".cython .no { color: #880000 } /* Name.Constant */\n",
       ".cython .nd { color: #AA22FF } /* Name.Decorator */\n",
       ".cython .ni { color: #999999; font-weight: bold } /* Name.Entity */\n",
       ".cython .ne { color: #D2413A; font-weight: bold } /* Name.Exception */\n",
       ".cython .nf { color: #0000FF } /* Name.Function */\n",
       ".cython .nl { color: #A0A000 } /* Name.Label */\n",
       ".cython .nn { color: #0000FF; font-weight: bold } /* Name.Namespace */\n",
       ".cython .nt { color: #008000; font-weight: bold } /* Name.Tag */\n",
       ".cython .nv { color: #19177C } /* Name.Variable */\n",
       ".cython .ow { color: #AA22FF; font-weight: bold } /* Operator.Word */\n",
       ".cython .w { color: #bbbbbb } /* Text.Whitespace */\n",
       ".cython .mb { color: #666666 } /* Literal.Number.Bin */\n",
       ".cython .mf { color: #666666 } /* Literal.Number.Float */\n",
       ".cython .mh { color: #666666 } /* Literal.Number.Hex */\n",
       ".cython .mi { color: #666666 } /* Literal.Number.Integer */\n",
       ".cython .mo { color: #666666 } /* Literal.Number.Oct */\n",
       ".cython .sb { color: #BA2121 } /* Literal.String.Backtick */\n",
       ".cython .sc { color: #BA2121 } /* Literal.String.Char */\n",
       ".cython .sd { color: #BA2121; font-style: italic } /* Literal.String.Doc */\n",
       ".cython .s2 { color: #BA2121 } /* Literal.String.Double */\n",
       ".cython .se { color: #BB6622; font-weight: bold } /* Literal.String.Escape */\n",
       ".cython .sh { color: #BA2121 } /* Literal.String.Heredoc */\n",
       ".cython .si { color: #BB6688; font-weight: bold } /* Literal.String.Interpol */\n",
       ".cython .sx { color: #008000 } /* Literal.String.Other */\n",
       ".cython .sr { color: #BB6688 } /* Literal.String.Regex */\n",
       ".cython .s1 { color: #BA2121 } /* Literal.String.Single */\n",
       ".cython .ss { color: #19177C } /* Literal.String.Symbol */\n",
       ".cython .bp { color: #008000 } /* Name.Builtin.Pseudo */\n",
       ".cython .vc { color: #19177C } /* Name.Variable.Class */\n",
       ".cython .vg { color: #19177C } /* Name.Variable.Global */\n",
       ".cython .vi { color: #19177C } /* Name.Variable.Instance */\n",
       ".cython .il { color: #666666 } /* Literal.Number.Integer.Long */\n",
       "    </style>\n",
       "    <script>\n",
       "    function toggleDiv(id) {\n",
       "        theDiv = id.nextElementSibling\n",
       "        if (theDiv.style.display != 'block') theDiv.style.display = 'block';\n",
       "        else theDiv.style.display = 'none';\n",
       "    }\n",
       "    </script>\n",
       "</head>\n",
       "<body class=\"cython\">\n",
       "<p><span style=\"border-bottom: solid 1px grey;\">Generated by Cython 0.25.2</span></p>\n",
       "<p>\n",
       "    <span style=\"background-color: #FFFF00\">Yellow lines</span> hint at Python interaction.<br />\n",
       "    Click on a line that starts with a \"<code>+</code>\" to see the C code that Cython generated for it.\n",
       "</p>\n",
       "<div class=\"cython\"><pre class=\"cython line score-0\">&#xA0;<span class=\"\">01</span>: <span class=\"k\">cimport</span> <span class=\"nn\">cython</span>  <span class=\"c\"># Cレベルでのimport, #includeマクロに相当</span></pre>\n",
       "<pre class=\"cython line score-0\">&#xA0;<span class=\"\">02</span>: </pre>\n",
       "<pre class=\"cython line score-0\">&#xA0;<span class=\"\">03</span>: <span class=\"nd\">@cython</span><span class=\"o\">.</span><span class=\"n\">cdivision</span><span class=\"p\">(</span><span class=\"bp\">True</span><span class=\"p\">)</span></pre>\n",
       "<pre class=\"cython line score-0\" onclick='toggleDiv(this)'>+<span class=\"\">04</span>: <span class=\"k\">cdef</span> <span class=\"kt\">double</span> <span class=\"nf\">c_integrate</span><span class=\"p\">(</span><span class=\"n\">double</span> <span class=\"n\">a</span><span class=\"p\">,</span> <span class=\"n\">double</span> <span class=\"n\">b</span><span class=\"p\">,</span> <span class=\"n\">double</span> <span class=\"p\">(</span><span class=\"o\">*</span><span class=\"n\">f</span><span class=\"p\">)(</span><span class=\"n\">double</span><span class=\"p\">),</span> <span class=\"nb\">int</span> <span class=\"n\">N</span><span class=\"o\">=</span><span class=\"mf\">2000</span><span class=\"p\">):</span></pre>\n",
       "<pre class='cython code score-0 '>static double __pyx_f_46_cython_magic_cbf134e2037220c40242ec8c0dcf8606_c_integrate(double __pyx_v_a, double __pyx_v_b, double (*__pyx_v_f)(double), struct __pyx_opt_args_46_cython_magic_cbf134e2037220c40242ec8c0dcf8606_c_integrate *__pyx_optional_args) {\n",
       "  int __pyx_v_N = ((int)0x7D0);\n",
       "  int __pyx_v_i;\n",
       "  double __pyx_v_dx;\n",
       "  double __pyx_v_s;\n",
       "  double __pyx_r;\n",
       "  <span class='refnanny'>__Pyx_RefNannyDeclarations</span>\n",
       "  <span class='refnanny'>__Pyx_RefNannySetupContext</span>(\"c_integrate\", 0);\n",
       "  if (__pyx_optional_args) {\n",
       "    if (__pyx_optional_args-&gt;__pyx_n &gt; 0) {\n",
       "      __pyx_v_N = __pyx_optional_args-&gt;N;\n",
       "    }\n",
       "  }\n",
       "/* … */\n",
       "  /* function exit code */\n",
       "  __pyx_L0:;\n",
       "  <span class='refnanny'>__Pyx_RefNannyFinishContext</span>();\n",
       "  return __pyx_r;\n",
       "}\n",
       "</pre><pre class=\"cython line score-0\">&#xA0;<span class=\"\">05</span>:     <span class=\"k\">cdef</span><span class=\"p\">:</span></pre>\n",
       "<pre class=\"cython line score-0\">&#xA0;<span class=\"\">06</span>:         <span class=\"nb\">int</span> <span class=\"n\">i</span></pre>\n",
       "<pre class=\"cython line score-0\" onclick='toggleDiv(this)'>+<span class=\"\">07</span>:         <span class=\"n\">double</span> <span class=\"n\">dx</span> <span class=\"o\">=</span> <span class=\"p\">(</span><span class=\"n\">b</span> <span class=\"o\">-</span> <span class=\"n\">a</span><span class=\"p\">)</span> <span class=\"o\">/</span> <span class=\"n\">N</span></pre>\n",
       "<pre class='cython code score-0 '>  __pyx_v_dx = ((__pyx_v_b - __pyx_v_a) / ((double)__pyx_v_N));\n",
       "</pre><pre class=\"cython line score-0\" onclick='toggleDiv(this)'>+<span class=\"\">08</span>:         <span class=\"n\">double</span> <span class=\"n\">s</span> <span class=\"o\">=</span> <span class=\"mf\">0.0</span></pre>\n",
       "<pre class='cython code score-0 '>  __pyx_v_s = 0.0;\n",
       "</pre><pre class=\"cython line score-0\" onclick='toggleDiv(this)'>+<span class=\"\">09</span>:     <span class=\"k\">for</span> <span class=\"n\">i</span> <span class=\"ow\">in</span> <span class=\"nb\">range</span><span class=\"p\">(</span><span class=\"n\">N</span><span class=\"p\">):</span></pre>\n",
       "<pre class='cython code score-0 '>  __pyx_t_1 = __pyx_v_N;\n",
       "  for (__pyx_t_2 = 0; __pyx_t_2 &lt; __pyx_t_1; __pyx_t_2+=1) {\n",
       "    __pyx_v_i = __pyx_t_2;\n",
       "</pre><pre class=\"cython line score-0\" onclick='toggleDiv(this)'>+<span class=\"\">10</span>:         <span class=\"n\">s</span> <span class=\"o\">+=</span> <span class=\"n\">f</span><span class=\"p\">(</span><span class=\"n\">a</span> <span class=\"o\">+</span> <span class=\"n\">i</span><span class=\"o\">*</span><span class=\"n\">dx</span><span class=\"p\">)</span></pre>\n",
       "<pre class='cython code score-0 '>    __pyx_v_s = (__pyx_v_s + __pyx_v_f((__pyx_v_a + (__pyx_v_i * __pyx_v_dx))));\n",
       "  }\n",
       "</pre><pre class=\"cython line score-0\" onclick='toggleDiv(this)'>+<span class=\"\">11</span>:     <span class=\"k\">return</span> <span class=\"n\">s</span> <span class=\"o\">*</span> <span class=\"n\">dx</span></pre>\n",
       "<pre class='cython code score-0 '>  __pyx_r = (__pyx_v_s * __pyx_v_dx);\n",
       "  goto __pyx_L0;\n",
       "</pre></div></body></html>"
      ],
      "text/plain": [
       "<IPython.core.display.HTML object>"
      ]
     },
     "execution_count": 19,
     "metadata": {},
     "output_type": "execute_result"
    }
   ],
   "source": [
    "%%cython -a\n",
    "cimport cython  # Cレベルでのimport, #includeマクロに相当\n",
    "\n",
    "@cython.cdivision(True)\n",
    "cdef double c_integrate(double a, double b, double (*f)(double), int N=2000):\n",
    "    cdef:\n",
    "        int i\n",
    "        double dx = (b - a) / N\n",
    "        double s = 0.0\n",
    "    for i in range(N):\n",
    "        s += f(a + i*dx)\n",
    "    return s * dx"
   ]
  },
  {
   "cell_type": "markdown",
   "metadata": {
    "nbpresent": {
     "id": "e1b13ab8-8fed-4ba2-9028-97ecf49b2f68"
    }
   },
   "source": [
    "* このc_integrateはpython側から呼ぶことはできない\n",
    "* python側から呼ぶためのエントリポイントとして適当なdef関数を定義する必要がある"
   ]
  },
  {
   "cell_type": "code",
   "execution_count": 20,
   "metadata": {
    "collapsed": false,
    "nbpresent": {
     "id": "f4fa3e31-e472-471b-85a7-ccdb0d69a091"
    }
   },
   "outputs": [
    {
     "data": {
      "text/html": [
       "<!DOCTYPE html>\n",
       "<!-- Generated by Cython 0.25.2 -->\n",
       "<html>\n",
       "<head>\n",
       "    <meta http-equiv=\"Content-Type\" content=\"text/html; charset=utf-8\" />\n",
       "    <title>Cython: _cython_magic_4fde3da47f339faaa4da3d47361f9297.pyx</title>\n",
       "    <style type=\"text/css\">\n",
       "    \n",
       "body.cython { font-family: courier; font-size: 12; }\n",
       "\n",
       ".cython.tag  {  }\n",
       ".cython.line { margin: 0em }\n",
       ".cython.code { font-size: 9; color: #444444; display: none; margin: 0px 0px 0px 8px; border-left: 8px none; }\n",
       "\n",
       ".cython.line .run { background-color: #B0FFB0; }\n",
       ".cython.line .mis { background-color: #FFB0B0; }\n",
       ".cython.code.run  { border-left: 8px solid #B0FFB0; }\n",
       ".cython.code.mis  { border-left: 8px solid #FFB0B0; }\n",
       "\n",
       ".cython.code .py_c_api  { color: red; }\n",
       ".cython.code .py_macro_api  { color: #FF7000; }\n",
       ".cython.code .pyx_c_api  { color: #FF3000; }\n",
       ".cython.code .pyx_macro_api  { color: #FF7000; }\n",
       ".cython.code .refnanny  { color: #FFA000; }\n",
       ".cython.code .trace  { color: #FFA000; }\n",
       ".cython.code .error_goto  { color: #FFA000; }\n",
       "\n",
       ".cython.code .coerce  { color: #008000; border: 1px dotted #008000 }\n",
       ".cython.code .py_attr { color: #FF0000; font-weight: bold; }\n",
       ".cython.code .c_attr  { color: #0000FF; }\n",
       ".cython.code .py_call { color: #FF0000; font-weight: bold; }\n",
       ".cython.code .c_call  { color: #0000FF; }\n",
       "\n",
       ".cython.score-0 {background-color: #FFFFff;}\n",
       ".cython.score-1 {background-color: #FFFFe7;}\n",
       ".cython.score-2 {background-color: #FFFFd4;}\n",
       ".cython.score-3 {background-color: #FFFFc4;}\n",
       ".cython.score-4 {background-color: #FFFFb6;}\n",
       ".cython.score-5 {background-color: #FFFFaa;}\n",
       ".cython.score-6 {background-color: #FFFF9f;}\n",
       ".cython.score-7 {background-color: #FFFF96;}\n",
       ".cython.score-8 {background-color: #FFFF8d;}\n",
       ".cython.score-9 {background-color: #FFFF86;}\n",
       ".cython.score-10 {background-color: #FFFF7f;}\n",
       ".cython.score-11 {background-color: #FFFF79;}\n",
       ".cython.score-12 {background-color: #FFFF73;}\n",
       ".cython.score-13 {background-color: #FFFF6e;}\n",
       ".cython.score-14 {background-color: #FFFF6a;}\n",
       ".cython.score-15 {background-color: #FFFF66;}\n",
       ".cython.score-16 {background-color: #FFFF62;}\n",
       ".cython.score-17 {background-color: #FFFF5e;}\n",
       ".cython.score-18 {background-color: #FFFF5b;}\n",
       ".cython.score-19 {background-color: #FFFF57;}\n",
       ".cython.score-20 {background-color: #FFFF55;}\n",
       ".cython.score-21 {background-color: #FFFF52;}\n",
       ".cython.score-22 {background-color: #FFFF4f;}\n",
       ".cython.score-23 {background-color: #FFFF4d;}\n",
       ".cython.score-24 {background-color: #FFFF4b;}\n",
       ".cython.score-25 {background-color: #FFFF48;}\n",
       ".cython.score-26 {background-color: #FFFF46;}\n",
       ".cython.score-27 {background-color: #FFFF44;}\n",
       ".cython.score-28 {background-color: #FFFF43;}\n",
       ".cython.score-29 {background-color: #FFFF41;}\n",
       ".cython.score-30 {background-color: #FFFF3f;}\n",
       ".cython.score-31 {background-color: #FFFF3e;}\n",
       ".cython.score-32 {background-color: #FFFF3c;}\n",
       ".cython.score-33 {background-color: #FFFF3b;}\n",
       ".cython.score-34 {background-color: #FFFF39;}\n",
       ".cython.score-35 {background-color: #FFFF38;}\n",
       ".cython.score-36 {background-color: #FFFF37;}\n",
       ".cython.score-37 {background-color: #FFFF36;}\n",
       ".cython.score-38 {background-color: #FFFF35;}\n",
       ".cython.score-39 {background-color: #FFFF34;}\n",
       ".cython.score-40 {background-color: #FFFF33;}\n",
       ".cython.score-41 {background-color: #FFFF32;}\n",
       ".cython.score-42 {background-color: #FFFF31;}\n",
       ".cython.score-43 {background-color: #FFFF30;}\n",
       ".cython.score-44 {background-color: #FFFF2f;}\n",
       ".cython.score-45 {background-color: #FFFF2e;}\n",
       ".cython.score-46 {background-color: #FFFF2d;}\n",
       ".cython.score-47 {background-color: #FFFF2c;}\n",
       ".cython.score-48 {background-color: #FFFF2b;}\n",
       ".cython.score-49 {background-color: #FFFF2b;}\n",
       ".cython.score-50 {background-color: #FFFF2a;}\n",
       ".cython.score-51 {background-color: #FFFF29;}\n",
       ".cython.score-52 {background-color: #FFFF29;}\n",
       ".cython.score-53 {background-color: #FFFF28;}\n",
       ".cython.score-54 {background-color: #FFFF27;}\n",
       ".cython.score-55 {background-color: #FFFF27;}\n",
       ".cython.score-56 {background-color: #FFFF26;}\n",
       ".cython.score-57 {background-color: #FFFF26;}\n",
       ".cython.score-58 {background-color: #FFFF25;}\n",
       ".cython.score-59 {background-color: #FFFF24;}\n",
       ".cython.score-60 {background-color: #FFFF24;}\n",
       ".cython.score-61 {background-color: #FFFF23;}\n",
       ".cython.score-62 {background-color: #FFFF23;}\n",
       ".cython.score-63 {background-color: #FFFF22;}\n",
       ".cython.score-64 {background-color: #FFFF22;}\n",
       ".cython.score-65 {background-color: #FFFF22;}\n",
       ".cython.score-66 {background-color: #FFFF21;}\n",
       ".cython.score-67 {background-color: #FFFF21;}\n",
       ".cython.score-68 {background-color: #FFFF20;}\n",
       ".cython.score-69 {background-color: #FFFF20;}\n",
       ".cython.score-70 {background-color: #FFFF1f;}\n",
       ".cython.score-71 {background-color: #FFFF1f;}\n",
       ".cython.score-72 {background-color: #FFFF1f;}\n",
       ".cython.score-73 {background-color: #FFFF1e;}\n",
       ".cython.score-74 {background-color: #FFFF1e;}\n",
       ".cython.score-75 {background-color: #FFFF1e;}\n",
       ".cython.score-76 {background-color: #FFFF1d;}\n",
       ".cython.score-77 {background-color: #FFFF1d;}\n",
       ".cython.score-78 {background-color: #FFFF1c;}\n",
       ".cython.score-79 {background-color: #FFFF1c;}\n",
       ".cython.score-80 {background-color: #FFFF1c;}\n",
       ".cython.score-81 {background-color: #FFFF1c;}\n",
       ".cython.score-82 {background-color: #FFFF1b;}\n",
       ".cython.score-83 {background-color: #FFFF1b;}\n",
       ".cython.score-84 {background-color: #FFFF1b;}\n",
       ".cython.score-85 {background-color: #FFFF1a;}\n",
       ".cython.score-86 {background-color: #FFFF1a;}\n",
       ".cython.score-87 {background-color: #FFFF1a;}\n",
       ".cython.score-88 {background-color: #FFFF1a;}\n",
       ".cython.score-89 {background-color: #FFFF19;}\n",
       ".cython.score-90 {background-color: #FFFF19;}\n",
       ".cython.score-91 {background-color: #FFFF19;}\n",
       ".cython.score-92 {background-color: #FFFF19;}\n",
       ".cython.score-93 {background-color: #FFFF18;}\n",
       ".cython.score-94 {background-color: #FFFF18;}\n",
       ".cython.score-95 {background-color: #FFFF18;}\n",
       ".cython.score-96 {background-color: #FFFF18;}\n",
       ".cython.score-97 {background-color: #FFFF17;}\n",
       ".cython.score-98 {background-color: #FFFF17;}\n",
       ".cython.score-99 {background-color: #FFFF17;}\n",
       ".cython.score-100 {background-color: #FFFF17;}\n",
       ".cython.score-101 {background-color: #FFFF16;}\n",
       ".cython.score-102 {background-color: #FFFF16;}\n",
       ".cython.score-103 {background-color: #FFFF16;}\n",
       ".cython.score-104 {background-color: #FFFF16;}\n",
       ".cython.score-105 {background-color: #FFFF16;}\n",
       ".cython.score-106 {background-color: #FFFF15;}\n",
       ".cython.score-107 {background-color: #FFFF15;}\n",
       ".cython.score-108 {background-color: #FFFF15;}\n",
       ".cython.score-109 {background-color: #FFFF15;}\n",
       ".cython.score-110 {background-color: #FFFF15;}\n",
       ".cython.score-111 {background-color: #FFFF15;}\n",
       ".cython.score-112 {background-color: #FFFF14;}\n",
       ".cython.score-113 {background-color: #FFFF14;}\n",
       ".cython.score-114 {background-color: #FFFF14;}\n",
       ".cython.score-115 {background-color: #FFFF14;}\n",
       ".cython.score-116 {background-color: #FFFF14;}\n",
       ".cython.score-117 {background-color: #FFFF14;}\n",
       ".cython.score-118 {background-color: #FFFF13;}\n",
       ".cython.score-119 {background-color: #FFFF13;}\n",
       ".cython.score-120 {background-color: #FFFF13;}\n",
       ".cython.score-121 {background-color: #FFFF13;}\n",
       ".cython.score-122 {background-color: #FFFF13;}\n",
       ".cython.score-123 {background-color: #FFFF13;}\n",
       ".cython.score-124 {background-color: #FFFF13;}\n",
       ".cython.score-125 {background-color: #FFFF12;}\n",
       ".cython.score-126 {background-color: #FFFF12;}\n",
       ".cython.score-127 {background-color: #FFFF12;}\n",
       ".cython.score-128 {background-color: #FFFF12;}\n",
       ".cython.score-129 {background-color: #FFFF12;}\n",
       ".cython.score-130 {background-color: #FFFF12;}\n",
       ".cython.score-131 {background-color: #FFFF12;}\n",
       ".cython.score-132 {background-color: #FFFF11;}\n",
       ".cython.score-133 {background-color: #FFFF11;}\n",
       ".cython.score-134 {background-color: #FFFF11;}\n",
       ".cython.score-135 {background-color: #FFFF11;}\n",
       ".cython.score-136 {background-color: #FFFF11;}\n",
       ".cython.score-137 {background-color: #FFFF11;}\n",
       ".cython.score-138 {background-color: #FFFF11;}\n",
       ".cython.score-139 {background-color: #FFFF11;}\n",
       ".cython.score-140 {background-color: #FFFF11;}\n",
       ".cython.score-141 {background-color: #FFFF10;}\n",
       ".cython.score-142 {background-color: #FFFF10;}\n",
       ".cython.score-143 {background-color: #FFFF10;}\n",
       ".cython.score-144 {background-color: #FFFF10;}\n",
       ".cython.score-145 {background-color: #FFFF10;}\n",
       ".cython.score-146 {background-color: #FFFF10;}\n",
       ".cython.score-147 {background-color: #FFFF10;}\n",
       ".cython.score-148 {background-color: #FFFF10;}\n",
       ".cython.score-149 {background-color: #FFFF10;}\n",
       ".cython.score-150 {background-color: #FFFF0f;}\n",
       ".cython.score-151 {background-color: #FFFF0f;}\n",
       ".cython.score-152 {background-color: #FFFF0f;}\n",
       ".cython.score-153 {background-color: #FFFF0f;}\n",
       ".cython.score-154 {background-color: #FFFF0f;}\n",
       ".cython.score-155 {background-color: #FFFF0f;}\n",
       ".cython.score-156 {background-color: #FFFF0f;}\n",
       ".cython.score-157 {background-color: #FFFF0f;}\n",
       ".cython.score-158 {background-color: #FFFF0f;}\n",
       ".cython.score-159 {background-color: #FFFF0f;}\n",
       ".cython.score-160 {background-color: #FFFF0f;}\n",
       ".cython.score-161 {background-color: #FFFF0e;}\n",
       ".cython.score-162 {background-color: #FFFF0e;}\n",
       ".cython.score-163 {background-color: #FFFF0e;}\n",
       ".cython.score-164 {background-color: #FFFF0e;}\n",
       ".cython.score-165 {background-color: #FFFF0e;}\n",
       ".cython.score-166 {background-color: #FFFF0e;}\n",
       ".cython.score-167 {background-color: #FFFF0e;}\n",
       ".cython.score-168 {background-color: #FFFF0e;}\n",
       ".cython.score-169 {background-color: #FFFF0e;}\n",
       ".cython.score-170 {background-color: #FFFF0e;}\n",
       ".cython.score-171 {background-color: #FFFF0e;}\n",
       ".cython.score-172 {background-color: #FFFF0e;}\n",
       ".cython.score-173 {background-color: #FFFF0d;}\n",
       ".cython.score-174 {background-color: #FFFF0d;}\n",
       ".cython.score-175 {background-color: #FFFF0d;}\n",
       ".cython.score-176 {background-color: #FFFF0d;}\n",
       ".cython.score-177 {background-color: #FFFF0d;}\n",
       ".cython.score-178 {background-color: #FFFF0d;}\n",
       ".cython.score-179 {background-color: #FFFF0d;}\n",
       ".cython.score-180 {background-color: #FFFF0d;}\n",
       ".cython.score-181 {background-color: #FFFF0d;}\n",
       ".cython.score-182 {background-color: #FFFF0d;}\n",
       ".cython.score-183 {background-color: #FFFF0d;}\n",
       ".cython.score-184 {background-color: #FFFF0d;}\n",
       ".cython.score-185 {background-color: #FFFF0d;}\n",
       ".cython.score-186 {background-color: #FFFF0d;}\n",
       ".cython.score-187 {background-color: #FFFF0c;}\n",
       ".cython.score-188 {background-color: #FFFF0c;}\n",
       ".cython.score-189 {background-color: #FFFF0c;}\n",
       ".cython.score-190 {background-color: #FFFF0c;}\n",
       ".cython.score-191 {background-color: #FFFF0c;}\n",
       ".cython.score-192 {background-color: #FFFF0c;}\n",
       ".cython.score-193 {background-color: #FFFF0c;}\n",
       ".cython.score-194 {background-color: #FFFF0c;}\n",
       ".cython.score-195 {background-color: #FFFF0c;}\n",
       ".cython.score-196 {background-color: #FFFF0c;}\n",
       ".cython.score-197 {background-color: #FFFF0c;}\n",
       ".cython.score-198 {background-color: #FFFF0c;}\n",
       ".cython.score-199 {background-color: #FFFF0c;}\n",
       ".cython.score-200 {background-color: #FFFF0c;}\n",
       ".cython.score-201 {background-color: #FFFF0c;}\n",
       ".cython.score-202 {background-color: #FFFF0c;}\n",
       ".cython.score-203 {background-color: #FFFF0b;}\n",
       ".cython.score-204 {background-color: #FFFF0b;}\n",
       ".cython.score-205 {background-color: #FFFF0b;}\n",
       ".cython.score-206 {background-color: #FFFF0b;}\n",
       ".cython.score-207 {background-color: #FFFF0b;}\n",
       ".cython.score-208 {background-color: #FFFF0b;}\n",
       ".cython.score-209 {background-color: #FFFF0b;}\n",
       ".cython.score-210 {background-color: #FFFF0b;}\n",
       ".cython.score-211 {background-color: #FFFF0b;}\n",
       ".cython.score-212 {background-color: #FFFF0b;}\n",
       ".cython.score-213 {background-color: #FFFF0b;}\n",
       ".cython.score-214 {background-color: #FFFF0b;}\n",
       ".cython.score-215 {background-color: #FFFF0b;}\n",
       ".cython.score-216 {background-color: #FFFF0b;}\n",
       ".cython.score-217 {background-color: #FFFF0b;}\n",
       ".cython.score-218 {background-color: #FFFF0b;}\n",
       ".cython.score-219 {background-color: #FFFF0b;}\n",
       ".cython.score-220 {background-color: #FFFF0b;}\n",
       ".cython.score-221 {background-color: #FFFF0b;}\n",
       ".cython.score-222 {background-color: #FFFF0a;}\n",
       ".cython.score-223 {background-color: #FFFF0a;}\n",
       ".cython.score-224 {background-color: #FFFF0a;}\n",
       ".cython.score-225 {background-color: #FFFF0a;}\n",
       ".cython.score-226 {background-color: #FFFF0a;}\n",
       ".cython.score-227 {background-color: #FFFF0a;}\n",
       ".cython.score-228 {background-color: #FFFF0a;}\n",
       ".cython.score-229 {background-color: #FFFF0a;}\n",
       ".cython.score-230 {background-color: #FFFF0a;}\n",
       ".cython.score-231 {background-color: #FFFF0a;}\n",
       ".cython.score-232 {background-color: #FFFF0a;}\n",
       ".cython.score-233 {background-color: #FFFF0a;}\n",
       ".cython.score-234 {background-color: #FFFF0a;}\n",
       ".cython.score-235 {background-color: #FFFF0a;}\n",
       ".cython.score-236 {background-color: #FFFF0a;}\n",
       ".cython.score-237 {background-color: #FFFF0a;}\n",
       ".cython.score-238 {background-color: #FFFF0a;}\n",
       ".cython.score-239 {background-color: #FFFF0a;}\n",
       ".cython.score-240 {background-color: #FFFF0a;}\n",
       ".cython.score-241 {background-color: #FFFF0a;}\n",
       ".cython.score-242 {background-color: #FFFF0a;}\n",
       ".cython.score-243 {background-color: #FFFF0a;}\n",
       ".cython.score-244 {background-color: #FFFF0a;}\n",
       ".cython.score-245 {background-color: #FFFF0a;}\n",
       ".cython.score-246 {background-color: #FFFF09;}\n",
       ".cython.score-247 {background-color: #FFFF09;}\n",
       ".cython.score-248 {background-color: #FFFF09;}\n",
       ".cython.score-249 {background-color: #FFFF09;}\n",
       ".cython.score-250 {background-color: #FFFF09;}\n",
       ".cython.score-251 {background-color: #FFFF09;}\n",
       ".cython.score-252 {background-color: #FFFF09;}\n",
       ".cython.score-253 {background-color: #FFFF09;}\n",
       ".cython.score-254 {background-color: #FFFF09;}\n",
       ".cython .hll { background-color: #ffffcc }\n",
       ".cython  { background: #f8f8f8; }\n",
       ".cython .c { color: #408080; font-style: italic } /* Comment */\n",
       ".cython .err { border: 1px solid #FF0000 } /* Error */\n",
       ".cython .k { color: #008000; font-weight: bold } /* Keyword */\n",
       ".cython .o { color: #666666 } /* Operator */\n",
       ".cython .ch { color: #408080; font-style: italic } /* Comment.Hashbang */\n",
       ".cython .cm { color: #408080; font-style: italic } /* Comment.Multiline */\n",
       ".cython .cp { color: #BC7A00 } /* Comment.Preproc */\n",
       ".cython .cpf { color: #408080; font-style: italic } /* Comment.PreprocFile */\n",
       ".cython .c1 { color: #408080; font-style: italic } /* Comment.Single */\n",
       ".cython .cs { color: #408080; font-style: italic } /* Comment.Special */\n",
       ".cython .gd { color: #A00000 } /* Generic.Deleted */\n",
       ".cython .ge { font-style: italic } /* Generic.Emph */\n",
       ".cython .gr { color: #FF0000 } /* Generic.Error */\n",
       ".cython .gh { color: #000080; font-weight: bold } /* Generic.Heading */\n",
       ".cython .gi { color: #00A000 } /* Generic.Inserted */\n",
       ".cython .go { color: #888888 } /* Generic.Output */\n",
       ".cython .gp { color: #000080; font-weight: bold } /* Generic.Prompt */\n",
       ".cython .gs { font-weight: bold } /* Generic.Strong */\n",
       ".cython .gu { color: #800080; font-weight: bold } /* Generic.Subheading */\n",
       ".cython .gt { color: #0044DD } /* Generic.Traceback */\n",
       ".cython .kc { color: #008000; font-weight: bold } /* Keyword.Constant */\n",
       ".cython .kd { color: #008000; font-weight: bold } /* Keyword.Declaration */\n",
       ".cython .kn { color: #008000; font-weight: bold } /* Keyword.Namespace */\n",
       ".cython .kp { color: #008000 } /* Keyword.Pseudo */\n",
       ".cython .kr { color: #008000; font-weight: bold } /* Keyword.Reserved */\n",
       ".cython .kt { color: #B00040 } /* Keyword.Type */\n",
       ".cython .m { color: #666666 } /* Literal.Number */\n",
       ".cython .s { color: #BA2121 } /* Literal.String */\n",
       ".cython .na { color: #7D9029 } /* Name.Attribute */\n",
       ".cython .nb { color: #008000 } /* Name.Builtin */\n",
       ".cython .nc { color: #0000FF; font-weight: bold } /* Name.Class */\n",
       ".cython .no { color: #880000 } /* Name.Constant */\n",
       ".cython .nd { color: #AA22FF } /* Name.Decorator */\n",
       ".cython .ni { color: #999999; font-weight: bold } /* Name.Entity */\n",
       ".cython .ne { color: #D2413A; font-weight: bold } /* Name.Exception */\n",
       ".cython .nf { color: #0000FF } /* Name.Function */\n",
       ".cython .nl { color: #A0A000 } /* Name.Label */\n",
       ".cython .nn { color: #0000FF; font-weight: bold } /* Name.Namespace */\n",
       ".cython .nt { color: #008000; font-weight: bold } /* Name.Tag */\n",
       ".cython .nv { color: #19177C } /* Name.Variable */\n",
       ".cython .ow { color: #AA22FF; font-weight: bold } /* Operator.Word */\n",
       ".cython .w { color: #bbbbbb } /* Text.Whitespace */\n",
       ".cython .mb { color: #666666 } /* Literal.Number.Bin */\n",
       ".cython .mf { color: #666666 } /* Literal.Number.Float */\n",
       ".cython .mh { color: #666666 } /* Literal.Number.Hex */\n",
       ".cython .mi { color: #666666 } /* Literal.Number.Integer */\n",
       ".cython .mo { color: #666666 } /* Literal.Number.Oct */\n",
       ".cython .sb { color: #BA2121 } /* Literal.String.Backtick */\n",
       ".cython .sc { color: #BA2121 } /* Literal.String.Char */\n",
       ".cython .sd { color: #BA2121; font-style: italic } /* Literal.String.Doc */\n",
       ".cython .s2 { color: #BA2121 } /* Literal.String.Double */\n",
       ".cython .se { color: #BB6622; font-weight: bold } /* Literal.String.Escape */\n",
       ".cython .sh { color: #BA2121 } /* Literal.String.Heredoc */\n",
       ".cython .si { color: #BB6688; font-weight: bold } /* Literal.String.Interpol */\n",
       ".cython .sx { color: #008000 } /* Literal.String.Other */\n",
       ".cython .sr { color: #BB6688 } /* Literal.String.Regex */\n",
       ".cython .s1 { color: #BA2121 } /* Literal.String.Single */\n",
       ".cython .ss { color: #19177C } /* Literal.String.Symbol */\n",
       ".cython .bp { color: #008000 } /* Name.Builtin.Pseudo */\n",
       ".cython .vc { color: #19177C } /* Name.Variable.Class */\n",
       ".cython .vg { color: #19177C } /* Name.Variable.Global */\n",
       ".cython .vi { color: #19177C } /* Name.Variable.Instance */\n",
       ".cython .il { color: #666666 } /* Literal.Number.Integer.Long */\n",
       "    </style>\n",
       "    <script>\n",
       "    function toggleDiv(id) {\n",
       "        theDiv = id.nextElementSibling\n",
       "        if (theDiv.style.display != 'block') theDiv.style.display = 'block';\n",
       "        else theDiv.style.display = 'none';\n",
       "    }\n",
       "    </script>\n",
       "</head>\n",
       "<body class=\"cython\">\n",
       "<p><span style=\"border-bottom: solid 1px grey;\">Generated by Cython 0.25.2</span></p>\n",
       "<p>\n",
       "    <span style=\"background-color: #FFFF00\">Yellow lines</span> hint at Python interaction.<br />\n",
       "    Click on a line that starts with a \"<code>+</code>\" to see the C code that Cython generated for it.\n",
       "</p>\n",
       "<div class=\"cython\"><pre class=\"cython line score-0\">&#xA0;<span class=\"\">01</span>: <span class=\"k\">cimport</span> <span class=\"nn\">cython</span>  <span class=\"c\"># Cレベルでのimport, #includeマクロに相当</span></pre>\n",
       "<pre class=\"cython line score-0\">&#xA0;<span class=\"\">02</span>: </pre>\n",
       "<pre class=\"cython line score-0\" onclick='toggleDiv(this)'>+<span class=\"\">03</span>: <span class=\"k\">cdef</span> <span class=\"kt\">double</span> <span class=\"nf\">add_one</span><span class=\"p\">(</span><span class=\"n\">double</span> <span class=\"n\">x</span><span class=\"p\">):</span></pre>\n",
       "<pre class='cython code score-0 '>static double __pyx_f_46_cython_magic_4fde3da47f339faaa4da3d47361f9297_add_one(double __pyx_v_x) {\n",
       "  double __pyx_r;\n",
       "  <span class='refnanny'>__Pyx_RefNannyDeclarations</span>\n",
       "  <span class='refnanny'>__Pyx_RefNannySetupContext</span>(\"add_one\", 0);\n",
       "/* … */\n",
       "  /* function exit code */\n",
       "  __pyx_L0:;\n",
       "  <span class='refnanny'>__Pyx_RefNannyFinishContext</span>();\n",
       "  return __pyx_r;\n",
       "}\n",
       "</pre><pre class=\"cython line score-0\" onclick='toggleDiv(this)'>+<span class=\"\">04</span>:     <span class=\"k\">return</span> <span class=\"n\">x</span> <span class=\"o\">+</span> <span class=\"mf\">1.0</span></pre>\n",
       "<pre class='cython code score-0 '>  __pyx_r = (__pyx_v_x + 1.0);\n",
       "  goto __pyx_L0;\n",
       "</pre><pre class=\"cython line score-0\">&#xA0;<span class=\"\">05</span>: </pre>\n",
       "<pre class=\"cython line score-0\">&#xA0;<span class=\"\">06</span>: <span class=\"nd\">@cython</span><span class=\"o\">.</span><span class=\"n\">cdivision</span><span class=\"p\">(</span><span class=\"bp\">True</span><span class=\"p\">)</span></pre>\n",
       "<pre class=\"cython line score-0\" onclick='toggleDiv(this)'>+<span class=\"\">07</span>: <span class=\"k\">cdef</span> <span class=\"kt\">double</span> <span class=\"nf\">c_integrate</span><span class=\"p\">(</span><span class=\"n\">double</span> <span class=\"n\">a</span><span class=\"p\">,</span> <span class=\"n\">double</span> <span class=\"n\">b</span><span class=\"p\">,</span> <span class=\"n\">double</span> <span class=\"p\">(</span><span class=\"o\">*</span><span class=\"n\">f</span><span class=\"p\">)(</span><span class=\"n\">double</span><span class=\"p\">),</span> <span class=\"nb\">int</span> <span class=\"n\">N</span><span class=\"o\">=</span><span class=\"mf\">2000</span><span class=\"p\">):</span></pre>\n",
       "<pre class='cython code score-0 '>static double __pyx_f_46_cython_magic_4fde3da47f339faaa4da3d47361f9297_c_integrate(double __pyx_v_a, double __pyx_v_b, double (*__pyx_v_f)(double), struct __pyx_opt_args_46_cython_magic_4fde3da47f339faaa4da3d47361f9297_c_integrate *__pyx_optional_args) {\n",
       "  int __pyx_v_N = ((int)0x7D0);\n",
       "  int __pyx_v_i;\n",
       "  double __pyx_v_dx;\n",
       "  double __pyx_v_s;\n",
       "  double __pyx_r;\n",
       "  <span class='refnanny'>__Pyx_RefNannyDeclarations</span>\n",
       "  <span class='refnanny'>__Pyx_RefNannySetupContext</span>(\"c_integrate\", 0);\n",
       "  if (__pyx_optional_args) {\n",
       "    if (__pyx_optional_args-&gt;__pyx_n &gt; 0) {\n",
       "      __pyx_v_N = __pyx_optional_args-&gt;N;\n",
       "    }\n",
       "  }\n",
       "/* … */\n",
       "  /* function exit code */\n",
       "  __pyx_L0:;\n",
       "  <span class='refnanny'>__Pyx_RefNannyFinishContext</span>();\n",
       "  return __pyx_r;\n",
       "}\n",
       "</pre><pre class=\"cython line score-0\">&#xA0;<span class=\"\">08</span>:     <span class=\"k\">cdef</span><span class=\"p\">:</span></pre>\n",
       "<pre class=\"cython line score-0\">&#xA0;<span class=\"\">09</span>:         <span class=\"nb\">int</span> <span class=\"n\">i</span></pre>\n",
       "<pre class=\"cython line score-0\" onclick='toggleDiv(this)'>+<span class=\"\">10</span>:         <span class=\"n\">double</span> <span class=\"n\">dx</span> <span class=\"o\">=</span> <span class=\"p\">(</span><span class=\"n\">b</span> <span class=\"o\">-</span> <span class=\"n\">a</span><span class=\"p\">)</span> <span class=\"o\">/</span> <span class=\"n\">N</span></pre>\n",
       "<pre class='cython code score-0 '>  __pyx_v_dx = ((__pyx_v_b - __pyx_v_a) / ((double)__pyx_v_N));\n",
       "</pre><pre class=\"cython line score-0\" onclick='toggleDiv(this)'>+<span class=\"\">11</span>:         <span class=\"n\">double</span> <span class=\"n\">s</span> <span class=\"o\">=</span> <span class=\"mf\">0.0</span></pre>\n",
       "<pre class='cython code score-0 '>  __pyx_v_s = 0.0;\n",
       "</pre><pre class=\"cython line score-0\" onclick='toggleDiv(this)'>+<span class=\"\">12</span>:     <span class=\"k\">for</span> <span class=\"n\">i</span> <span class=\"ow\">in</span> <span class=\"nb\">range</span><span class=\"p\">(</span><span class=\"n\">N</span><span class=\"p\">):</span></pre>\n",
       "<pre class='cython code score-0 '>  __pyx_t_1 = __pyx_v_N;\n",
       "  for (__pyx_t_2 = 0; __pyx_t_2 &lt; __pyx_t_1; __pyx_t_2+=1) {\n",
       "    __pyx_v_i = __pyx_t_2;\n",
       "</pre><pre class=\"cython line score-0\" onclick='toggleDiv(this)'>+<span class=\"\">13</span>:         <span class=\"n\">s</span> <span class=\"o\">+=</span> <span class=\"n\">f</span><span class=\"p\">(</span><span class=\"n\">a</span> <span class=\"o\">+</span> <span class=\"n\">i</span><span class=\"o\">*</span><span class=\"n\">dx</span><span class=\"p\">)</span></pre>\n",
       "<pre class='cython code score-0 '>    __pyx_v_s = (__pyx_v_s + __pyx_v_f((__pyx_v_a + (__pyx_v_i * __pyx_v_dx))));\n",
       "  }\n",
       "</pre><pre class=\"cython line score-0\" onclick='toggleDiv(this)'>+<span class=\"\">14</span>:     <span class=\"k\">return</span> <span class=\"n\">s</span> <span class=\"o\">*</span> <span class=\"n\">dx</span></pre>\n",
       "<pre class='cython code score-0 '>  __pyx_r = (__pyx_v_s * __pyx_v_dx);\n",
       "  goto __pyx_L0;\n",
       "</pre><pre class=\"cython line score-0\">&#xA0;<span class=\"\">15</span>: </pre>\n",
       "<pre class=\"cython line score-78\" onclick='toggleDiv(this)'>+<span class=\"\">16</span>: <span class=\"k\">def</span> <span class=\"nf\">py_integrate</span><span class=\"p\">(</span><span class=\"n\">double</span> <span class=\"n\">a</span><span class=\"p\">,</span> <span class=\"n\">double</span> <span class=\"n\">b</span><span class=\"p\">,</span> <span class=\"nb\">int</span> <span class=\"n\">N</span><span class=\"o\">=</span><span class=\"mf\">2000</span><span class=\"p\">):</span></pre>\n",
       "<pre class='cython code score-78 '>/* Python wrapper */\n",
       "static PyObject *__pyx_pw_46_cython_magic_4fde3da47f339faaa4da3d47361f9297_1py_integrate(PyObject *__pyx_self, PyObject *__pyx_args, PyObject *__pyx_kwds); /*proto*/\n",
       "static PyMethodDef __pyx_mdef_46_cython_magic_4fde3da47f339faaa4da3d47361f9297_1py_integrate = {\"py_integrate\", (PyCFunction)__pyx_pw_46_cython_magic_4fde3da47f339faaa4da3d47361f9297_1py_integrate, METH_VARARGS|METH_KEYWORDS, 0};\n",
       "static PyObject *__pyx_pw_46_cython_magic_4fde3da47f339faaa4da3d47361f9297_1py_integrate(PyObject *__pyx_self, PyObject *__pyx_args, PyObject *__pyx_kwds) {\n",
       "  double __pyx_v_a;\n",
       "  double __pyx_v_b;\n",
       "  int __pyx_v_N;\n",
       "  PyObject *__pyx_r = 0;\n",
       "  <span class='refnanny'>__Pyx_RefNannyDeclarations</span>\n",
       "  <span class='refnanny'>__Pyx_RefNannySetupContext</span>(\"py_integrate (wrapper)\", 0);\n",
       "  {\n",
       "    static PyObject **__pyx_pyargnames[] = {&amp;__pyx_n_s_a,&amp;__pyx_n_s_b,&amp;__pyx_n_s_N,0};\n",
       "    PyObject* values[3] = {0,0,0};\n",
       "    if (unlikely(__pyx_kwds)) {\n",
       "      Py_ssize_t kw_args;\n",
       "      const Py_ssize_t pos_args = <span class='py_macro_api'>PyTuple_GET_SIZE</span>(__pyx_args);\n",
       "      switch (pos_args) {\n",
       "        case  3: values[2] = <span class='py_macro_api'>PyTuple_GET_ITEM</span>(__pyx_args, 2);\n",
       "        case  2: values[1] = <span class='py_macro_api'>PyTuple_GET_ITEM</span>(__pyx_args, 1);\n",
       "        case  1: values[0] = <span class='py_macro_api'>PyTuple_GET_ITEM</span>(__pyx_args, 0);\n",
       "        case  0: break;\n",
       "        default: goto __pyx_L5_argtuple_error;\n",
       "      }\n",
       "      kw_args = <span class='py_c_api'>PyDict_Size</span>(__pyx_kwds);\n",
       "      switch (pos_args) {\n",
       "        case  0:\n",
       "        if (likely((values[0] = <span class='py_c_api'>PyDict_GetItem</span>(__pyx_kwds, __pyx_n_s_a)) != 0)) kw_args--;\n",
       "        else goto __pyx_L5_argtuple_error;\n",
       "        case  1:\n",
       "        if (likely((values[1] = <span class='py_c_api'>PyDict_GetItem</span>(__pyx_kwds, __pyx_n_s_b)) != 0)) kw_args--;\n",
       "        else {\n",
       "          <span class='pyx_c_api'>__Pyx_RaiseArgtupleInvalid</span>(\"py_integrate\", 0, 2, 3, 1); __PYX_ERR(0, 16, __pyx_L3_error)\n",
       "        }\n",
       "        case  2:\n",
       "        if (kw_args &gt; 0) {\n",
       "          PyObject* value = <span class='py_c_api'>PyDict_GetItem</span>(__pyx_kwds, __pyx_n_s_N);\n",
       "          if (value) { values[2] = value; kw_args--; }\n",
       "        }\n",
       "      }\n",
       "      if (unlikely(kw_args &gt; 0)) {\n",
       "        if (unlikely(<span class='pyx_c_api'>__Pyx_ParseOptionalKeywords</span>(__pyx_kwds, __pyx_pyargnames, 0, values, pos_args, \"py_integrate\") &lt; 0)) __PYX_ERR(0, 16, __pyx_L3_error)\n",
       "      }\n",
       "    } else {\n",
       "      switch (<span class='py_macro_api'>PyTuple_GET_SIZE</span>(__pyx_args)) {\n",
       "        case  3: values[2] = <span class='py_macro_api'>PyTuple_GET_ITEM</span>(__pyx_args, 2);\n",
       "        case  2: values[1] = <span class='py_macro_api'>PyTuple_GET_ITEM</span>(__pyx_args, 1);\n",
       "        values[0] = <span class='py_macro_api'>PyTuple_GET_ITEM</span>(__pyx_args, 0);\n",
       "        break;\n",
       "        default: goto __pyx_L5_argtuple_error;\n",
       "      }\n",
       "    }\n",
       "    __pyx_v_a = __pyx_<span class='py_c_api'>PyFloat_AsDouble</span>(values[0]); if (unlikely((__pyx_v_a == (double)-1) &amp;&amp; <span class='py_c_api'>PyErr_Occurred</span>())) __PYX_ERR(0, 16, __pyx_L3_error)\n",
       "    __pyx_v_b = __pyx_<span class='py_c_api'>PyFloat_AsDouble</span>(values[1]); if (unlikely((__pyx_v_b == (double)-1) &amp;&amp; <span class='py_c_api'>PyErr_Occurred</span>())) __PYX_ERR(0, 16, __pyx_L3_error)\n",
       "    if (values[2]) {\n",
       "      __pyx_v_N = <span class='pyx_c_api'>__Pyx_PyInt_As_int</span>(values[2]); if (unlikely((__pyx_v_N == (int)-1) &amp;&amp; <span class='py_c_api'>PyErr_Occurred</span>())) __PYX_ERR(0, 16, __pyx_L3_error)\n",
       "    } else {\n",
       "      __pyx_v_N = ((int)0x7D0);\n",
       "    }\n",
       "  }\n",
       "  goto __pyx_L4_argument_unpacking_done;\n",
       "  __pyx_L5_argtuple_error:;\n",
       "  <span class='pyx_c_api'>__Pyx_RaiseArgtupleInvalid</span>(\"py_integrate\", 0, 2, 3, <span class='py_macro_api'>PyTuple_GET_SIZE</span>(__pyx_args)); __PYX_ERR(0, 16, __pyx_L3_error)\n",
       "  __pyx_L3_error:;\n",
       "  <span class='pyx_c_api'>__Pyx_AddTraceback</span>(\"_cython_magic_4fde3da47f339faaa4da3d47361f9297.py_integrate\", __pyx_clineno, __pyx_lineno, __pyx_filename);\n",
       "  <span class='refnanny'>__Pyx_RefNannyFinishContext</span>();\n",
       "  return NULL;\n",
       "  __pyx_L4_argument_unpacking_done:;\n",
       "  __pyx_r = __pyx_pf_46_cython_magic_4fde3da47f339faaa4da3d47361f9297_py_integrate(__pyx_self, __pyx_v_a, __pyx_v_b, __pyx_v_N);\n",
       "\n",
       "  /* function exit code */\n",
       "  <span class='refnanny'>__Pyx_RefNannyFinishContext</span>();\n",
       "  return __pyx_r;\n",
       "}\n",
       "\n",
       "static PyObject *__pyx_pf_46_cython_magic_4fde3da47f339faaa4da3d47361f9297_py_integrate(CYTHON_UNUSED PyObject *__pyx_self, double __pyx_v_a, double __pyx_v_b, int __pyx_v_N) {\n",
       "  PyObject *__pyx_r = NULL;\n",
       "  <span class='refnanny'>__Pyx_RefNannyDeclarations</span>\n",
       "  <span class='refnanny'>__Pyx_RefNannySetupContext</span>(\"py_integrate\", 0);\n",
       "/* … */\n",
       "  /* function exit code */\n",
       "  __pyx_L1_error:;\n",
       "  <span class='pyx_macro_api'>__Pyx_XDECREF</span>(__pyx_t_3);\n",
       "  <span class='pyx_c_api'>__Pyx_AddTraceback</span>(\"_cython_magic_4fde3da47f339faaa4da3d47361f9297.py_integrate\", __pyx_clineno, __pyx_lineno, __pyx_filename);\n",
       "  __pyx_r = NULL;\n",
       "  __pyx_L0:;\n",
       "  <span class='refnanny'>__Pyx_XGIVEREF</span>(__pyx_r);\n",
       "  <span class='refnanny'>__Pyx_RefNannyFinishContext</span>();\n",
       "  return __pyx_r;\n",
       "}\n",
       "/* … */\n",
       "  __pyx_tuple_ = <span class='py_c_api'>PyTuple_Pack</span>(3, __pyx_n_s_a, __pyx_n_s_b, __pyx_n_s_N); if (unlikely(!__pyx_tuple_)) __PYX_ERR(0, 16, __pyx_L1_error)\n",
       "  <span class='refnanny'>__Pyx_GOTREF</span>(__pyx_tuple_);\n",
       "  <span class='refnanny'>__Pyx_GIVEREF</span>(__pyx_tuple_);\n",
       "/* … */\n",
       "  __pyx_t_1 = PyCFunction_NewEx(&amp;__pyx_mdef_46_cython_magic_4fde3da47f339faaa4da3d47361f9297_1py_integrate, NULL, __pyx_n_s_cython_magic_4fde3da47f339faaa4); if (unlikely(!__pyx_t_1)) __PYX_ERR(0, 16, __pyx_L1_error)\n",
       "  <span class='refnanny'>__Pyx_GOTREF</span>(__pyx_t_1);\n",
       "  if (<span class='py_c_api'>PyDict_SetItem</span>(__pyx_d, __pyx_n_s_py_integrate, __pyx_t_1) &lt; 0) __PYX_ERR(0, 16, __pyx_L1_error)\n",
       "  <span class='pyx_macro_api'>__Pyx_DECREF</span>(__pyx_t_1); __pyx_t_1 = 0;\n",
       "</pre><pre class=\"cython line score-6\" onclick='toggleDiv(this)'>+<span class=\"\">17</span>:     <span class=\"k\">return</span> <span class=\"n\">c_integrate</span><span class=\"p\">(</span><span class=\"n\">a</span><span class=\"p\">,</span> <span class=\"n\">b</span><span class=\"p\">,</span> <span class=\"n\">add_one</span><span class=\"p\">,</span> <span class=\"n\">N</span><span class=\"p\">)</span></pre>\n",
       "<pre class='cython code score-6 '>  <span class='pyx_macro_api'>__Pyx_XDECREF</span>(__pyx_r);\n",
       "  __pyx_t_2.__pyx_n = 1;\n",
       "  __pyx_t_2.N = __pyx_v_N;\n",
       "  __pyx_t_1 = __pyx_f_46_cython_magic_4fde3da47f339faaa4da3d47361f9297_c_integrate(__pyx_v_a, __pyx_v_b, __pyx_f_46_cython_magic_4fde3da47f339faaa4da3d47361f9297_add_one, &amp;__pyx_t_2); \n",
       "  __pyx_t_3 = <span class='py_c_api'>PyFloat_FromDouble</span>(__pyx_t_1); if (unlikely(!__pyx_t_3)) __PYX_ERR(0, 17, __pyx_L1_error)\n",
       "  <span class='refnanny'>__Pyx_GOTREF</span>(__pyx_t_3);\n",
       "  __pyx_r = __pyx_t_3;\n",
       "  __pyx_t_3 = 0;\n",
       "  goto __pyx_L0;\n",
       "</pre></div></body></html>"
      ],
      "text/plain": [
       "<IPython.core.display.HTML object>"
      ]
     },
     "execution_count": 20,
     "metadata": {},
     "output_type": "execute_result"
    }
   ],
   "source": [
    "%%cython -a\n",
    "cimport cython  # Cレベルでのimport, #includeマクロに相当\n",
    "\n",
    "cdef double add_one(double x):\n",
    "    return x + 1.0\n",
    "\n",
    "@cython.cdivision(True)\n",
    "cdef double c_integrate(double a, double b, double (*f)(double), int N=2000):\n",
    "    cdef:\n",
    "        int i\n",
    "        double dx = (b - a) / N\n",
    "        double s = 0.0\n",
    "    for i in range(N):\n",
    "        s += f(a + i*dx)\n",
    "    return s * dx\n",
    "\n",
    "def py_integrate(double a, double b, int N=2000):\n",
    "    return c_integrate(a, b, add_one, N)"
   ]
  },
  {
   "cell_type": "code",
   "execution_count": 30,
   "metadata": {
    "collapsed": false,
    "nbpresent": {
     "id": "12657057-4aa1-4c9e-b608-a5f94d606b18"
    }
   },
   "outputs": [
    {
     "data": {
      "text/plain": [
       "59.97500000000001"
      ]
     },
     "execution_count": 30,
     "metadata": {},
     "output_type": "execute_result"
    }
   ],
   "source": [
    "# c_integrateはpython側から呼べないが\n",
    "# py_integrateはpython側から呼べる\n",
    "py_integrate(0.0, 10.0)"
   ]
  },
  {
   "cell_type": "markdown",
   "metadata": {
    "nbpresent": {
     "id": "ed2800ae-882b-4050-81f4-a82e31c5a9cc"
    }
   },
   "source": [
    "### 速度の比較 ###\n",
    "\n",
    "* `f = lambda x: x + 1`\n",
    "* `integrate(0,0, 10.0, f)`\n",
    "* `typed_integrate(0.0, 10.0, f)`\n",
    "* `py_integrate(0.0, 10.0)`\n",
    "    * `add_one`関数が静的に宣言されているためフェアではない"
   ]
  },
  {
   "cell_type": "code",
   "execution_count": 29,
   "metadata": {
    "collapsed": false,
    "nbpresent": {
     "id": "31792b7b-e2d1-4d1c-a039-bdbbe5476d0a"
    }
   },
   "outputs": [
    {
     "name": "stdout",
     "output_type": "stream",
     "text": [
      "The slowest run took 4.07 times longer than the fastest. This could mean that an intermediate result is being cached.\n",
      "1000 loops, best of 3: 724 µs per loop\n"
     ]
    }
   ],
   "source": [
    "%%timeit f = lambda x: x + 1\n",
    "integrate(0.0, 10.0, f)"
   ]
  },
  {
   "cell_type": "code",
   "execution_count": 23,
   "metadata": {
    "collapsed": false,
    "nbpresent": {
     "id": "2981b119-5c3f-43c2-9b8a-f122a03a5d2d"
    }
   },
   "outputs": [
    {
     "name": "stdout",
     "output_type": "stream",
     "text": [
      "The slowest run took 4.79 times longer than the fastest. This could mean that an intermediate result is being cached.\n",
      "1000 loops, best of 3: 483 µs per loop\n"
     ]
    }
   ],
   "source": [
    "%%timeit f = lambda x: x + 1\n",
    "typed_integrate(0.0, 10.0, f)"
   ]
  },
  {
   "cell_type": "code",
   "execution_count": 24,
   "metadata": {
    "collapsed": false,
    "nbpresent": {
     "id": "01f4b75b-ba18-44de-b76e-fe388c021c1c"
    }
   },
   "outputs": [
    {
     "name": "stdout",
     "output_type": "stream",
     "text": [
      "100000 loops, best of 3: 3.9 µs per loop\n"
     ]
    }
   ],
   "source": [
    "%%timeit \n",
    "py_integrate(0.0, 10.0)"
   ]
  },
  {
   "cell_type": "markdown",
   "metadata": {
    "nbpresent": {
     "id": "615f99f1-10eb-4380-a349-7aac609f5ae6"
    }
   },
   "source": [
    "# Cコードに対するラッパー作成 #\n",
    "\n",
    "* ここまでの話はcython上でCレベルの変数、関数を定義して高速化可能であるという話\n",
    "* 既存のCコードはどのように扱えば良いのか\n",
    "* AudioIOライブラリ`libsndfile`のラッパー作成を通じて方法を学ぶ"
   ]
  },
  {
   "cell_type": "markdown",
   "metadata": {
    "nbpresent": {
     "id": "031b44f6-f4ef-4667-8a07-114cc86f6140"
    }
   },
   "source": [
    "## Cython定義ファイル: \"`.pxd`\"ファイル ##\n",
    "\n",
    "* `.pyx`ファイルをCythonの実装としたときの定義ファイル\n",
    "    * `.c`や`.cpp`に対する`.h`\n",
    "    * pyxを使うだけなら存在は必須ではない\n",
    "    * C関数のラッパーを書くときや複数のpyxで定義を共有するときに使用"
   ]
  },
  {
   "cell_type": "markdown",
   "metadata": {
    "nbpresent": {
     "id": "78e94786-835c-4749-885e-ba62999b3ad4"
    }
   },
   "source": [
    "##  \"`.pxd`\"ファイルには何を書くのか ##\n",
    "\n",
    "* `cdef`などによる関数定義\n",
    "* Cコードに対するラッパー作成時の`.h`で定義されている関数の宣言"
   ]
  },
  {
   "cell_type": "markdown",
   "metadata": {
    "nbpresent": {
     "id": "736a3e76-b4e0-4025-b8a1-f9756874b8f5"
    }
   },
   "source": [
    "## \"`.pxd`\"ファイル使用のイメージ ##\n",
    "\n",
    "<img src=\"./img/pxd_flow.png\" width=\"2500px\" height=\"2100px\" />"
   ]
  },
  {
   "cell_type": "markdown",
   "metadata": {
    "nbpresent": {
     "id": "19f8ca02-62dd-4ed4-beda-f163b693e4ee"
    }
   },
   "source": [
    "## \"`.pxd`\"ファイルでのCヘッダーファイルの参照 ##\n",
    "\n",
    "* 下記のように\".h\"ファイルを参照\n",
    "\n",
    "* `hoge.h`\n",
    "```c\n",
    "void do_something(int a, int b){\n",
    "  /* do something */\n",
    "}\n",
    "```\n",
    "\n",
    "* `cy_hoge.pxd`\n",
    "\n",
    "```cython\n",
    "cdef extern from \"hoge.h\":\n",
    "    cdef void do_something(int a, int b)\n",
    "```\n"
   ]
  },
  {
   "cell_type": "markdown",
   "metadata": {
    "nbpresent": {
     "id": "f2f4e829-e515-466c-a86a-77278cd3dcc2"
    }
   },
   "source": [
    "## Cヘッダーファイルからの参照に関する注意 ##\n",
    "\n",
    "* そのままではpython側からは`cdef`関数が呼べない\n",
    "    * cdefで定義された関数であるため\n",
    "* python側から呼ぶためにはラッパー関数をdefやcpdefで宣言しないといけない\n",
    "    * つまりCythonは自動的にラッパーを生成してくれない\n",
    "* cy_hoge.pyx\n",
    "\n",
    "```cython\n",
    "# explicit wrapper\n",
    "def py_do_something(int a, int b):\n",
    "    # do something for python layer\n",
    "```"
   ]
  },
  {
   "cell_type": "markdown",
   "metadata": {
    "nbpresent": {
     "id": "322ab2b9-3512-458f-ae80-05f1b2c61e37"
    }
   },
   "source": [
    "## ラッパーを手で書くのがめんどくさい ##\n",
    "\n",
    "* 自動化ツールが存在\n",
    "    * https://github.com/cython/cython/wiki/AutoPxd\n",
    "    * メンテされているプロジェクトがあまりない印象\n",
    "* C言語に関してはCFFIなどを使ったほうが良いのかもしれない"
   ]
  },
  {
   "cell_type": "markdown",
   "metadata": {
    "nbpresent": {
     "id": "aed94c59-edb4-4f7c-aebe-ec11c0f3194d"
    }
   },
   "source": [
    "## 実例: libsndfileのラッパー作成 ##\n",
    "\n",
    "* 手順\n",
    "    1. libsndfileをライブラリとしてビルドする(libsndfile.soを作る)\n",
    "    2. libsndfileのAPI定義の書かれたヘッダーファイルを`pysndfile.pxd`で読み込みラップ予定のAPIを指定\n",
    "    3. `pysndfile.pyx`にC APIを使うためのラッパーか拡張型を書く\n",
    "        * 拡張型については後述"
   ]
  },
  {
   "cell_type": "markdown",
   "metadata": {
    "nbpresent": {
     "id": "5f7e7cf0-9002-44a7-a2e6-5cc83ecac453"
    }
   },
   "source": [
    "## (1) libsndfileをライブラリとしてビルド ##\n",
    "\n",
    "* ライブラリ指定の方法にもとづいてビルド(./configure && makeなど)\n",
    "* 生成されたlibsndfile.soをCythonで処理して生成する拡張モジュールとともに使用するためには\n",
    "    * setup.pyでExtensionを作成するときの引数に指定可能\n",
    "    * static library\n",
    "        * extra_objects = [\"~.a\", \"〜.a\"]\n",
    "    * dynamic library\n",
    "        * libraries = [\"sndfile\", \"m\", ...]\n",
    "        * extra_link_args=[\"/path/to/library\", ...]"
   ]
  },
  {
   "cell_type": "markdown",
   "metadata": {
    "nbpresent": {
     "id": "a1588023-7c83-4404-bf5e-e303226bc0ac"
    }
   },
   "source": [
    "## (2) `pysndfile.pxd`でAPI定義を読み込んで指定 ##\n",
    "\n",
    "* ヘッダーファイル中の必要な情報のみを転記\n",
    "* 最低限のstruct, enumと関数\n",
    "* ここまで出てこなかったキーワードがいくつか登場\n",
    "    * `ctypedef`: Cのtypedefに相当\n",
    "    * `cdef struct 〜`: Cレベルでの構造体の宣言\n",
    "    * `cdef enum 〜`: Cレベルでのenumの宣言"
   ]
  },
  {
   "cell_type": "markdown",
   "metadata": {
    "nbpresent": {
     "id": "2138140c-da69-4615-b926-a2e47d190195"
    }
   },
   "source": [
    "### 実際に作成した`pysndfile.pxd`ファイル ###\n",
    "\n",
    "* オーディオファイルのOpen/Closeとサンプル値の読み込み関数のみを定義\n",
    "\n",
    "```cython\n",
    "from libc.stdint cimport int64_t\n",
    "\n",
    "cdef extern from \"sndfile.h\":\n",
    "    ctypedef int64_t sf_count_t\n",
    "    cdef struct SNDFILE_tag:\n",
    "       pass\n",
    "    ctypedef SNDFILE_tag SNDFILE\n",
    "\n",
    "    cdef struct SF_INFO:\n",
    "       sf_count_t      frames\n",
    "       ...\n",
    "\n",
    "    cdef enum:\n",
    "        # True and false\n",
    "        SF_FALSE        = 0,\n",
    "        ...\n",
    "\n",
    "    # .hで定義されている関数達を転記(末尾の;は消す)\n",
    "    cdef SNDFILE* sf_open (const char *path, int mode, SF_INFO *sfinfo)\n",
    "    int sf_close(SNDFILE *sndfile)\n",
    "    sf_count_t sf_read_float(SNDFILE *sndfile, float *ptr, sf_count_t items)\n",
    "```"
   ]
  },
  {
   "cell_type": "markdown",
   "metadata": {
    "nbpresent": {
     "id": "1fd90560-5740-4191-9659-459b515b08d6"
    }
   },
   "source": [
    "## (3) `pysndfile.pyx`の作成 ##\n",
    "\n",
    "* `pyx`内で`pxd`で定義した関数を呼ぶためのラッパー関数を定義\n",
    "    * 引数にオーディオファイルのパスと読み込んだサンプル値を受け取るバッファを与えて、`sf_open`、`sf_read_float`, `sf_close`を連続して実行するメソッドを定義することも可能\n",
    "    * Pythonレベルではファイルポインタを保持できない(`SNDFILE*`をPythonオブジェクトに変換できない)ため、cdef関数内で完結させる必要がある\n",
    "* これを解決するためにCythonにおける拡張型を用いる\n",
    "    * 一度開いたファイルのハンドルをメンバーとして保持"
   ]
  },
  {
   "cell_type": "markdown",
   "metadata": {
    "nbpresent": {
     "id": "37da6c04-1b8f-4c78-8f8a-8bc75d0b816d"
    }
   },
   "source": [
    "## 拡張型とは ##\n",
    "\n",
    "* Cythonにおける組込みではない新しくユーザーが定義した型\n",
    "    * Pythonのclassと同じような記述で定義可能\n",
    "    \n",
    "    ```cython\n",
    "    cdef class PySndfile:\n",
    "        cdef int ...\n",
    "        def __cinit__(PySndfile self):\n",
    "            ...\n",
    "        def __dealloc__(PySndfile self):\n",
    "            ...\n",
    "    ```    \n",
    "    \n",
    "    * `__init__`や`__del__`以外に、Cレベルでオブジェクトが生成・破棄されたときに呼ばれる`__cinit__`, `__dealloc__`が定義可能"
   ]
  },
  {
   "cell_type": "markdown",
   "metadata": {
    "nbpresent": {
     "id": "a9ae8bc9-4f1b-4c59-9aa9-4e2be56102ea"
    }
   },
   "source": [
    "## 拡張型の実例(`pysndfile.pyx`) ##\n",
    "\n",
    "* `sf_open`で開いた結果の返り値であるファイルポインタを拡張型のメンバー変数で保持 \n",
    "\n",
    "```cython\n",
    "# from pysndfile cimport *  # 不要\n",
    "import numpy as np\n",
    "cimport numpy as cnp\n",
    "\n",
    "cdef class PySndfile:\n",
    "    cdef SNDFILE* handle\n",
    "    cdef str filepath\n",
    "    cdef int mode\n",
    "    cdef SF_INFO sf_info\n",
    "\n",
    "    def __init__(PySndfile self):\n",
    "       pass\n",
    "\n",
    "    def __dealloc__(PySndfile self):\n",
    "        self.close()\n",
    "    ...\n",
    "```"
   ]
  },
  {
   "cell_type": "markdown",
   "metadata": {
    "nbpresent": {
     "id": "562474d0-39e9-4ae9-a55c-0edcbdd303d5"
    }
   },
   "source": [
    "## 拡張型のメソッド(1) ##\n",
    "\n",
    "* 読み書き部分\n",
    "\n",
    "```cython\n",
    "    ...\n",
    "    def open(PySndfile self, str file_str, mode=\"r\"):\n",
    "        sf_mode = \"\"\n",
    "\n",
    "        if mode == \"r\":\n",
    "           sf_mode = SFM_READ\n",
    "        elif mode == \"w\":\n",
    "           sf_mode = SFM_WRITE\n",
    "        elif mode == \"Rw\":\n",
    "           sf_mode = SFM_RDWR\n",
    "\n",
    "        self.handle = sf_open(file_str.encode(),\n",
    "                              sf_mode,\n",
    "                              &self.sf_info)\n",
    "\n",
    "    def close(PySndfile self):\n",
    "       if self.handle is not NULL:\n",
    "          sf_close(self.handle)\n",
    "```"
   ]
  },
  {
   "cell_type": "markdown",
   "metadata": {
    "nbpresent": {
     "id": "c337056c-7821-46c3-80a9-19c530d337cb"
    }
   },
   "source": [
    "## 拡張型のメソッド(2) ##\n",
    "\n",
    "* サンプル値読み込み部\n",
    "    * 読み込んだデータをndarrayとして返却\n",
    "    * 型付メモリビューを用いてnp.zerosで初期化したバッファをsf_read_floatに渡す\n",
    "    * 列優先レイアウトで宣言したバッファを渡し、それを行優先に変換して返却することで、多chの場合にインタリーブされて格納されているステレオデータ点を(channel, frames)のshapeで取れるようにする\n",
    "\n",
    "```cython\n",
    "\n",
    "    def read_frames(PySndfile self):\n",
    "       cdef int channels = self.sf_info.channels\n",
    "       cdef int frames =  self.sf_info.frames\n",
    "       cdef int items = channels * frames\n",
    "       cdef float[::1,:] col_memv\n",
    "\n",
    "       data = np.zeros((channels, frames), dtype=np.float32, order=\"F\")\n",
    "       col_memv = data\n",
    "       sf_read_float(self.handle, &col_memv[0,0], items)\n",
    "       # cdef float[:,::1] row_memv = col_memv.T\n",
    "       return np.asarray(col_memv, order=\"C\")\n",
    "\n",
    "```"
   ]
  },
  {
   "cell_type": "markdown",
   "metadata": {
    "nbpresent": {
     "id": "3e684e3e-dc96-4703-a98e-b86f7c114da4"
    }
   },
   "source": [
    "## 型付メモリビュー ##\n",
    "\n",
    "* バッファプロトコルに準拠するオブジェクト(array.arrayやndarrayなど)に対する型の付いたメモリビュー\n",
    "* さまざまなメモリレイアウトを柔軟に操作可能であり、Cのポインタ引数に対しても渡せる"
   ]
  },
  {
   "cell_type": "code",
   "execution_count": 41,
   "metadata": {
    "collapsed": true,
    "nbpresent": {
     "id": "c73a2e9c-0758-4164-9e7e-ee4a0acd9cd1"
    }
   },
   "outputs": [],
   "source": [
    "from pysndfile import pysndfile"
   ]
  },
  {
   "cell_type": "code",
   "execution_count": 45,
   "metadata": {
    "collapsed": false,
    "nbpresent": {
     "id": "cfdce161-fb65-4a89-a5c8-3f528f35743a"
    }
   },
   "outputs": [
    {
     "data": {
      "image/png": "[encoded data removed]",
      "text/plain": [
       "<matplotlib.figure.Figure at 0x10ff19390>"
      ]
     },
     "metadata": {},
     "output_type": "display_data"
    }
   ],
   "source": [
    "%matplotlib inline\n",
    "import matplotlib.pyplot as plt\n",
    "\n",
    "psf = pysndfile.PySndfile()\n",
    "psf.open(\"wav/sin_48kHzFS_2ch_16bit.wav\", \"r\")\n",
    "xs = psf.read_frames()\n",
    "\n",
    "plot_pt = int(0.01 * 48000)\n",
    "\n",
    "fig = plt.figure(1)\n",
    "\n",
    "ax = fig.add_subplot(2, 1, 1)\n",
    "ax.plot(xs[0][:plot_pt])\n",
    "ax = fig.add_subplot(2, 1, 2)\n",
    "ax.plot(xs[1][:plot_pt])\n",
    "\n",
    "plt.show()\n",
    "\n",
    "psf.close()\n"
   ]
  },
  {
   "cell_type": "markdown",
   "metadata": {
    "collapsed": true,
    "nbpresent": {
     "id": "a331953b-50bd-4756-ba67-06c9d33c6533"
    }
   },
   "source": [
    "# C++のラッパーについて #\n",
    "\n",
    "* `cdef cppclass`でC++クラスに対するインタフェースを`pxd`上に書く\n",
    "* このインタフェースを用いる拡張型を書く(`cdef class`)\n",
    "* C++クラスに対するインタフェースとして定義したコンストラクタをnewを使って生成し、拡張型のメンバ変数でポインタを保持\n",
    "* 詳しくは https://cython.readthedocs.io/en/latest/src/userguide/wrapping_CPlusPlus.html"
   ]
  },
  {
   "cell_type": "markdown",
   "metadata": {
    "nbpresent": {
     "id": "248b32e2-fa9a-43d8-b5cd-a018fd2f2d9f"
    }
   },
   "source": [
    "## これ以上学ぶための情報 ##\n",
    "\n",
    "* wiki https://github.com/cython/cython/wiki\n",
    "* online document\n",
    "    * 和訳されたものもあるがバージョンが古い(17.1、現在は25.2)ため注意\n",
    "* オライリーのcython本"
   ]
  },
  {
   "cell_type": "markdown",
   "metadata": {
    "collapsed": true,
    "nbpresent": {
     "id": "acd2278f-6afd-47bb-9795-efec113fb7ea"
    }
   },
   "source": [
    "## まとめ ##\n",
    "\n",
    "* Cythonの実行方法と高速化方法について学んだ\n",
    "* Cラッパー作成方法について学んだ"
   ]
  }
 ],
 "metadata": {
  "anaconda-cloud": {},
  "kernelspec": {
   "display_name": "Python [conda env:scientific]",
   "language": "python",
   "name": "conda-env-scientific-py"
  },
  "language_info": {
   "codemirror_mode": {
    "name": "ipython",
    "version": 3
   },
   "file_extension": ".py",
   "mimetype": "text/x-python",
   "name": "python",
   "nbconvert_exporter": "python",
   "pygments_lexer": "ipython3",
   "version": "3.5.2"
  },
  "nbpresent": {
   "slides": {
    "0305feae-fbb6-44e0-bb5f-a6abe761add2": {
     "id": "0305feae-fbb6-44e0-bb5f-a6abe761add2",
     "prev": "1426d74e-825e-433e-a886-1318e2c09da9",
     "regions": {
      "84a7e7da-75dd-4e98-9119-5c70ae3d0aeb": {
       "attrs": {
        "height": 0.8,
        "width": 0.8,
        "x": 0.1,
        "y": 0.1
       },
       "content": {
        "cell": "5f7e7cf0-9002-44a7-a2e6-5cc83ecac453",
        "part": "whole"
       },
       "id": "84a7e7da-75dd-4e98-9119-5c70ae3d0aeb"
      }
     }
    },
    "08f4691b-0244-45d6-a398-e099d4a760fb": {
     "id": "08f4691b-0244-45d6-a398-e099d4a760fb",
     "prev": "111b4699-4530-41f3-af9a-98e205c1a1c8",
     "regions": {
      "af2aaf7b-81fe-4928-b080-e4f158787375": {
       "attrs": {
        "height": 0.8,
        "width": 0.8,
        "x": 0.1,
        "y": 0.1
       },
       "content": {
        "cell": "d0d2bdd5-04cf-4642-b612-55f96e167d8a",
        "part": "whole"
       },
       "id": "af2aaf7b-81fe-4928-b080-e4f158787375"
      }
     }
    },
    "0c932177-c0bb-44aa-8085-2de5c97c9640": {
     "id": "0c932177-c0bb-44aa-8085-2de5c97c9640",
     "prev": "7dbece2e-ee6e-4d2b-abe3-1f5688dc3cb9",
     "regions": {
      "a6b97f41-31bf-4d0d-b294-49e7f7a827d5": {
       "attrs": {
        "height": 0.8,
        "width": 0.8,
        "x": 0.1,
        "y": 0.1
       },
       "content": {
        "cell": "097847c0-89e5-4193-a062-1977b128921b",
        "part": "whole"
       },
       "id": "a6b97f41-31bf-4d0d-b294-49e7f7a827d5"
      }
     }
    },
    "111b4699-4530-41f3-af9a-98e205c1a1c8": {
     "id": "111b4699-4530-41f3-af9a-98e205c1a1c8",
     "prev": "8308db0a-d584-4280-9a56-841f4ea637f4",
     "regions": {
      "ae087131-053d-44ec-b7be-4cbbffce5b18": {
       "attrs": {
        "height": 0.8,
        "width": 0.8,
        "x": 0.1,
        "y": 0.1
       },
       "content": {
        "cell": "830e0866-b7f9-47b7-a0c1-7f9969b87f63",
        "part": "whole"
       },
       "id": "ae087131-053d-44ec-b7be-4cbbffce5b18"
      }
     }
    },
    "1216b59a-2143-4cd1-b1db-5f0cc58b53ba": {
     "id": "1216b59a-2143-4cd1-b1db-5f0cc58b53ba",
     "prev": "c95b7a36-ef78-4c8c-a838-85b4434736a4",
     "regions": {
      "a032a450-39c2-4be6-9b16-828c85f8c2a5": {
       "attrs": {
        "height": 0.8,
        "width": 0.8,
        "x": 0.1,
        "y": 0.1
       },
       "content": {
        "cell": "1fd90560-5740-4191-9659-459b515b08d6",
        "part": "whole"
       },
       "id": "a032a450-39c2-4be6-9b16-828c85f8c2a5"
      }
     }
    },
    "1327957e-12f6-4463-9046-e65e95983950": {
     "id": "1327957e-12f6-4463-9046-e65e95983950",
     "prev": "3895ce72-3730-4ffd-8521-ee25e6cec5c2",
     "regions": {
      "3fff685e-ccfa-4ec3-84f0-eb8f6ec91a00": {
       "attrs": {
        "height": 0.8,
        "width": 0.8,
        "x": 0.1,
        "y": 0.1
       },
       "content": {
        "cell": "4d12d5e1-4c3c-41a5-adf3-7156779b0048",
        "part": "whole"
       },
       "id": "3fff685e-ccfa-4ec3-84f0-eb8f6ec91a00"
      }
     }
    },
    "1426d74e-825e-433e-a886-1318e2c09da9": {
     "id": "1426d74e-825e-433e-a886-1318e2c09da9",
     "prev": "8e52d773-071f-4ca2-906c-0a1782d754c4",
     "regions": {
      "ec7ad8e6-10d8-4640-ba08-266eebd9dfbd": {
       "attrs": {
        "height": 0.8,
        "width": 0.8,
        "x": 0.1,
        "y": 0.1
       },
       "content": {
        "cell": "aed94c59-edb4-4f7c-aebe-ec11c0f3194d",
        "part": "whole"
       },
       "id": "ec7ad8e6-10d8-4640-ba08-266eebd9dfbd"
      }
     }
    },
    "17208f82-902b-4575-b0b0-88a111fe3f3e": {
     "id": "17208f82-902b-4575-b0b0-88a111fe3f3e",
     "prev": "790d18d1-37d5-4a66-8a7e-34a5cb66d620",
     "regions": {
      "da9ff354-cc1a-44fc-a9d5-29f9a5e263fd": {
       "attrs": {
        "height": 0.8,
        "width": 0.8,
        "x": 0.1,
        "y": 0.1
       },
       "content": {
        "cell": "bafcd806-6967-4088-a105-d037460ac4d4",
        "part": "whole"
       },
       "id": "da9ff354-cc1a-44fc-a9d5-29f9a5e263fd"
      }
     }
    },
    "1ab52d94-d066-4962-9c4b-70d759b08a88": {
     "id": "1ab52d94-d066-4962-9c4b-70d759b08a88",
     "prev": "bbffbfc6-6f86-4754-8b44-c610f0564985",
     "regions": {
      "79b6ad05-cde4-4197-8581-c2ebe9c73eee": {
       "attrs": {
        "height": 0.8,
        "width": 0.8,
        "x": 0.1,
        "y": 0.1
       },
       "content": {
        "cell": "8cdd2f26-65e8-4065-9c50-9d16800be05c",
        "part": "whole"
       },
       "id": "79b6ad05-cde4-4197-8581-c2ebe9c73eee"
      }
     }
    },
    "1d59d92e-2481-4ce2-9093-b022f3b23211": {
     "id": "1d59d92e-2481-4ce2-9093-b022f3b23211",
     "prev": "d0175cc6-978f-4c63-a570-56b5c7041823",
     "regions": {
      "b98b3f22-1566-4b5c-bb6b-9cb686eceb3b": {
       "attrs": {
        "height": 0.8,
        "width": 0.8,
        "x": 0.1,
        "y": 0.1
       },
       "content": {
        "cell": "721f3d8d-b41b-4f6c-a151-ce3c9beef84e",
        "part": "whole"
       },
       "id": "b98b3f22-1566-4b5c-bb6b-9cb686eceb3b"
      }
     }
    },
    "1e3c7b09-862c-4b0f-a728-01cb714aaae2": {
     "id": "1e3c7b09-862c-4b0f-a728-01cb714aaae2",
     "prev": "6f0ca07c-4848-4c97-ba1a-5567c2b92755",
     "regions": {
      "edec48c1-c089-4222-b7ba-3b95e4bfff88": {
       "attrs": {
        "height": 0.8,
        "width": 0.8,
        "x": 0.1,
        "y": 0.1
       },
       "content": {
        "cell": "ecd593c8-06a4-4f87-b2e6-2bfcf44ae048",
        "part": "whole"
       },
       "id": "edec48c1-c089-4222-b7ba-3b95e4bfff88"
      }
     }
    },
    "225adb68-6908-49f6-87ce-29c709ca4258": {
     "id": "225adb68-6908-49f6-87ce-29c709ca4258",
     "prev": "770b6f3e-e330-4d3b-8167-f555129b7c93",
     "regions": {
      "01a7c157-3aa3-4013-a1e4-780f428b0224": {
       "attrs": {
        "height": 0.8,
        "width": 0.8,
        "x": 0.1,
        "y": 0.1
       },
       "content": {
        "cell": "33fcd6fc-788e-481a-9724-5770ee85b571",
        "part": "whole"
       },
       "id": "01a7c157-3aa3-4013-a1e4-780f428b0224"
      }
     }
    },
    "2a1874ea-e067-494d-86fc-3d15cec0f738": {
     "id": "2a1874ea-e067-494d-86fc-3d15cec0f738",
     "prev": "1ab52d94-d066-4962-9c4b-70d759b08a88",
     "regions": {
      "6d2fab41-7b99-43d8-9357-28bbf66b49bf": {
       "attrs": {
        "height": 0.8,
        "width": 0.8,
        "x": 0.1,
        "y": 0.1
       },
       "content": {
        "cell": "b01a9284-8ec4-40f3-9d60-a117a5f8a43a",
        "part": "whole"
       },
       "id": "6d2fab41-7b99-43d8-9357-28bbf66b49bf"
      }
     }
    },
    "2c7c0972-a607-4731-b233-f0a00914831a": {
     "id": "2c7c0972-a607-4731-b233-f0a00914831a",
     "prev": "a0b02db8-2b29-44ef-a6ee-3cf0e0b83943",
     "regions": {
      "374d1637-97ad-46c0-baad-39beec5d49dd": {
       "attrs": {
        "height": 0.8,
        "width": 0.8,
        "x": 0.1,
        "y": 0.1
       },
       "content": {
        "cell": "e071e183-53ad-47b4-a4c1-84b85fc1be9c",
        "part": "whole"
       },
       "id": "374d1637-97ad-46c0-baad-39beec5d49dd"
      }
     }
    },
    "309657b9-f6ee-4e71-8132-cd3266bdbcaa": {
     "id": "309657b9-f6ee-4e71-8132-cd3266bdbcaa",
     "prev": "ffac1a70-528e-4a9c-8a6c-24b8171e40f8",
     "regions": {
      "f9822d8e-c2ea-4db6-bdae-0feb9d9860d1": {
       "attrs": {
        "height": 0.8,
        "width": 0.8,
        "x": 0.1,
        "y": 0.1
       },
       "content": {
        "cell": "e1b13ab8-8fed-4ba2-9028-97ecf49b2f68",
        "part": "whole"
       },
       "id": "f9822d8e-c2ea-4db6-bdae-0feb9d9860d1"
      }
     }
    },
    "3751a289-3781-4b4f-b8a2-ef6a70001c1d": {
     "id": "3751a289-3781-4b4f-b8a2-ef6a70001c1d",
     "prev": "f05b0527-4449-4ff4-8b3e-e44e98b5bf46",
     "regions": {
      "e2687f03-ada2-4cdb-8a39-81ae35c1231d": {
       "attrs": {
        "height": 0.8,
        "width": 0.8,
        "x": 0.1,
        "y": 0.1
       },
       "content": {
        "cell": "ccd5045e-ea36-4af3-93f1-00c7afd7254f",
        "part": "whole"
       },
       "id": "e2687f03-ada2-4cdb-8a39-81ae35c1231d"
      }
     }
    },
    "3895ce72-3730-4ffd-8521-ee25e6cec5c2": {
     "id": "3895ce72-3730-4ffd-8521-ee25e6cec5c2",
     "prev": "2c7c0972-a607-4731-b233-f0a00914831a",
     "regions": {
      "c2cb1c70-a8ff-4aef-bb97-4a382b051e42": {
       "attrs": {
        "height": 0.8,
        "width": 0.8,
        "x": 0.1,
        "y": 0.1
       },
       "content": {
        "cell": "1881afdb-0893-4c37-9b30-04526fc73bd5",
        "part": "whole"
       },
       "id": "c2cb1c70-a8ff-4aef-bb97-4a382b051e42"
      }
     }
    },
    "39465f85-d69f-4345-88a5-07fe31bac7f2": {
     "id": "39465f85-d69f-4345-88a5-07fe31bac7f2",
     "prev": "7dce2cd0-e98e-474e-9415-c397fc9e9b2a",
     "regions": {
      "8fede5c7-2144-4274-84ce-4871f595a32e": {
       "attrs": {
        "height": 0.8,
        "width": 0.8,
        "x": 0.1,
        "y": 0.1
       },
       "content": {
        "cell": "acd2278f-6afd-47bb-9795-efec113fb7ea",
        "part": "whole"
       },
       "id": "8fede5c7-2144-4274-84ce-4871f595a32e"
      }
     }
    },
    "3a9b905d-2eb9-4d70-ac32-5a510500606e": {
     "id": "3a9b905d-2eb9-4d70-ac32-5a510500606e",
     "prev": "4c55bfa2-7a82-4f33-b81d-d3735eacdfcd",
     "regions": {
      "32e8522d-c60b-4955-bf88-50f0f729af01": {
       "attrs": {
        "height": 0.8,
        "width": 0.8,
        "x": 0.1,
        "y": 0.1
       },
       "content": {
        "cell": "cfdce161-fb65-4a89-a5c8-3f528f35743a",
        "part": "whole"
       },
       "id": "32e8522d-c60b-4955-bf88-50f0f729af01"
      }
     }
    },
    "3c163a94-5e1b-41b2-908a-10df8963481b": {
     "id": "3c163a94-5e1b-41b2-908a-10df8963481b",
     "prev": "e3d2ba5d-7601-48e3-8261-71a61ea3ebdf",
     "regions": {
      "fa302400-6d13-4923-bfce-c10e4e0bb744": {
       "attrs": {
        "height": 0.8,
        "width": 0.8,
        "x": 0.1,
        "y": 0.1
       },
       "content": {
        "cell": "f9ee206e-9e82-405b-b6eb-af7fff95ea8f",
        "part": "whole"
       },
       "id": "fa302400-6d13-4923-bfce-c10e4e0bb744"
      }
     }
    },
    "3e19f7d7-da34-4176-9a6c-a145106cdc05": {
     "id": "3e19f7d7-da34-4176-9a6c-a145106cdc05",
     "prev": "1e3c7b09-862c-4b0f-a728-01cb714aaae2",
     "regions": {
      "beb0c82b-6e53-40b3-8c1f-5b56ddc0c60e": {
       "attrs": {
        "height": 0.8,
        "width": 0.8,
        "x": 0.1,
        "y": 0.1
       },
       "content": {
        "cell": "7aa91dae-8df8-47ca-b148-b13f0db408e6",
        "part": "whole"
       },
       "id": "beb0c82b-6e53-40b3-8c1f-5b56ddc0c60e"
      }
     }
    },
    "3fc2998f-ce5d-4b82-a2eb-9df286c4a6ef": {
     "id": "3fc2998f-ce5d-4b82-a2eb-9df286c4a6ef",
     "prev": "0305feae-fbb6-44e0-bb5f-a6abe761add2",
     "regions": {
      "a9168625-e7ff-4008-bd64-7b49a1ea0222": {
       "attrs": {
        "height": 0.8,
        "width": 0.8,
        "x": 0.1,
        "y": 0.1
       },
       "content": {
        "cell": "a1588023-7c83-4404-bf5e-e303226bc0ac",
        "part": "whole"
       },
       "id": "a9168625-e7ff-4008-bd64-7b49a1ea0222"
      }
     }
    },
    "4a118153-7651-4eab-9cb9-c25d03c850af": {
     "id": "4a118153-7651-4eab-9cb9-c25d03c850af",
     "prev": "cad9eec5-c3e3-40f2-864c-f81a9807543f",
     "regions": {
      "cb7eb4e3-bd45-4730-93a2-c66bb744432c": {
       "attrs": {
        "height": 0.8,
        "width": 0.8,
        "x": 0.1,
        "y": 0.1
       },
       "content": {
        "cell": "2981b119-5c3f-43c2-9b8a-f122a03a5d2d",
        "part": "whole"
       },
       "id": "cb7eb4e3-bd45-4730-93a2-c66bb744432c"
      }
     }
    },
    "4c55bfa2-7a82-4f33-b81d-d3735eacdfcd": {
     "id": "4c55bfa2-7a82-4f33-b81d-d3735eacdfcd",
     "prev": "a26b1570-c512-48de-bb07-b48bd27c3643",
     "regions": {
      "e1bd9c08-f37a-4658-b15f-ea0379fd4279": {
       "attrs": {
        "height": 0.8,
        "width": 0.8,
        "x": 0.1,
        "y": 0.1
       },
       "content": {
        "cell": "c73a2e9c-0758-4164-9e7e-ee4a0acd9cd1",
        "part": "whole"
       },
       "id": "e1bd9c08-f37a-4658-b15f-ea0379fd4279"
      }
     }
    },
    "541bf836-ff64-4334-b11b-f0282166b14f": {
     "id": "541bf836-ff64-4334-b11b-f0282166b14f",
     "prev": "3a9b905d-2eb9-4d70-ac32-5a510500606e",
     "regions": {
      "a7908969-b830-4af1-9827-53099922b4be": {
       "attrs": {
        "height": 0.8,
        "width": 0.8,
        "x": 0.1,
        "y": 0.1
       },
       "content": {
        "cell": "a331953b-50bd-4756-ba67-06c9d33c6533",
        "part": "whole"
       },
       "id": "a7908969-b830-4af1-9827-53099922b4be"
      }
     }
    },
    "593b82fb-6905-40f3-b62e-594835a058f9": {
     "id": "593b82fb-6905-40f3-b62e-594835a058f9",
     "prev": "1216b59a-2143-4cd1-b1db-5f0cc58b53ba",
     "regions": {
      "8915ec08-6df0-4afe-bb5a-8fdc9b41d0f5": {
       "attrs": {
        "height": 0.8,
        "width": 0.8,
        "x": 0.1,
        "y": 0.1
       },
       "content": {
        "cell": "37da6c04-1b8f-4c78-8f8a-8bc75d0b816d",
        "part": "whole"
       },
       "id": "8915ec08-6df0-4afe-bb5a-8fdc9b41d0f5"
      }
     }
    },
    "5ce0eebb-1b3a-490f-9dc6-834ad6a19d8d": {
     "id": "5ce0eebb-1b3a-490f-9dc6-834ad6a19d8d",
     "prev": "ff32b137-50ed-4954-a959-732b259af96d",
     "regions": {
      "8ff491b6-70f0-4872-98fc-a9c60bba0a3b": {
       "attrs": {
        "height": 0.8,
        "width": 0.8,
        "x": 0.1,
        "y": 0.1
       },
       "content": {
        "cell": "8c214f33-1ec0-448b-99c3-d74aa91c3fad",
        "part": "whole"
       },
       "id": "8ff491b6-70f0-4872-98fc-a9c60bba0a3b"
      }
     }
    },
    "5e8314fc-78f0-4002-b7e4-5f0a8472cb17": {
     "id": "5e8314fc-78f0-4002-b7e4-5f0a8472cb17",
     "prev": "de0ecb64-85de-4602-aeed-e83fdc0f1dbd",
     "regions": {
      "ca5959ec-e7ae-4671-b4d7-bb88ae1ec9e2": {
       "attrs": {
        "height": 0.8,
        "width": 0.8,
        "x": 0.1,
        "y": 0.1
       },
       "content": {
        "cell": "615f99f1-10eb-4380-a349-7aac609f5ae6",
        "part": "whole"
       },
       "id": "ca5959ec-e7ae-4671-b4d7-bb88ae1ec9e2"
      }
     }
    },
    "6547a5e5-1822-438d-957c-a0475ed5c420": {
     "id": "6547a5e5-1822-438d-957c-a0475ed5c420",
     "prev": "82b9167b-95a2-4f07-bd4f-72f9d8ca222c",
     "regions": {
      "07b14d64-130a-4206-8c09-7ed4beef1712": {
       "attrs": {
        "height": 0.8,
        "width": 0.8,
        "x": 0.1,
        "y": 0.1
       },
       "content": {
        "cell": "f2f4e829-e515-466c-a86a-77278cd3dcc2",
        "part": "whole"
       },
       "id": "07b14d64-130a-4206-8c09-7ed4beef1712"
      }
     }
    },
    "6578df0d-180b-4193-acdc-120d0feff754": {
     "id": "6578df0d-180b-4193-acdc-120d0feff754",
     "prev": "88cd8146-6c15-4a97-adc0-4150297dbc14",
     "regions": {
      "ee976e85-e6ee-4eb7-be5e-65728a5b4bce": {
       "attrs": {
        "height": 0.8,
        "width": 0.8,
        "x": 0.1,
        "y": 0.1
       },
       "content": {
        "cell": "ed2800ae-882b-4050-81f4-a82e31c5a9cc",
        "part": "whole"
       },
       "id": "ee976e85-e6ee-4eb7-be5e-65728a5b4bce"
      }
     }
    },
    "6bafb7c0-dcca-4d55-8db4-52ea107e4dd4": {
     "id": "6bafb7c0-dcca-4d55-8db4-52ea107e4dd4",
     "prev": "82186f9a-2a03-490e-af16-5ab06a04dba9",
     "regions": {
      "80d613a9-241a-4683-8bfd-b0548077e6fd": {
       "attrs": {
        "height": 0.8,
        "width": 0.8,
        "x": 0.1,
        "y": 0.1
       },
       "content": {
        "cell": "b601409d-1e6a-45c5-8136-33fad90e7007",
        "part": "whole"
       },
       "id": "80d613a9-241a-4683-8bfd-b0548077e6fd"
      }
     }
    },
    "6d39b16c-b6fc-451b-97c1-ad4f660dfe88": {
     "id": "6d39b16c-b6fc-451b-97c1-ad4f660dfe88",
     "prev": "d4232781-9841-434e-8bef-183ecf550d58",
     "regions": {
      "182918f0-3baf-4655-a7b5-eeb550930dc7": {
       "attrs": {
        "height": 0.8,
        "width": 0.8,
        "x": 0.1,
        "y": 0.1
       },
       "content": {
        "cell": "562474d0-39e9-4ae9-a55c-0edcbdd303d5",
        "part": "whole"
       },
       "id": "182918f0-3baf-4655-a7b5-eeb550930dc7"
      }
     }
    },
    "6f0ca07c-4848-4c97-ba1a-5567c2b92755": {
     "id": "6f0ca07c-4848-4c97-ba1a-5567c2b92755",
     "prev": "1d59d92e-2481-4ce2-9093-b022f3b23211",
     "regions": {
      "d0ad31bd-d38a-49f8-88ad-5c2e2f94a84e": {
       "attrs": {
        "height": 0.8,
        "width": 0.8,
        "x": 0.1,
        "y": 0.1
       },
       "content": {
        "cell": "f38f5c0a-ceb4-4aac-bc14-d7d59ac87da9",
        "part": "whole"
       },
       "id": "d0ad31bd-d38a-49f8-88ad-5c2e2f94a84e"
      }
     }
    },
    "72a82dac-b607-4715-a197-5ce91d822835": {
     "id": "72a82dac-b607-4715-a197-5ce91d822835",
     "prev": "6bafb7c0-dcca-4d55-8db4-52ea107e4dd4",
     "regions": {
      "d83494dc-806d-4aac-99be-ee2c85645b43": {
       "attrs": {
        "height": 0.8,
        "width": 0.8,
        "x": 0.1,
        "y": 0.1
       },
       "content": {
        "cell": "491ac09e-ca92-41cb-abf4-bc569eff3fc8",
        "part": "whole"
       },
       "id": "d83494dc-806d-4aac-99be-ee2c85645b43"
      }
     }
    },
    "770b6f3e-e330-4d3b-8167-f555129b7c93": {
     "id": "770b6f3e-e330-4d3b-8167-f555129b7c93",
     "prev": "3c163a94-5e1b-41b2-908a-10df8963481b",
     "regions": {
      "f7d5e9f3-a446-40ac-a2bd-9db8fe69983c": {
       "attrs": {
        "height": 0.8,
        "width": 0.8,
        "x": 0.1,
        "y": 0.1
       },
       "content": {
        "cell": "0511791b-804e-4f3b-9142-2e2dbb65be62",
        "part": "whole"
       },
       "id": "f7d5e9f3-a446-40ac-a2bd-9db8fe69983c"
      }
     }
    },
    "790d18d1-37d5-4a66-8a7e-34a5cb66d620": {
     "id": "790d18d1-37d5-4a66-8a7e-34a5cb66d620",
     "prev": "f0de07f5-e494-4367-950e-a455dd144697",
     "regions": {
      "bb6bdffb-b93d-4be8-9bfc-3533557c65cc": {
       "attrs": {
        "height": 0.8,
        "width": 0.8,
        "x": 0.1,
        "y": 0.1
       },
       "content": {
        "cell": "a47175d8-36a5-4cfc-8cbf-bd494a7b6ada",
        "part": "whole"
       },
       "id": "bb6bdffb-b93d-4be8-9bfc-3533557c65cc"
      }
     }
    },
    "7ad72862-7bee-416a-a95a-a2d5bf4bbf5e": {
     "id": "7ad72862-7bee-416a-a95a-a2d5bf4bbf5e",
     "prev": "5e8314fc-78f0-4002-b7e4-5f0a8472cb17",
     "regions": {
      "68921785-4703-4a57-9a84-ea53a6b9ed7b": {
       "attrs": {
        "height": 0.8,
        "width": 0.8,
        "x": 0.1,
        "y": 0.1
       },
       "content": {
        "cell": "031b44f6-f4ef-4667-8a07-114cc86f6140",
        "part": "whole"
       },
       "id": "68921785-4703-4a57-9a84-ea53a6b9ed7b"
      }
     }
    },
    "7dbece2e-ee6e-4d2b-abe3-1f5688dc3cb9": {
     "id": "7dbece2e-ee6e-4d2b-abe3-1f5688dc3cb9",
     "prev": "17208f82-902b-4575-b0b0-88a111fe3f3e",
     "regions": {
      "e613b416-6a26-4af5-b3a9-24b6b1eba3b5": {
       "attrs": {
        "height": 0.8,
        "width": 0.8,
        "x": 0.1,
        "y": 0.1
       },
       "content": {
        "cell": "93ad00aa-28c6-4cca-a697-562c3824148f",
        "part": "whole"
       },
       "id": "e613b416-6a26-4af5-b3a9-24b6b1eba3b5"
      }
     }
    },
    "7dce2cd0-e98e-474e-9415-c397fc9e9b2a": {
     "id": "7dce2cd0-e98e-474e-9415-c397fc9e9b2a",
     "prev": "541bf836-ff64-4334-b11b-f0282166b14f",
     "regions": {
      "fd196947-7460-4c4a-bf94-6e1d967ca58f": {
       "attrs": {
        "height": 0.8,
        "width": 0.8,
        "x": 0.1,
        "y": 0.1
       },
       "content": {
        "cell": "248b32e2-fa9a-43d8-b5cd-a018fd2f2d9f",
        "part": "whole"
       },
       "id": "fd196947-7460-4c4a-bf94-6e1d967ca58f"
      }
     }
    },
    "82186f9a-2a03-490e-af16-5ab06a04dba9": {
     "id": "82186f9a-2a03-490e-af16-5ab06a04dba9",
     "prev": "963be9ef-e2ad-4906-b9f9-aa82d87f15d1",
     "regions": {
      "77ba0771-4315-43ec-933c-92ab8f2fa39e": {
       "attrs": {
        "height": 0.8,
        "width": 0.8,
        "x": 0.1,
        "y": 0.1
       },
       "content": {
        "cell": "35e5510c-d45f-44ef-81e3-b45baf2fb1f9",
        "part": "whole"
       },
       "id": "77ba0771-4315-43ec-933c-92ab8f2fa39e"
      }
     }
    },
    "82b9167b-95a2-4f07-bd4f-72f9d8ca222c": {
     "id": "82b9167b-95a2-4f07-bd4f-72f9d8ca222c",
     "prev": "edbf5950-af04-4658-9dfd-71f978ed7fbb",
     "regions": {
      "70005778-2c21-47b5-b01c-51a161267fbd": {
       "attrs": {
        "height": 0.8,
        "width": 0.8,
        "x": 0.1,
        "y": 0.1
       },
       "content": {
        "cell": "19f8ca02-62dd-4ed4-beda-f163b693e4ee",
        "part": "whole"
       },
       "id": "70005778-2c21-47b5-b01c-51a161267fbd"
      }
     }
    },
    "8308db0a-d584-4280-9a56-841f4ea637f4": {
     "id": "8308db0a-d584-4280-9a56-841f4ea637f4",
     "prev": "72a82dac-b607-4715-a197-5ce91d822835",
     "regions": {
      "1372d63c-9884-4504-a9f2-9a3b88611c27": {
       "attrs": {
        "height": 0.8,
        "width": 0.8,
        "x": 0.1,
        "y": 0.1
       },
       "content": {
        "cell": "5bfee562-beac-4805-8468-2da16ba15c01",
        "part": "whole"
       },
       "id": "1372d63c-9884-4504-a9f2-9a3b88611c27"
      }
     }
    },
    "88cd8146-6c15-4a97-adc0-4150297dbc14": {
     "id": "88cd8146-6c15-4a97-adc0-4150297dbc14",
     "prev": "db788ea2-6d4c-4ace-970b-017ad1fe062e",
     "regions": {
      "0deee414-61c9-4232-9b06-d6a95c9e75d3": {
       "attrs": {
        "height": 0.8,
        "width": 0.8,
        "x": 0.1,
        "y": 0.1
       },
       "content": {
        "cell": "12657057-4aa1-4c9e-b608-a5f94d606b18",
        "part": "whole"
       },
       "id": "0deee414-61c9-4232-9b06-d6a95c9e75d3"
      }
     }
    },
    "8e52d773-071f-4ca2-906c-0a1782d754c4": {
     "id": "8e52d773-071f-4ca2-906c-0a1782d754c4",
     "prev": "6547a5e5-1822-438d-957c-a0475ed5c420",
     "regions": {
      "c853466b-3700-428f-ab04-80ab83b8fcab": {
       "attrs": {
        "height": 0.8,
        "width": 0.8,
        "x": 0.1,
        "y": 0.1
       },
       "content": {
        "cell": "322ab2b9-3512-458f-ae80-05f1b2c61e37",
        "part": "whole"
       },
       "id": "c853466b-3700-428f-ab04-80ab83b8fcab"
      }
     }
    },
    "8f861e2a-dff6-436d-956f-a0a4457a39b3": {
     "id": "8f861e2a-dff6-436d-956f-a0a4457a39b3",
     "prev": "7ad72862-7bee-416a-a95a-a2d5bf4bbf5e",
     "regions": {
      "e51697ed-24ac-4acc-9c31-3fc9cb655e32": {
       "attrs": {
        "height": 0.8,
        "width": 0.8,
        "x": 0.1,
        "y": 0.1
       },
       "content": {
        "cell": "78e94786-835c-4749-885e-ba62999b3ad4",
        "part": "whole"
       },
       "id": "e51697ed-24ac-4acc-9c31-3fc9cb655e32"
      }
     }
    },
    "963be9ef-e2ad-4906-b9f9-aa82d87f15d1": {
     "id": "963be9ef-e2ad-4906-b9f9-aa82d87f15d1",
     "prev": "3751a289-3781-4b4f-b8a2-ef6a70001c1d",
     "regions": {
      "c54e4525-036b-4a5a-9e6a-1a3e3ebd0771": {
       "attrs": {
        "height": 0.8,
        "width": 0.8,
        "x": 0.1,
        "y": 0.1
       },
       "content": {
        "cell": "35d086cf-2f7f-4de5-abe4-a6b523b2c510",
        "part": "whole"
       },
       "id": "c54e4525-036b-4a5a-9e6a-1a3e3ebd0771"
      }
     }
    },
    "9aed8c7a-5104-4350-9f6b-c9b1a92de40c": {
     "id": "9aed8c7a-5104-4350-9f6b-c9b1a92de40c",
     "prev": "fabbcbb2-a472-4d71-9e77-a7d5b62886b6",
     "regions": {
      "6529c9ef-4e5c-4daf-b3e9-a94c73f27ec0": {
       "attrs": {
        "height": 0.8,
        "width": 0.8,
        "x": 0.1,
        "y": 0.1
       },
       "content": {
        "cell": "b8ad4a2d-9d4d-470f-ac19-9ecf6bcd9199",
        "part": "whole"
       },
       "id": "6529c9ef-4e5c-4daf-b3e9-a94c73f27ec0"
      }
     }
    },
    "a0b02db8-2b29-44ef-a6ee-3cf0e0b83943": {
     "id": "a0b02db8-2b29-44ef-a6ee-3cf0e0b83943",
     "prev": "225adb68-6908-49f6-87ce-29c709ca4258",
     "regions": {
      "d8280ff5-38c9-40ce-ac68-084b99573126": {
       "attrs": {
        "height": 0.8,
        "width": 0.8,
        "x": 0.1,
        "y": 0.1
       },
       "content": {
        "cell": "95e0f85a-fbdf-422a-b87b-8e572b59377b",
        "part": "whole"
       },
       "id": "d8280ff5-38c9-40ce-ac68-084b99573126"
      }
     }
    },
    "a26b1570-c512-48de-bb07-b48bd27c3643": {
     "id": "a26b1570-c512-48de-bb07-b48bd27c3643",
     "prev": "c62b69e4-d8f5-4570-a824-6603f718b180",
     "regions": {
      "d1e32c95-0961-4e40-8b28-7cda075cce23": {
       "attrs": {
        "height": 0.8,
        "width": 0.8,
        "x": 0.1,
        "y": 0.1
       },
       "content": {
        "cell": "3e684e3e-dc96-4703-a98e-b86f7c114da4",
        "part": "whole"
       },
       "id": "d1e32c95-0961-4e40-8b28-7cda075cce23"
      }
     }
    },
    "bbffbfc6-6f86-4754-8b44-c610f0564985": {
     "id": "bbffbfc6-6f86-4754-8b44-c610f0564985",
     "prev": "08f4691b-0244-45d6-a398-e099d4a760fb",
     "regions": {
      "1d469619-fd85-45b5-bdcc-8178dd1dc361": {
       "attrs": {
        "height": 0.8,
        "width": 0.8,
        "x": 0.1,
        "y": 0.1
       },
       "content": {
        "cell": "1a8db1af-5486-48b6-ab62-c81c045331b5",
        "part": "whole"
       },
       "id": "1d469619-fd85-45b5-bdcc-8178dd1dc361"
      }
     }
    },
    "c07f8c95-ce7f-4a0a-9f2b-e5ad0c1a0375": {
     "id": "c07f8c95-ce7f-4a0a-9f2b-e5ad0c1a0375",
     "prev": "fb6e0e2f-01a1-424d-80d8-05c43d3b0f17",
     "regions": {
      "258a4b30-c74d-42dd-bdc2-36f0840f416a": {
       "attrs": {
        "height": 0.8,
        "width": 0.8,
        "x": 0.1,
        "y": 0.1
       },
       "content": {
        "cell": "c7146503-f62e-475f-9b88-34769f85d295",
        "part": "whole"
       },
       "id": "258a4b30-c74d-42dd-bdc2-36f0840f416a"
      }
     }
    },
    "c62b69e4-d8f5-4570-a824-6603f718b180": {
     "id": "c62b69e4-d8f5-4570-a824-6603f718b180",
     "prev": "6d39b16c-b6fc-451b-97c1-ad4f660dfe88",
     "regions": {
      "7c810363-1243-4ad3-88d1-2e897988914a": {
       "attrs": {
        "height": 0.8,
        "width": 0.8,
        "x": 0.1,
        "y": 0.1
       },
       "content": {
        "cell": "c337056c-7821-46c3-80a9-19c530d337cb",
        "part": "whole"
       },
       "id": "7c810363-1243-4ad3-88d1-2e897988914a"
      }
     }
    },
    "c95b7a36-ef78-4c8c-a838-85b4434736a4": {
     "id": "c95b7a36-ef78-4c8c-a838-85b4434736a4",
     "prev": "3fc2998f-ce5d-4b82-a2eb-9df286c4a6ef",
     "regions": {
      "4a967f19-db31-416c-b70b-39573bd6710f": {
       "attrs": {
        "height": 0.8,
        "width": 0.8,
        "x": 0.1,
        "y": 0.1
       },
       "content": {
        "cell": "2138140c-da69-4615-b926-a2e47d190195",
        "part": "whole"
       },
       "id": "4a967f19-db31-416c-b70b-39573bd6710f"
      }
     }
    },
    "cad9eec5-c3e3-40f2-864c-f81a9807543f": {
     "id": "cad9eec5-c3e3-40f2-864c-f81a9807543f",
     "prev": "6578df0d-180b-4193-acdc-120d0feff754",
     "regions": {
      "8c9744b5-72c2-45bf-bf35-64653290937b": {
       "attrs": {
        "height": 0.8,
        "width": 0.8,
        "x": 0.1,
        "y": 0.1
       },
       "content": {
        "cell": "31792b7b-e2d1-4d1c-a039-bdbbe5476d0a",
        "part": "whole"
       },
       "id": "8c9744b5-72c2-45bf-bf35-64653290937b"
      }
     }
    },
    "d0175cc6-978f-4c63-a570-56b5c7041823": {
     "id": "d0175cc6-978f-4c63-a570-56b5c7041823",
     "prev": "c07f8c95-ce7f-4a0a-9f2b-e5ad0c1a0375",
     "regions": {
      "4fe15aa9-569f-4528-94ef-f709ed6f34ed": {
       "attrs": {
        "height": 0.8,
        "width": 0.8,
        "x": 0.1,
        "y": 0.1
       },
       "content": {
        "cell": "3c8c34bd-b369-485c-b4c9-68338d4b1e4a",
        "part": "whole"
       },
       "id": "4fe15aa9-569f-4528-94ef-f709ed6f34ed"
      }
     }
    },
    "d4232781-9841-434e-8bef-183ecf550d58": {
     "id": "d4232781-9841-434e-8bef-183ecf550d58",
     "prev": "593b82fb-6905-40f3-b62e-594835a058f9",
     "regions": {
      "01915b4a-43aa-42bd-9c5a-3bb2bc56ccff": {
       "attrs": {
        "height": 0.8,
        "width": 0.8,
        "x": 0.1,
        "y": 0.1
       },
       "content": {
        "cell": "a9ae8bc9-4f1b-4c59-9aa9-4e2be56102ea",
        "part": "whole"
       },
       "id": "01915b4a-43aa-42bd-9c5a-3bb2bc56ccff"
      }
     }
    },
    "db788ea2-6d4c-4ace-970b-017ad1fe062e": {
     "id": "db788ea2-6d4c-4ace-970b-017ad1fe062e",
     "prev": "309657b9-f6ee-4e71-8132-cd3266bdbcaa",
     "regions": {
      "af1e583e-da8e-41f2-ba2b-7cad1aa1cc87": {
       "attrs": {
        "height": 0.8,
        "width": 0.8,
        "x": 0.1,
        "y": 0.1
       },
       "content": {
        "cell": "f4fa3e31-e472-471b-85a7-ccdb0d69a091",
        "part": "whole"
       },
       "id": "af1e583e-da8e-41f2-ba2b-7cad1aa1cc87"
      }
     }
    },
    "dd25ac00-7a3a-4fb1-b110-c1f3cfdd1e9a": {
     "id": "dd25ac00-7a3a-4fb1-b110-c1f3cfdd1e9a",
     "prev": "9aed8c7a-5104-4350-9f6b-c9b1a92de40c",
     "regions": {
      "cf43956f-307d-4468-8add-f645d0327ac3": {
       "attrs": {
        "height": 0.8,
        "width": 0.8,
        "x": 0.1,
        "y": 0.1
       },
       "content": {
        "cell": "18c45a4b-3e89-41cb-a2ce-096f782b1fd9",
        "part": "whole"
       },
       "id": "cf43956f-307d-4468-8add-f645d0327ac3"
      }
     }
    },
    "de0ecb64-85de-4602-aeed-e83fdc0f1dbd": {
     "id": "de0ecb64-85de-4602-aeed-e83fdc0f1dbd",
     "prev": "4a118153-7651-4eab-9cb9-c25d03c850af",
     "regions": {
      "9c55578c-978c-42f3-b8c6-101b075d43af": {
       "attrs": {
        "height": 0.8,
        "width": 0.8,
        "x": 0.1,
        "y": 0.1
       },
       "content": {
        "cell": "01f4b75b-ba18-44de-b76e-fe388c021c1c",
        "part": "whole"
       },
       "id": "9c55578c-978c-42f3-b8c6-101b075d43af"
      }
     }
    },
    "e3d2ba5d-7601-48e3-8261-71a61ea3ebdf": {
     "id": "e3d2ba5d-7601-48e3-8261-71a61ea3ebdf",
     "prev": "5ce0eebb-1b3a-490f-9dc6-834ad6a19d8d",
     "regions": {
      "29631338-b5fa-48c3-a18c-4519ff6c6c51": {
       "attrs": {
        "height": 0.8,
        "width": 0.8,
        "x": 0.1,
        "y": 0.1
       },
       "content": {
        "cell": "e9727a53-4edd-40c8-8f76-c90f22d85502",
        "part": "whole"
       },
       "id": "29631338-b5fa-48c3-a18c-4519ff6c6c51"
      }
     }
    },
    "edbf5950-af04-4658-9dfd-71f978ed7fbb": {
     "id": "edbf5950-af04-4658-9dfd-71f978ed7fbb",
     "prev": "8f861e2a-dff6-436d-956f-a0a4457a39b3",
     "regions": {
      "29ba1bce-b893-46c9-af02-db78f98e304e": {
       "attrs": {
        "height": 0.8,
        "width": 0.8,
        "x": 0.1,
        "y": 0.1
       },
       "content": {
        "cell": "736a3e76-b4e0-4025-b8a1-f9756874b8f5",
        "part": "whole"
       },
       "id": "29ba1bce-b893-46c9-af02-db78f98e304e"
      }
     }
    },
    "f05b0527-4449-4ff4-8b3e-e44e98b5bf46": {
     "id": "f05b0527-4449-4ff4-8b3e-e44e98b5bf46",
     "prev": "3e19f7d7-da34-4176-9a6c-a145106cdc05",
     "regions": {
      "d718f8f8-0956-4667-888b-a0f3355cd89f": {
       "attrs": {
        "height": 0.8,
        "width": 0.8,
        "x": 0.1,
        "y": 0.1
       },
       "content": {
        "cell": "9ee93c47-d72e-463a-baa8-06593c829800",
        "part": "whole"
       },
       "id": "d718f8f8-0956-4667-888b-a0f3355cd89f"
      }
     }
    },
    "f0de07f5-e494-4367-950e-a455dd144697": {
     "id": "f0de07f5-e494-4367-950e-a455dd144697",
     "prev": "f4ed52ad-2e8f-4839-8d8d-67f0944b0c7b",
     "regions": {
      "ad0d6d5f-2b77-42fe-aa7c-0772d69a2689": {
       "attrs": {
        "height": 0.8,
        "width": 0.8,
        "x": 0.1,
        "y": 0.1
       },
       "content": {
        "cell": "08599438-70fb-473f-9ccb-8bdd76877f91",
        "part": "whole"
       },
       "id": "ad0d6d5f-2b77-42fe-aa7c-0772d69a2689"
      }
     }
    },
    "f4ed52ad-2e8f-4839-8d8d-67f0944b0c7b": {
     "id": "f4ed52ad-2e8f-4839-8d8d-67f0944b0c7b",
     "prev": "1327957e-12f6-4463-9046-e65e95983950",
     "regions": {
      "1833756f-e4cb-4c9c-8511-cfea1e4be291": {
       "attrs": {
        "height": 0.8,
        "width": 0.8,
        "x": 0.1,
        "y": 0.1
       },
       "content": {
        "cell": "daa9c427-dccc-48af-aecf-e96a0bccebe0",
        "part": "whole"
       },
       "id": "1833756f-e4cb-4c9c-8511-cfea1e4be291"
      }
     }
    },
    "fabbcbb2-a472-4d71-9e77-a7d5b62886b6": {
     "id": "fabbcbb2-a472-4d71-9e77-a7d5b62886b6",
     "prev": null,
     "regions": {
      "e260e06f-688c-4a86-b086-91be3fc7c123": {
       "attrs": {
        "height": 0.8,
        "width": 0.8,
        "x": 0.1,
        "y": 0.1
       },
       "content": {
        "cell": "e36a3822-0ae2-448a-bfea-c4deb58bd608",
        "part": "whole"
       },
       "id": "e260e06f-688c-4a86-b086-91be3fc7c123"
      }
     }
    },
    "fb6e0e2f-01a1-424d-80d8-05c43d3b0f17": {
     "id": "fb6e0e2f-01a1-424d-80d8-05c43d3b0f17",
     "prev": "fc17aed9-4bc2-4f8e-b841-ddf91fb63e68",
     "regions": {
      "3a30f694-8a9c-4927-84e7-475383cb9655": {
       "attrs": {
        "height": 0.8,
        "width": 0.8,
        "x": 0.1,
        "y": 0.1
       },
       "content": {
        "cell": "ff1005ea-5e57-4f62-a5e9-6c3a80e5fc10",
        "part": "whole"
       },
       "id": "3a30f694-8a9c-4927-84e7-475383cb9655"
      }
     }
    },
    "fc17aed9-4bc2-4f8e-b841-ddf91fb63e68": {
     "id": "fc17aed9-4bc2-4f8e-b841-ddf91fb63e68",
     "prev": "0c932177-c0bb-44aa-8085-2de5c97c9640",
     "regions": {
      "4119db55-af6a-47a6-a973-9b743106f076": {
       "attrs": {
        "height": 0.8,
        "width": 0.8,
        "x": 0.1,
        "y": 0.1
       },
       "content": {
        "cell": "2c9d2cd5-be0c-4d06-9272-f2a1e41fc88f",
        "part": "whole"
       },
       "id": "4119db55-af6a-47a6-a973-9b743106f076"
      }
     }
    },
    "ff32b137-50ed-4954-a959-732b259af96d": {
     "id": "ff32b137-50ed-4954-a959-732b259af96d",
     "prev": "dd25ac00-7a3a-4fb1-b110-c1f3cfdd1e9a",
     "regions": {
      "666bbaa6-32ea-491f-aee3-ab46377e22b5": {
       "attrs": {
        "height": 0.8,
        "width": 0.8,
        "x": 0.1,
        "y": 0.1
       },
       "content": {
        "cell": "07d377bd-7e4b-4ae1-8fe9-6dea3a4ac5f3",
        "part": "whole"
       },
       "id": "666bbaa6-32ea-491f-aee3-ab46377e22b5"
      }
     }
    },
    "ffac1a70-528e-4a9c-8a6c-24b8171e40f8": {
     "id": "ffac1a70-528e-4a9c-8a6c-24b8171e40f8",
     "prev": "2a1874ea-e067-494d-86fc-3d15cec0f738",
     "regions": {
      "06db7a50-8017-468f-8717-294f288d4bdc": {
       "attrs": {
        "height": 0.8,
        "width": 0.8,
        "x": 0.1,
        "y": 0.1
       },
       "content": {
        "cell": "40075d4f-b842-4b7c-b8cf-957c15d67cd8",
        "part": "whole"
       },
       "id": "06db7a50-8017-468f-8717-294f288d4bdc"
      }
     }
    }
   },
   "themes": {
    "default": "df0cb85a-359b-4f69-9332-9e387fffdf4e",
    "theme": {
     "df0cb85a-359b-4f69-9332-9e387fffdf4e": {
      "id": "df0cb85a-359b-4f69-9332-9e387fffdf4e",
      "palette": {
       "19cc588f-0593-49c9-9f4b-e4d7cc113b1c": {
        "id": "19cc588f-0593-49c9-9f4b-e4d7cc113b1c",
        "rgb": [
         252,
         252,
         252
        ]
       },
       "31af15d2-7e15-44c5-ab5e-e04b16a89eff": {
        "id": "31af15d2-7e15-44c5-ab5e-e04b16a89eff",
        "rgb": [
         68,
         68,
         68
        ]
       },
       "50f92c45-a630-455b-aec3-788680ec7410": {
        "id": "50f92c45-a630-455b-aec3-788680ec7410",
        "rgb": [
         155,
         177,
         192
        ]
       },
       "c5cc3653-2ee1-402a-aba2-7caae1da4f6c": {
        "id": "c5cc3653-2ee1-402a-aba2-7caae1da4f6c",
        "rgb": [
         43,
         126,
         184
        ]
       },
       "efa7f048-9acb-414c-8b04-a26811511a21": {
        "id": "efa7f048-9acb-414c-8b04-a26811511a21",
        "rgb": [
         25.118061674008803,
         73.60176211453744,
         107.4819383259912
        ]
       }
      },
      "rules": {
       "blockquote": {
        "color": "50f92c45-a630-455b-aec3-788680ec7410"
       },
       "code": {
        "font-family": "Anonymous Pro"
       },
       "h1": {
        "color": "c5cc3653-2ee1-402a-aba2-7caae1da4f6c",
        "font-family": "Lato",
        "font-size": 8
       },
       "h2": {
        "color": "c5cc3653-2ee1-402a-aba2-7caae1da4f6c",
        "font-family": "Lato",
        "font-size": 6
       },
       "h3": {
        "color": "50f92c45-a630-455b-aec3-788680ec7410",
        "font-family": "Lato",
        "font-size": 5.5
       },
       "h4": {
        "color": "c5cc3653-2ee1-402a-aba2-7caae1da4f6c",
        "font-family": "Lato",
        "font-size": 5
       },
       "h5": {
        "font-family": "Lato"
       },
       "h6": {
        "font-family": "Lato"
       },
       "h7": {
        "font-family": "Lato"
       },
       "pre": {
        "font-family": "Anonymous Pro",
        "font-size": 4
       }
      },
      "text-base": {
       "font-family": "Merriweather",
       "font-size": 4
      }
     }
    }
   }
  }
 },
 "nbformat": 4,
 "nbformat_minor": 2
}
