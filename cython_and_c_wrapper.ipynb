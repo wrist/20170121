{
 "cells": [
  {
   "cell_type": "markdown",
   "metadata": {
    "nbpresent": {
     "id": "e36a3822-0ae2-448a-bfea-c4deb58bd608"
    }
   },
   "source": [
    "# Cythonによる高速化とC/C++とPythonの連携 #\n",
    "\n",
    "大橋 宏正\n",
    "twitter, github: @wrist"
   ]
  },
  {
   "cell_type": "markdown",
   "metadata": {
    "nbpresent": {
     "id": "b8ad4a2d-9d4d-470f-ac19-9ecf6bcd9199"
    }
   },
   "source": [
    "## 自己紹介 ##\n",
    "\n",
    "* 収音系の音響信号処理処理が専門のエンジニアです(某メーカー勤務)\n",
    "* よく使う標準モジュール\n",
    "    * StringIO\n",
    "    * wave"
   ]
  },
  {
   "cell_type": "markdown",
   "metadata": {
    "nbpresent": {
     "id": "18c45a4b-3e89-41cb-a2ce-096f782b1fd9"
    }
   },
   "source": [
    "## 宣伝 ##\n",
    "\n",
    "* 書籍「行列プログラマー」のオンライン読書会をやっています\n",
    "* https://osaka-prml-reading.connpass.com/event/48885/\n",
    "* 毎週土曜夜21:00-23:00に開催\n",
    "* トチ狂って本日21時からもやることになっています"
   ]
  },
  {
   "cell_type": "markdown",
   "metadata": {},
   "source": [
    "## 本日の資料 ##\n",
    "\n",
    "* https://github.com/wrist/pydata-osaka3"
   ]
  },
  {
   "cell_type": "markdown",
   "metadata": {
    "nbpresent": {
     "id": "e9727a53-4edd-40c8-8f76-c90f22d85502"
    }
   },
   "source": [
    "## 今回の発表の背景 ##\n",
    "\n",
    "* 業務上Pythonでアルゴリズム検討の上、C/C++でプロトタイプ実装を行うことが多い\n",
    "* 今回の発表の個人的な目的\n",
    "    * アルゴリズム検討の高速化\n",
    "        * 信号処理はサンプル/フレーム単位の積和処理ばかりだがPythonだとループが遅い\n",
    "    * 既存C/C++資産の活用"
   ]
  },
  {
   "cell_type": "markdown",
   "metadata": {
    "nbpresent": {
     "id": "f9ee206e-9e82-405b-b6eb-af7fff95ea8f"
    }
   },
   "source": [
    "## Cythonとは ##\n",
    "\n",
    "* PythonとC/C++レベルでの静的型付けを混在可能な言語\n",
    "    * コンパイルするとPython/C APIを使用するC/C++コードを生成\n",
    "    * 生成されたC/C++コードをビルドするとPythonから使用可能な拡張モジュールを生成\n",
    "* 使用目的\n",
    "    * 静的型付けによる最適化・高速化\n",
    "    * C/C++とのグルー言語"
   ]
  },
  {
   "cell_type": "markdown",
   "metadata": {},
   "source": [
    "## cython.orgのトップページから引用・意訳 ##\n",
    "\n",
    "* http://cython.org/\n",
    "*  CythonではPythonとCの融合によって以下のようなことを可能とする\n",
    "    * C/C++で書かれたネイティブコードを呼ぶPythonコードを書く\n",
    "    * 簡単に静的な型定義を可読性の高いPythonコードに加えることによってCのパフォーマンスを得る\n",
    "    * Python、Cython, Cのコード中のバグを見つけるために結合したコードレベルでのデバックを行う???\n",
    "    * 多次元Numpy配列のような大きなデータセットに対しても効率的なやり取りが可能\n",
    "    * CPythonに対する広く成熟したエコシステムを活用可能\n",
    "    * 既存のネイティブコードや、低レベル・ハイパフォ―マンスなライブラリやアプリを統合可能"
   ]
  },
  {
   "cell_type": "markdown",
   "metadata": {
    "nbpresent": {
     "id": "33fcd6fc-788e-481a-9724-5770ee85b571"
    }
   },
   "source": [
    "## どこで使われているか ##\n",
    "\n",
    "* オライリーのCython本P.71より引用\n",
    "    * 2014年のデータなので現在は異なる筈\n",
    "    * https://github.com/cython/cython/wiki/projects にも情報あり\n",
    "\n",
    "<img src=\"./img/where_uses_cython.png\" />"
   ]
  },
  {
   "cell_type": "markdown",
   "metadata": {
    "nbpresent": {
     "id": "95e0f85a-fbdf-422a-b87b-8e572b59377b"
    }
   },
   "source": [
    "## インストール ##\n",
    "\n",
    "* `pip install cython`\n",
    "* `conda install cython`\n",
    "    * anacondaなら最初から入っている筈"
   ]
  },
  {
   "cell_type": "markdown",
   "metadata": {},
   "source": [
    "## Cythonの実際の例 ##\n",
    "\n",
    "* フィボナッチ数列を求めるPythonコードをCython化"
   ]
  },
  {
   "cell_type": "code",
   "execution_count": 1,
   "metadata": {
    "collapsed": true
   },
   "outputs": [],
   "source": [
    "# Pythonで書いたフィボナッチ数列\n",
    "def fib(n):\n",
    "    a, b = 0, 1\n",
    "    for i in range(n):\n",
    "        a, b = a + b,  a\n",
    "    return a"
   ]
  },
  {
   "cell_type": "code",
   "execution_count": 2,
   "metadata": {
    "collapsed": false
   },
   "outputs": [
    {
     "data": {
      "text/plain": [
       "12586269025"
      ]
     },
     "execution_count": 2,
     "metadata": {},
     "output_type": "execute_result"
    }
   ],
   "source": [
    "fib(50)"
   ]
  },
  {
   "cell_type": "code",
   "execution_count": 3,
   "metadata": {
    "collapsed": false
   },
   "outputs": [
    {
     "name": "stdout",
     "output_type": "stream",
     "text": [
      "100000 loops, best of 3: 4.41 µs per loop\n"
     ]
    }
   ],
   "source": [
    "%timeit fib(50)"
   ]
  },
  {
   "cell_type": "code",
   "execution_count": 4,
   "metadata": {
    "collapsed": true
   },
   "outputs": [],
   "source": [
    "%load_ext cython"
   ]
  },
  {
   "cell_type": "code",
   "execution_count": 5,
   "metadata": {
    "collapsed": false
   },
   "outputs": [],
   "source": [
    "%%cython\n",
    "# .pyxファイルの中身に相当\n",
    "def c_fib(long n):\n",
    "    cdef long i, a, b\n",
    "    a, b = 0, 1\n",
    "    for i in range(n):\n",
    "        a, b = a + b, a\n",
    "    return a"
   ]
  },
  {
   "cell_type": "code",
   "execution_count": 6,
   "metadata": {
    "collapsed": false
   },
   "outputs": [
    {
     "data": {
      "text/plain": [
       "12586269025"
      ]
     },
     "execution_count": 6,
     "metadata": {},
     "output_type": "execute_result"
    }
   ],
   "source": [
    "# python側から呼べる\n",
    "c_fib(50)"
   ]
  },
  {
   "cell_type": "code",
   "execution_count": 7,
   "metadata": {
    "collapsed": false
   },
   "outputs": [
    {
     "name": "stdout",
     "output_type": "stream",
     "text": [
      "The slowest run took 22.00 times longer than the fastest. This could mean that an intermediate result is being cached.\n",
      "10000000 loops, best of 3: 114 ns per loop\n"
     ]
    }
   ],
   "source": [
    "%timeit c_fib(50)"
   ]
  },
  {
   "cell_type": "markdown",
   "metadata": {
    "nbpresent": {
     "id": "097847c0-89e5-4193-a062-1977b128921b"
    }
   },
   "source": [
    "## 動作イメージ ##\n",
    "\n",
    "<img src=\"./img/build_flow.png\" />"
   ]
  },
  {
   "cell_type": "markdown",
   "metadata": {},
   "source": [
    "## 手動でのコンパイルおよびビルド ##\n",
    "\n",
    "* https://cython.readthedocs.io/en/latest/src/reference/compilation.html\n",
    "* `cython`コマンドで`.pyx`ファイルをコンパイル\n",
    "    * `cython -a yourmod.pyx`\n",
    "* `.pyx`ファイルをダイナミックライブラリとしてビルド\n",
    "    * `gcc -shared -pthread -fPIC -fwrapv -O2 -Wall -fno-strict-aliasing \\\n",
    "      -I/usr/include/python2.7 -o yourmod.so yourmod.c`"
   ]
  },
  {
   "cell_type": "code",
   "execution_count": 8,
   "metadata": {
    "collapsed": false
   },
   "outputs": [
    {
     "name": "stdout",
     "output_type": "stream",
     "text": [
      "cython_and_c_wrapper.ipynb \u001b[36mpysndfile\u001b[m\u001b[m\r\n",
      "\u001b[36mdocker\u001b[m\u001b[m                     readme.md\r\n",
      "\u001b[36mimg\u001b[m\u001b[m                        \u001b[36mrectangle\u001b[m\u001b[m\r\n"
     ]
    }
   ],
   "source": [
    "!ls"
   ]
  },
  {
   "cell_type": "code",
   "execution_count": 9,
   "metadata": {
    "collapsed": false
   },
   "outputs": [
    {
     "name": "stdout",
     "output_type": "stream",
     "text": [
      "Writing c_fib.pyx\n"
     ]
    }
   ],
   "source": [
    "%%writefile c_fib.pyx\n",
    "def c_fib(long n):\n",
    "    cdef long i, a, b\n",
    "    a, b = 0, 1\n",
    "    for i in range(n):\n",
    "        a, b = a + b, a\n",
    "    return a"
   ]
  },
  {
   "cell_type": "code",
   "execution_count": 10,
   "metadata": {
    "collapsed": true
   },
   "outputs": [],
   "source": [
    "!cython c_fib.pyx"
   ]
  },
  {
   "cell_type": "code",
   "execution_count": 11,
   "metadata": {
    "collapsed": false
   },
   "outputs": [
    {
     "name": "stdout",
     "output_type": "stream",
     "text": [
      "c_fib.c                    \u001b[36mimg\u001b[m\u001b[m\r\n",
      "c_fib.pyx                  \u001b[36mpysndfile\u001b[m\u001b[m\r\n",
      "cython_and_c_wrapper.ipynb readme.md\r\n",
      "\u001b[36mdocker\u001b[m\u001b[m                     \u001b[36mrectangle\u001b[m\u001b[m\r\n"
     ]
    }
   ],
   "source": [
    "!ls"
   ]
  },
  {
   "cell_type": "markdown",
   "metadata": {},
   "source": [
    "生成されたc_fib.cをダイナミックライブラリとしてビルドすることで拡張モジュールを作成可能"
   ]
  },
  {
   "cell_type": "markdown",
   "metadata": {
    "nbpresent": {
     "id": "721f3d8d-b41b-4f6c-a151-ce3c9beef84e"
    }
   },
   "source": [
    "## 代表的なビルド方法 ##\n",
    "\n",
    "* IPythonの`%%cython`マジックコマンド\n",
    "    * セルの内容をpyxファイルとみなしてその場でコンパイル\n",
    "* `import pyximport; pyximport.install()`\n",
    "    * 現在のディレクトリ配下にあるpyxファイルをコンパイル\n",
    "* ビルドスクリプト`setup.py`を記述(後述)\n",
    "    * `python setup.py build_ext --inplace`"
   ]
  },
  {
   "cell_type": "markdown",
   "metadata": {},
   "source": [
    "## 本日の内容 ##\n",
    "\n",
    "* `%%cython`マジックコマンドによるJupyter notebook上での高速化\n",
    "    * timeitによる計測とアノテーションによるボトルネック把握を通じた改善\n",
    "* Cコードに対するラッパー作成方法の紹介\n",
    "    * Audio IOライブラリ`libsndfile`に対する簡易Cラッパーの作成\n",
    "* C++コードに対するラッパー作成方法の紹介\n",
    "    * 公式ドキュメントの内容"
   ]
  },
  {
   "cell_type": "markdown",
   "metadata": {},
   "source": [
    "# `%%cython`マジックコマンドによるJupyter上での高速化 #"
   ]
  },
  {
   "cell_type": "code",
   "execution_count": null,
   "metadata": {
    "collapsed": true
   },
   "outputs": [],
   "source": []
  },
  {
   "cell_type": "markdown",
   "metadata": {},
   "source": [
    "## staicライブラリやdynamicライブラリの使用 ##\n",
    "\n",
    "* Extensionを作成するときの引数に指定可能\n",
    "* static library\n",
    "    * extra_objects\n",
    "* dynamic library\n",
    "    * libraries"
   ]
  },
  {
   "cell_type": "markdown",
   "metadata": {},
   "source": [
    "### ラッパーを手で書くのがめんどくさい ###\n",
    "\n",
    "* 自動化ツールが存在\n",
    "    * https://github.com/cython/cython/wiki/AutoPxd\n",
    "    * メンテされているプロジェクトがあまりない印象"
   ]
  },
  {
   "cell_type": "code",
   "execution_count": null,
   "metadata": {
    "collapsed": true
   },
   "outputs": [],
   "source": []
  },
  {
   "cell_type": "markdown",
   "metadata": {},
   "source": [
    "## 情報 ##\n",
    "\n",
    "* wiki https://github.com/cython/cython/wiki\n",
    "* document\n",
    "    * 和訳されたものもあるがバージョンが古い(17.1)ため注意\n",
    "* オライリーのcython本"
   ]
  }
 ],
 "metadata": {
  "anaconda-cloud": {},
  "kernelspec": {
   "display_name": "Python [conda env:scientific]",
   "language": "python",
   "name": "conda-env-scientific-py"
  },
  "language_info": {
   "codemirror_mode": {
    "name": "ipython",
    "version": 3
   },
   "file_extension": ".py",
   "mimetype": "text/x-python",
   "name": "python",
   "nbconvert_exporter": "python",
   "pygments_lexer": "ipython3",
   "version": "3.5.2"
  },
  "nbpresent": {
   "slides": {
    "1ea327c0-1c7c-4682-816e-1c75bffb3e44": {
     "id": "1ea327c0-1c7c-4682-816e-1c75bffb3e44",
     "prev": "74223a09-37d9-4ad9-87b3-2f0376011395",
     "regions": {
      "3a9a3ac2-702f-4033-947f-bfca5f198123": {
       "attrs": {
        "height": 0.8,
        "width": 0.8,
        "x": 0.1,
        "y": 0.1
       },
       "content": {
        "cell": "18c45a4b-3e89-41cb-a2ce-096f782b1fd9",
        "part": "whole"
       },
       "id": "3a9a3ac2-702f-4033-947f-bfca5f198123"
      }
     }
    },
    "3b83725a-ffb5-45b2-aa73-49aaa1ced362": {
     "id": "3b83725a-ffb5-45b2-aa73-49aaa1ced362",
     "prev": "aef9426f-5ca2-44a6-882e-3feef8adaa76",
     "regions": {
      "24db3c26-3fa2-4104-8346-70593bb9fed0": {
       "attrs": {
        "height": 0.8,
        "width": 0.8,
        "x": 0.1,
        "y": 0.1
       },
       "content": {
        "cell": "721f3d8d-b41b-4f6c-a151-ce3c9beef84e",
        "part": "whole"
       },
       "id": "24db3c26-3fa2-4104-8346-70593bb9fed0"
      }
     }
    },
    "74223a09-37d9-4ad9-87b3-2f0376011395": {
     "id": "74223a09-37d9-4ad9-87b3-2f0376011395",
     "prev": "f7d90d52-87df-48a5-8a5d-aa925931cb27",
     "regions": {
      "644f4c0b-73f7-4a39-8d27-bfe841019d40": {
       "attrs": {
        "height": 0.8,
        "width": 0.8,
        "x": 0.1,
        "y": 0.1
       },
       "content": {
        "cell": "b8ad4a2d-9d4d-470f-ac19-9ecf6bcd9199",
        "part": "whole"
       },
       "id": "644f4c0b-73f7-4a39-8d27-bfe841019d40"
      }
     }
    },
    "808259b1-8676-4d34-8191-d4411695cbda": {
     "id": "808259b1-8676-4d34-8191-d4411695cbda",
     "prev": "cf1884ba-ebb9-4545-aad5-7fb272350f6d",
     "regions": {
      "913e2082-c131-401b-88eb-8c39ddab842c": {
       "attrs": {
        "height": 0.8,
        "width": 0.8,
        "x": 0.1,
        "y": 0.1
       },
       "content": {
        "cell": "f9ee206e-9e82-405b-b6eb-af7fff95ea8f",
        "part": "whole"
       },
       "id": "913e2082-c131-401b-88eb-8c39ddab842c"
      }
     }
    },
    "9acc5009-3ae4-420b-9c4e-1f12787f1031": {
     "id": "9acc5009-3ae4-420b-9c4e-1f12787f1031",
     "prev": "f046e762-bbfd-4085-bc0d-bb7005371a4e",
     "regions": {
      "62bd68a5-0c5e-4222-94e4-68828a11a04b": {
       "attrs": {
        "height": 0.8,
        "width": 0.8,
        "x": 0.1,
        "y": 0.1
       },
       "content": {
        "cell": "95e0f85a-fbdf-422a-b87b-8e572b59377b",
        "part": "whole"
       },
       "id": "62bd68a5-0c5e-4222-94e4-68828a11a04b"
      }
     }
    },
    "aef9426f-5ca2-44a6-882e-3feef8adaa76": {
     "id": "aef9426f-5ca2-44a6-882e-3feef8adaa76",
     "prev": "9acc5009-3ae4-420b-9c4e-1f12787f1031",
     "regions": {
      "bcb2af1b-46ed-4f33-9ecc-bcc56381b879": {
       "attrs": {
        "height": 0.8,
        "width": 0.8,
        "x": 0.1,
        "y": 0.1
       },
       "content": {
        "cell": "097847c0-89e5-4193-a062-1977b128921b",
        "part": "whole"
       },
       "id": "bcb2af1b-46ed-4f33-9ecc-bcc56381b879"
      }
     }
    },
    "cf1884ba-ebb9-4545-aad5-7fb272350f6d": {
     "id": "cf1884ba-ebb9-4545-aad5-7fb272350f6d",
     "prev": "1ea327c0-1c7c-4682-816e-1c75bffb3e44",
     "regions": {
      "f3cc5420-b384-4d8c-b2f8-74e172285235": {
       "attrs": {
        "height": 0.8,
        "width": 0.8,
        "x": 0.1,
        "y": 0.1
       },
       "content": {
        "cell": "e9727a53-4edd-40c8-8f76-c90f22d85502",
        "part": "whole"
       },
       "id": "f3cc5420-b384-4d8c-b2f8-74e172285235"
      }
     }
    },
    "f046e762-bbfd-4085-bc0d-bb7005371a4e": {
     "id": "f046e762-bbfd-4085-bc0d-bb7005371a4e",
     "prev": "808259b1-8676-4d34-8191-d4411695cbda",
     "regions": {
      "f5f4ec10-d65c-4539-aad5-8529140179d0": {
       "attrs": {
        "height": 0.8,
        "width": 0.8,
        "x": 0.1,
        "y": 0.1
       },
       "content": {
        "cell": "33fcd6fc-788e-481a-9724-5770ee85b571",
        "part": "whole"
       },
       "id": "f5f4ec10-d65c-4539-aad5-8529140179d0"
      }
     }
    },
    "f7d90d52-87df-48a5-8a5d-aa925931cb27": {
     "id": "f7d90d52-87df-48a5-8a5d-aa925931cb27",
     "prev": null,
     "regions": {
      "618a2d0d-70d0-413f-8183-a1ca691604e5": {
       "attrs": {
        "height": 0.8,
        "width": 0.8,
        "x": 0.1,
        "y": 0.1
       },
       "content": {
        "cell": "e36a3822-0ae2-448a-bfea-c4deb58bd608",
        "part": "whole"
       },
       "id": "618a2d0d-70d0-413f-8183-a1ca691604e5"
      }
     }
    }
   },
   "themes": {
    "default": "df0cb85a-359b-4f69-9332-9e387fffdf4e",
    "theme": {
     "df0cb85a-359b-4f69-9332-9e387fffdf4e": {
      "id": "df0cb85a-359b-4f69-9332-9e387fffdf4e",
      "palette": {
       "19cc588f-0593-49c9-9f4b-e4d7cc113b1c": {
        "id": "19cc588f-0593-49c9-9f4b-e4d7cc113b1c",
        "rgb": [
         252,
         252,
         252
        ]
       },
       "31af15d2-7e15-44c5-ab5e-e04b16a89eff": {
        "id": "31af15d2-7e15-44c5-ab5e-e04b16a89eff",
        "rgb": [
         68,
         68,
         68
        ]
       },
       "50f92c45-a630-455b-aec3-788680ec7410": {
        "id": "50f92c45-a630-455b-aec3-788680ec7410",
        "rgb": [
         155,
         177,
         192
        ]
       },
       "c5cc3653-2ee1-402a-aba2-7caae1da4f6c": {
        "id": "c5cc3653-2ee1-402a-aba2-7caae1da4f6c",
        "rgb": [
         43,
         126,
         184
        ]
       },
       "efa7f048-9acb-414c-8b04-a26811511a21": {
        "id": "efa7f048-9acb-414c-8b04-a26811511a21",
        "rgb": [
         25.118061674008803,
         73.60176211453744,
         107.4819383259912
        ]
       }
      },
      "rules": {
       "blockquote": {
        "color": "50f92c45-a630-455b-aec3-788680ec7410"
       },
       "code": {
        "font-family": "Anonymous Pro"
       },
       "h1": {
        "color": "c5cc3653-2ee1-402a-aba2-7caae1da4f6c",
        "font-family": "Lato",
        "font-size": 8
       },
       "h2": {
        "color": "c5cc3653-2ee1-402a-aba2-7caae1da4f6c",
        "font-family": "Lato",
        "font-size": 6
       },
       "h3": {
        "color": "50f92c45-a630-455b-aec3-788680ec7410",
        "font-family": "Lato",
        "font-size": 5.5
       },
       "h4": {
        "color": "c5cc3653-2ee1-402a-aba2-7caae1da4f6c",
        "font-family": "Lato",
        "font-size": 5
       },
       "h5": {
        "font-family": "Lato"
       },
       "h6": {
        "font-family": "Lato"
       },
       "h7": {
        "font-family": "Lato"
       },
       "pre": {
        "font-family": "Anonymous Pro",
        "font-size": 4
       }
      },
      "text-base": {
       "font-family": "Merriweather",
       "font-size": 4
      }
     }
    }
   }
  }
 },
 "nbformat": 4,
 "nbformat_minor": 2
}
